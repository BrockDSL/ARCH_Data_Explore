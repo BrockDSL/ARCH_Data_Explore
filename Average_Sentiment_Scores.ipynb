{
  "nbformat": 4,
  "nbformat_minor": 0,
  "metadata": {
    "colab": {
      "provenance": [],
      "collapsed_sections": []
    },
    "kernelspec": {
      "name": "python3",
      "display_name": "Python 3"
    },
    "language_info": {
      "name": "python"
    },
    "widgets": {
      "application/vnd.jupyter.widget-state+json": {
        "415e97aec6384cdaa4c12547b05f667f": {
          "model_module": "@jupyter-widgets/controls",
          "model_name": "VBoxModel",
          "model_module_version": "1.5.0",
          "state": {
            "_dom_classes": [
              "widget-interact"
            ],
            "_model_module": "@jupyter-widgets/controls",
            "_model_module_version": "1.5.0",
            "_model_name": "VBoxModel",
            "_view_count": null,
            "_view_module": "@jupyter-widgets/controls",
            "_view_module_version": "1.5.0",
            "_view_name": "VBoxView",
            "box_style": "",
            "children": [
              "IPY_MODEL_70d3dc08343d4ca38e4f8f291cc3bd1b",
              "IPY_MODEL_078277646d7f42a0bd6d29df667208e6"
            ],
            "layout": "IPY_MODEL_5d8f5207406e462e8341c3d029a47c71"
          }
        },
        "70d3dc08343d4ca38e4f8f291cc3bd1b": {
          "model_module": "@jupyter-widgets/controls",
          "model_name": "DropdownModel",
          "model_module_version": "1.5.0",
          "state": {
            "_dom_classes": [],
            "_model_module": "@jupyter-widgets/controls",
            "_model_module_version": "1.5.0",
            "_model_name": "DropdownModel",
            "_options_labels": [
              "stcatharines.ca",
              "westlincoln.ca",
              "welland.ca",
              "grimsby.ca",
              "niagararegion.ca",
              "niagarafalls.ca",
              "pelham.ca",
              "thorold.ca",
              "lincoln.ca",
              "forterie.ca",
              "wainfleet.ca",
              "portcolborne.ca",
              "notl.com"
            ],
            "_view_count": null,
            "_view_module": "@jupyter-widgets/controls",
            "_view_module_version": "1.5.0",
            "_view_name": "DropdownView",
            "description": "domain",
            "description_tooltip": null,
            "disabled": false,
            "index": 0,
            "layout": "IPY_MODEL_f46296efe43f4836bfb7d4be271141af",
            "style": "IPY_MODEL_ba81d1d53ead4cb78ddc821d14de96b8"
          }
        },
        "078277646d7f42a0bd6d29df667208e6": {
          "model_module": "@jupyter-widgets/output",
          "model_name": "OutputModel",
          "model_module_version": "1.0.0",
          "state": {
            "_dom_classes": [],
            "_model_module": "@jupyter-widgets/output",
            "_model_module_version": "1.0.0",
            "_model_name": "OutputModel",
            "_view_count": null,
            "_view_module": "@jupyter-widgets/output",
            "_view_module_version": "1.0.0",
            "_view_name": "OutputView",
            "layout": "IPY_MODEL_f4c3bf4483924090a2b4d50591f4aa69",
            "msg_id": "",
            "outputs": [
              {
                "output_type": "display_data",
                "data": {
                  "text/plain": "<Figure size 864x576 with 1 Axes>",
                  "image/png": "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\n"
                },
                "metadata": {
                  "needs_background": "light"
                }
              }
            ]
          }
        },
        "5d8f5207406e462e8341c3d029a47c71": {
          "model_module": "@jupyter-widgets/base",
          "model_name": "LayoutModel",
          "model_module_version": "1.2.0",
          "state": {
            "_model_module": "@jupyter-widgets/base",
            "_model_module_version": "1.2.0",
            "_model_name": "LayoutModel",
            "_view_count": null,
            "_view_module": "@jupyter-widgets/base",
            "_view_module_version": "1.2.0",
            "_view_name": "LayoutView",
            "align_content": null,
            "align_items": null,
            "align_self": null,
            "border": null,
            "bottom": null,
            "display": null,
            "flex": null,
            "flex_flow": null,
            "grid_area": null,
            "grid_auto_columns": null,
            "grid_auto_flow": null,
            "grid_auto_rows": null,
            "grid_column": null,
            "grid_gap": null,
            "grid_row": null,
            "grid_template_areas": null,
            "grid_template_columns": null,
            "grid_template_rows": null,
            "height": null,
            "justify_content": null,
            "justify_items": null,
            "left": null,
            "margin": null,
            "max_height": null,
            "max_width": null,
            "min_height": null,
            "min_width": null,
            "object_fit": null,
            "object_position": null,
            "order": null,
            "overflow": null,
            "overflow_x": null,
            "overflow_y": null,
            "padding": null,
            "right": null,
            "top": null,
            "visibility": null,
            "width": null
          }
        },
        "f46296efe43f4836bfb7d4be271141af": {
          "model_module": "@jupyter-widgets/base",
          "model_name": "LayoutModel",
          "model_module_version": "1.2.0",
          "state": {
            "_model_module": "@jupyter-widgets/base",
            "_model_module_version": "1.2.0",
            "_model_name": "LayoutModel",
            "_view_count": null,
            "_view_module": "@jupyter-widgets/base",
            "_view_module_version": "1.2.0",
            "_view_name": "LayoutView",
            "align_content": null,
            "align_items": null,
            "align_self": null,
            "border": null,
            "bottom": null,
            "display": null,
            "flex": null,
            "flex_flow": null,
            "grid_area": null,
            "grid_auto_columns": null,
            "grid_auto_flow": null,
            "grid_auto_rows": null,
            "grid_column": null,
            "grid_gap": null,
            "grid_row": null,
            "grid_template_areas": null,
            "grid_template_columns": null,
            "grid_template_rows": null,
            "height": null,
            "justify_content": null,
            "justify_items": null,
            "left": null,
            "margin": null,
            "max_height": null,
            "max_width": null,
            "min_height": null,
            "min_width": null,
            "object_fit": null,
            "object_position": null,
            "order": null,
            "overflow": null,
            "overflow_x": null,
            "overflow_y": null,
            "padding": null,
            "right": null,
            "top": null,
            "visibility": null,
            "width": null
          }
        },
        "ba81d1d53ead4cb78ddc821d14de96b8": {
          "model_module": "@jupyter-widgets/controls",
          "model_name": "DescriptionStyleModel",
          "model_module_version": "1.5.0",
          "state": {
            "_model_module": "@jupyter-widgets/controls",
            "_model_module_version": "1.5.0",
            "_model_name": "DescriptionStyleModel",
            "_view_count": null,
            "_view_module": "@jupyter-widgets/base",
            "_view_module_version": "1.2.0",
            "_view_name": "StyleView",
            "description_width": ""
          }
        },
        "f4c3bf4483924090a2b4d50591f4aa69": {
          "model_module": "@jupyter-widgets/base",
          "model_name": "LayoutModel",
          "model_module_version": "1.2.0",
          "state": {
            "_model_module": "@jupyter-widgets/base",
            "_model_module_version": "1.2.0",
            "_model_name": "LayoutModel",
            "_view_count": null,
            "_view_module": "@jupyter-widgets/base",
            "_view_module_version": "1.2.0",
            "_view_name": "LayoutView",
            "align_content": null,
            "align_items": null,
            "align_self": null,
            "border": null,
            "bottom": null,
            "display": null,
            "flex": null,
            "flex_flow": null,
            "grid_area": null,
            "grid_auto_columns": null,
            "grid_auto_flow": null,
            "grid_auto_rows": null,
            "grid_column": null,
            "grid_gap": null,
            "grid_row": null,
            "grid_template_areas": null,
            "grid_template_columns": null,
            "grid_template_rows": null,
            "height": null,
            "justify_content": null,
            "justify_items": null,
            "left": null,
            "margin": null,
            "max_height": null,
            "max_width": null,
            "min_height": null,
            "min_width": null,
            "object_fit": null,
            "object_position": null,
            "order": null,
            "overflow": null,
            "overflow_x": null,
            "overflow_y": null,
            "padding": null,
            "right": null,
            "top": null,
            "visibility": null,
            "width": null
          }
        }
      }
    }
  },
  "cells": [
    {
      "cell_type": "markdown",
      "source": [
        "![dsl logo](https://github.com/BrockDSL/ARCH_Data_Explore/blob/main/dsl_logo.png?raw=true)\n",
        "\n",
        "# A notebook for displaying the sentiment scores of various municipalities"
      ],
      "metadata": {
        "id": "m5YPxcJ68Ba4"
      }
    },
    {
      "cell_type": "code",
      "source": [
        "import requests\n",
        "import numpy as np\n",
        "import pandas as pd\n",
        "import matplotlib\n",
        "import matplotlib.pyplot as plt\n",
        "from ipywidgets import interact"
      ],
      "metadata": {
        "id": "F_IWv2d6EdCB"
      },
      "execution_count": null,
      "outputs": []
    },
    {
      "cell_type": "code",
      "execution_count": null,
      "metadata": {
        "colab": {
          "base_uri": "https://localhost:8080/"
        },
        "id": "v2NBP6DyEK_4",
        "outputId": "a15bd787-caff-4931-dd00-d3b119f1020b"
      },
      "outputs": [
        {
          "output_type": "stream",
          "name": "stdout",
          "text": [
            "Download progress of municipal_data.csv.gz 51339264/51335494: 100%"
          ]
        }
      ],
      "source": [
        "def download_file(url, filename=None, loud=True):\n",
        "  \n",
        "  if not filename:\n",
        "    filename = url.split('/')[-1]\n",
        "  \n",
        "  r = requests.get(url, stream=True)\n",
        "  if loud:\n",
        "    total_bytes_dl = 0\n",
        "    content_len = int(r.headers['Content-Length'])\n",
        "\n",
        "  with open(filename, 'wb') as fd:\n",
        "      for chunk in r.iter_content(chunk_size=4096):\n",
        "          fd.write(chunk)\n",
        "          if loud:\n",
        "            total_bytes_dl += 4096\n",
        "            percent = int((total_bytes_dl / content_len) * 100.0)\n",
        "            print(f'\\rDownload progress of {filename} {total_bytes_dl}/{content_len}: {percent}%',end='')\n",
        "  r.close()\n",
        "\n",
        "def get_muni_data():\n",
        "  download_file(\"https://brockau.s3.us-east-2.amazonaws.com/municipal_data.csv.gz\")\n",
        "  !gunzip -f municipal_data.csv.gz\n",
        "  archive_data = pd.read_csv(\"municipal_data.csv\")\n",
        "  archive_data.drop(columns=['Unnamed: 0', 'index', 'v_pos','v_neg','v_neu', 'mime_type_web_server', 'mime_type_tika', 'language'], inplace=True)\n",
        "  archive_data = archive_data[archive_data.content.notna()]\n",
        "  archive_data.crawl_date = pd.to_datetime(archive_data.crawl_date)\n",
        "  archive_data.content = archive_data.content.astype(\"string\")\n",
        "  return archive_data\n",
        "\n",
        "r = requests.get('https://raw.githubusercontent.com/BrockDSL/ARCH_Data_Explore/main/urls_of_interest.txt')\n",
        "urls_of_interest = r.text.split()\n",
        "\n",
        "domains = [\n",
        "\"westlincoln.ca\",\n",
        "\"thorold.ca\",\n",
        "\"forterie.ca\",\n",
        "\"welland.ca\",\n",
        "\"niagararegion.ca\",\n",
        "\"notl.com\",\n",
        "\"wainfleet.ca\",\n",
        "\"portcolborne.ca\",\n",
        "\"grimsby.ca\",\n",
        "\"lincoln.ca\",\n",
        "\"pelham.ca\",\n",
        "\"niagarafalls.ca\",\n",
        "\"stcatharines.ca\"]\n",
        "\n",
        "#Retrieve data\n",
        "data = get_muni_data()\n",
        "data = data[data.content.notna()]\n",
        "data = data[data.url.isin(urls_of_interest)].drop_duplicates(subset=['crawl_date','url','content'])\n",
        "data = data.sort_values(by=['domain', 'crawl_date'])\n",
        "data = data.set_index('domain')"
      ]
    },
    {
      "cell_type": "code",
      "source": [
        "barchart_data = data['v_comp'].groupby('domain').mean().sort_values()\n",
        "fig, ax = plt.subplots(figsize=(12,8))\n",
        "x_pos = range(len(barchart_data))\n",
        "ax.bar(x_pos,barchart_data)\n",
        "ax.set_xticks(x_pos)\n",
        "ax.set_xticklabels(barchart_data.index.values, rotation=90)\n",
        "ax.set_ylabel('Mean Sentiment Scores')\n",
        "ax.set_xlabel('Domains')\n",
        "ax.set_title('Mean Sentiment Scores by Domain 2020-04-08 - 2021-12-31')"
      ],
      "metadata": {
        "colab": {
          "base_uri": "https://localhost:8080/",
          "height": 604
        },
        "id": "KefJxGRvMiAn",
        "outputId": "1a5cb6d9-0592-4508-a2e5-7ea6fa9b2bc1"
      },
      "execution_count": null,
      "outputs": [
        {
          "output_type": "execute_result",
          "data": {
            "text/plain": [
              "Text(0.5, 1.0, 'Mean Sentiment Scores by Domain 2020-04-08 - 2021-12-31')"
            ]
          },
          "metadata": {},
          "execution_count": 3
        },
        {
          "output_type": "display_data",
          "data": {
            "text/plain": [
              "<Figure size 864x576 with 1 Axes>"
            ],
            "image/png": "[encoded data removed]"
          },
          "metadata": {
            "needs_background": "light"
          }
        }
      ]
    },
    {
      "cell_type": "code",
      "source": [
        "def plot_sentiment(domain):\n",
        "    fig, ax = plt.subplots(figsize=(12,8))\n",
        "    domain_data = data.loc[domain][['v_comp','crawl_date']].set_index('crawl_date').groupby(pd.Grouper(freq='1M')).mean()\n",
        "    x_pos = range(len(domain_data))\n",
        "    ax.plot(x_pos,domain_data.v_comp)\n",
        "    ax.set_xticks(x_pos)\n",
        "    ax.set_xticklabels(domain_data.index.strftime('%Y-%m-%d'), rotation=90)\n",
        "    ax.set_ylabel('Sentiment Scores')\n",
        "    ax.set_title(f\"{domain} Sentiment Scores\")\n",
        "\n",
        "    #Plot a horizontal line showing mean over entire period\n",
        "    total_mean = data.loc[domain]['v_comp'].mean()\n",
        "    tm_line = ax.plot(x_pos, [total_mean]*len(x_pos), label=\"Total Period Mean\")\n",
        "    ax.legend()\n",
        "\n",
        "interact(plot_sentiment, domain=set(data.index));"
      ],
      "metadata": {
        "colab": {
          "base_uri": "https://localhost:8080/",
          "height": 579,
          "referenced_widgets": [
            "415e97aec6384cdaa4c12547b05f667f",
            "70d3dc08343d4ca38e4f8f291cc3bd1b",
            "078277646d7f42a0bd6d29df667208e6",
            "5d8f5207406e462e8341c3d029a47c71",
            "f46296efe43f4836bfb7d4be271141af",
            "ba81d1d53ead4cb78ddc821d14de96b8",
            "f4c3bf4483924090a2b4d50591f4aa69"
          ]
        },
        "id": "7dcDxmIynmFk",
        "outputId": "09780a99-c4b9-42c2-8b76-11ef39cb3fee"
      },
      "execution_count": null,
      "outputs": [
        {
          "output_type": "display_data",
          "data": {
            "text/plain": [
              "interactive(children=(Dropdown(description='domain', options=('stcatharines.ca', 'westlincoln.ca', 'welland.ca…"
            ],
            "application/vnd.jupyter.widget-view+json": {
              "version_major": 2,
              "version_minor": 0,
              "model_id": "415e97aec6384cdaa4c12547b05f667f"
            }
          },
          "metadata": {}
        }
      ]
    }
  ]
}