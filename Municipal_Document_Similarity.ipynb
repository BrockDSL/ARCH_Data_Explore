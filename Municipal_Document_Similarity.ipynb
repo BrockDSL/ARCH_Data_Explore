{
  "nbformat": 4,
  "nbformat_minor": 0,
  "metadata": {
    "colab": {
      "name": "Municipal Document Similarity",
      "provenance": [],
      "collapsed_sections": [],
      "machine_shape": "hm",
      "authorship_tag": "ABX9TyNcyZNr3EQr3rcR+mlSH1Oh",
      "include_colab_link": true
    },
    "kernelspec": {
      "name": "python3",
      "display_name": "Python 3"
    },
    "language_info": {
      "name": "python"
    }
  },
  "cells": [
    {
      "cell_type": "markdown",
      "metadata": {
        "id": "view-in-github",
        "colab_type": "text"
      },
      "source": [
        "<a href=\"https://colab.research.google.com/github/BrockDSL/ARCH_Data_Explore/blob/main/Municipal_Document_Similarity.ipynb\" target=\"_parent\"><img src=\"https://colab.research.google.com/assets/colab-badge.svg\" alt=\"Open In Colab\"/></a>"
      ]
    },
    {
      "cell_type": "markdown",
      "source": [
        "\n",
        "![dsl logo](https://github.com/BrockDSL/ARCH_Data_Explore/blob/main/dsl_logo.png?raw=true)\n",
        "\n",
        "\n",
        "# Municipal Document Similarity\n",
        "\n",
        "Will load up different snapshots of [URLs of interest](https://github.com/BrockDSL/ARCH_Data_Explore/blob/main/urls_of_interest.txt) and compare similarity using [spaCy tools](https://spacy.io/) for it.\n"
      ],
      "metadata": {
        "id": "GVVlAZn6_rMt"
      }
    },
    {
      "cell_type": "code",
      "source": [
        "\n",
        "#spaCy tools in separate cell, just to save some download\n",
        "\n",
        "!pip install spacy==3.2.0\n",
        "!pip install --upgrade --no-cache-dir gdown\n",
        "# if doing anything with word vectors use this version\n",
        "# run this cell then hit ctrl-m-. to restart the runtime then proceed\n",
        "!python -m spacy download en_core_web_md\n"
      ],
      "metadata": {
        "colab": {
          "base_uri": "https://localhost:8080/"
        },
        "id": "erqIj5P7DzKH",
        "outputId": "760d515a-6ac9-440d-ff48-4177a730ab43"
      },
      "execution_count": 1,
      "outputs": [
        {
          "output_type": "stream",
          "name": "stdout",
          "text": [
            "Collecting spacy==3.2.0\n",
            "  Downloading spacy-3.2.0-cp37-cp37m-manylinux_2_17_x86_64.manylinux2014_x86_64.whl (6.0 MB)\n",
            "\u001b[K     |████████████████████████████████| 6.0 MB 2.4 MB/s \n",
            "\u001b[?25hRequirement already satisfied: tqdm<5.0.0,>=4.38.0 in /usr/local/lib/python3.7/dist-packages (from spacy==3.2.0) (4.63.0)\n",
            "Collecting langcodes<4.0.0,>=3.2.0\n",
            "  Downloading langcodes-3.3.0-py3-none-any.whl (181 kB)\n",
            "\u001b[K     |████████████████████████████████| 181 kB 40.0 MB/s \n",
            "\u001b[?25hCollecting thinc<8.1.0,>=8.0.12\n",
            "  Downloading thinc-8.0.13-cp37-cp37m-manylinux_2_17_x86_64.manylinux2014_x86_64.whl (628 kB)\n",
            "\u001b[K     |████████████████████████████████| 628 kB 34.7 MB/s \n",
            "\u001b[?25hCollecting spacy-loggers<2.0.0,>=1.0.0\n",
            "  Downloading spacy_loggers-1.0.1-py3-none-any.whl (7.0 kB)\n",
            "Requirement already satisfied: murmurhash<1.1.0,>=0.28.0 in /usr/local/lib/python3.7/dist-packages (from spacy==3.2.0) (1.0.6)\n",
            "Requirement already satisfied: wasabi<1.1.0,>=0.8.1 in /usr/local/lib/python3.7/dist-packages (from spacy==3.2.0) (0.9.0)\n",
            "Requirement already satisfied: requests<3.0.0,>=2.13.0 in /usr/local/lib/python3.7/dist-packages (from spacy==3.2.0) (2.23.0)\n",
            "Requirement already satisfied: blis<0.8.0,>=0.4.0 in /usr/local/lib/python3.7/dist-packages (from spacy==3.2.0) (0.4.1)\n",
            "Requirement already satisfied: setuptools in /usr/local/lib/python3.7/dist-packages (from spacy==3.2.0) (57.4.0)\n",
            "Collecting pathy>=0.3.5\n",
            "  Downloading pathy-0.6.1-py3-none-any.whl (42 kB)\n",
            "\u001b[K     |████████████████████████████████| 42 kB 650 kB/s \n",
            "\u001b[?25hCollecting pydantic!=1.8,!=1.8.1,<1.9.0,>=1.7.4\n",
            "  Downloading pydantic-1.8.2-cp37-cp37m-manylinux2014_x86_64.whl (10.1 MB)\n",
            "\u001b[K     |████████████████████████████████| 10.1 MB 34.7 MB/s \n",
            "\u001b[?25hRequirement already satisfied: jinja2 in /usr/local/lib/python3.7/dist-packages (from spacy==3.2.0) (2.11.3)\n",
            "Requirement already satisfied: numpy>=1.15.0 in /usr/local/lib/python3.7/dist-packages (from spacy==3.2.0) (1.21.5)\n",
            "Requirement already satisfied: preshed<3.1.0,>=3.0.2 in /usr/local/lib/python3.7/dist-packages (from spacy==3.2.0) (3.0.6)\n",
            "Collecting catalogue<2.1.0,>=2.0.6\n",
            "  Downloading catalogue-2.0.6-py3-none-any.whl (17 kB)\n",
            "Requirement already satisfied: typing-extensions<4.0.0.0,>=3.7.4 in /usr/local/lib/python3.7/dist-packages (from spacy==3.2.0) (3.10.0.2)\n",
            "Collecting spacy-legacy<3.1.0,>=3.0.8\n",
            "  Downloading spacy_legacy-3.0.9-py2.py3-none-any.whl (20 kB)\n",
            "Requirement already satisfied: cymem<2.1.0,>=2.0.2 in /usr/local/lib/python3.7/dist-packages (from spacy==3.2.0) (2.0.6)\n",
            "Collecting srsly<3.0.0,>=2.4.1\n",
            "  Downloading srsly-2.4.2-cp37-cp37m-manylinux_2_17_x86_64.manylinux2014_x86_64.whl (451 kB)\n",
            "\u001b[K     |████████████████████████████████| 451 kB 46.8 MB/s \n",
            "\u001b[?25hCollecting typer<0.5.0,>=0.3.0\n",
            "  Downloading typer-0.4.0-py3-none-any.whl (27 kB)\n",
            "Requirement already satisfied: packaging>=20.0 in /usr/local/lib/python3.7/dist-packages (from spacy==3.2.0) (21.3)\n",
            "Requirement already satisfied: zipp>=0.5 in /usr/local/lib/python3.7/dist-packages (from catalogue<2.1.0,>=2.0.6->spacy==3.2.0) (3.7.0)\n",
            "Requirement already satisfied: pyparsing!=3.0.5,>=2.0.2 in /usr/local/lib/python3.7/dist-packages (from packaging>=20.0->spacy==3.2.0) (3.0.7)\n",
            "Requirement already satisfied: smart-open<6.0.0,>=5.0.0 in /usr/local/lib/python3.7/dist-packages (from pathy>=0.3.5->spacy==3.2.0) (5.2.1)\n",
            "Requirement already satisfied: urllib3!=1.25.0,!=1.25.1,<1.26,>=1.21.1 in /usr/local/lib/python3.7/dist-packages (from requests<3.0.0,>=2.13.0->spacy==3.2.0) (1.24.3)\n",
            "Requirement already satisfied: idna<3,>=2.5 in /usr/local/lib/python3.7/dist-packages (from requests<3.0.0,>=2.13.0->spacy==3.2.0) (2.10)\n",
            "Requirement already satisfied: certifi>=2017.4.17 in /usr/local/lib/python3.7/dist-packages (from requests<3.0.0,>=2.13.0->spacy==3.2.0) (2021.10.8)\n",
            "Requirement already satisfied: chardet<4,>=3.0.2 in /usr/local/lib/python3.7/dist-packages (from requests<3.0.0,>=2.13.0->spacy==3.2.0) (3.0.4)\n",
            "Requirement already satisfied: click<9.0.0,>=7.1.1 in /usr/local/lib/python3.7/dist-packages (from typer<0.5.0,>=0.3.0->spacy==3.2.0) (7.1.2)\n",
            "Requirement already satisfied: MarkupSafe>=0.23 in /usr/local/lib/python3.7/dist-packages (from jinja2->spacy==3.2.0) (2.0.1)\n",
            "Installing collected packages: catalogue, typer, srsly, pydantic, thinc, spacy-loggers, spacy-legacy, pathy, langcodes, spacy\n",
            "  Attempting uninstall: catalogue\n",
            "    Found existing installation: catalogue 1.0.0\n",
            "    Uninstalling catalogue-1.0.0:\n",
            "      Successfully uninstalled catalogue-1.0.0\n",
            "  Attempting uninstall: srsly\n",
            "    Found existing installation: srsly 1.0.5\n",
            "    Uninstalling srsly-1.0.5:\n",
            "      Successfully uninstalled srsly-1.0.5\n",
            "  Attempting uninstall: thinc\n",
            "    Found existing installation: thinc 7.4.0\n",
            "    Uninstalling thinc-7.4.0:\n",
            "      Successfully uninstalled thinc-7.4.0\n",
            "  Attempting uninstall: spacy\n",
            "    Found existing installation: spacy 2.2.4\n",
            "    Uninstalling spacy-2.2.4:\n",
            "      Successfully uninstalled spacy-2.2.4\n",
            "Successfully installed catalogue-2.0.6 langcodes-3.3.0 pathy-0.6.1 pydantic-1.8.2 spacy-3.2.0 spacy-legacy-3.0.9 spacy-loggers-1.0.1 srsly-2.4.2 thinc-8.0.13 typer-0.4.0\n",
            "Requirement already satisfied: gdown in /usr/local/lib/python3.7/dist-packages (4.2.2)\n",
            "Collecting gdown\n",
            "  Downloading gdown-4.4.0.tar.gz (14 kB)\n",
            "  Installing build dependencies ... \u001b[?25l\u001b[?25hdone\n",
            "  Getting requirements to build wheel ... \u001b[?25l\u001b[?25hdone\n",
            "    Preparing wheel metadata ... \u001b[?25l\u001b[?25hdone\n",
            "Requirement already satisfied: six in /usr/local/lib/python3.7/dist-packages (from gdown) (1.15.0)\n",
            "Requirement already satisfied: filelock in /usr/local/lib/python3.7/dist-packages (from gdown) (3.6.0)\n",
            "Requirement already satisfied: requests[socks] in /usr/local/lib/python3.7/dist-packages (from gdown) (2.23.0)\n",
            "Requirement already satisfied: beautifulsoup4 in /usr/local/lib/python3.7/dist-packages (from gdown) (4.6.3)\n",
            "Requirement already satisfied: tqdm in /usr/local/lib/python3.7/dist-packages (from gdown) (4.63.0)\n",
            "Requirement already satisfied: idna<3,>=2.5 in /usr/local/lib/python3.7/dist-packages (from requests[socks]->gdown) (2.10)\n",
            "Requirement already satisfied: chardet<4,>=3.0.2 in /usr/local/lib/python3.7/dist-packages (from requests[socks]->gdown) (3.0.4)\n",
            "Requirement already satisfied: urllib3!=1.25.0,!=1.25.1,<1.26,>=1.21.1 in /usr/local/lib/python3.7/dist-packages (from requests[socks]->gdown) (1.24.3)\n",
            "Requirement already satisfied: certifi>=2017.4.17 in /usr/local/lib/python3.7/dist-packages (from requests[socks]->gdown) (2021.10.8)\n",
            "Requirement already satisfied: PySocks!=1.5.7,>=1.5.6 in /usr/local/lib/python3.7/dist-packages (from requests[socks]->gdown) (1.7.1)\n",
            "Building wheels for collected packages: gdown\n",
            "  Building wheel for gdown (PEP 517) ... \u001b[?25l\u001b[?25hdone\n",
            "  Created wheel for gdown: filename=gdown-4.4.0-py3-none-any.whl size=14774 sha256=c230a00642f0042329c42ad96a32d678dcde7d00d4aefbd88124fcb3402dbfc8\n",
            "  Stored in directory: /tmp/pip-ephem-wheel-cache-fzrqp82o/wheels/fb/c3/0e/c4d8ff8bfcb0461afff199471449f642179b74968c15b7a69c\n",
            "Successfully built gdown\n",
            "Installing collected packages: gdown\n",
            "  Attempting uninstall: gdown\n",
            "    Found existing installation: gdown 4.2.2\n",
            "    Uninstalling gdown-4.2.2:\n",
            "      Successfully uninstalled gdown-4.2.2\n",
            "Successfully installed gdown-4.4.0\n",
            "Collecting en-core-web-md==3.2.0\n",
            "  Downloading https://github.com/explosion/spacy-models/releases/download/en_core_web_md-3.2.0/en_core_web_md-3.2.0-py3-none-any.whl (45.7 MB)\n",
            "\u001b[K     |████████████████████████████████| 45.7 MB 1.2 MB/s \n",
            "\u001b[?25hRequirement already satisfied: spacy<3.3.0,>=3.2.0 in /usr/local/lib/python3.7/dist-packages (from en-core-web-md==3.2.0) (3.2.0)\n",
            "Requirement already satisfied: srsly<3.0.0,>=2.4.1 in /usr/local/lib/python3.7/dist-packages (from spacy<3.3.0,>=3.2.0->en-core-web-md==3.2.0) (2.4.2)\n",
            "Requirement already satisfied: spacy-loggers<2.0.0,>=1.0.0 in /usr/local/lib/python3.7/dist-packages (from spacy<3.3.0,>=3.2.0->en-core-web-md==3.2.0) (1.0.1)\n",
            "Requirement already satisfied: typer<0.5.0,>=0.3.0 in /usr/local/lib/python3.7/dist-packages (from spacy<3.3.0,>=3.2.0->en-core-web-md==3.2.0) (0.4.0)\n",
            "Requirement already satisfied: setuptools in /usr/local/lib/python3.7/dist-packages (from spacy<3.3.0,>=3.2.0->en-core-web-md==3.2.0) (57.4.0)\n",
            "Requirement already satisfied: packaging>=20.0 in /usr/local/lib/python3.7/dist-packages (from spacy<3.3.0,>=3.2.0->en-core-web-md==3.2.0) (21.3)\n",
            "Requirement already satisfied: thinc<8.1.0,>=8.0.12 in /usr/local/lib/python3.7/dist-packages (from spacy<3.3.0,>=3.2.0->en-core-web-md==3.2.0) (8.0.13)\n",
            "Requirement already satisfied: langcodes<4.0.0,>=3.2.0 in /usr/local/lib/python3.7/dist-packages (from spacy<3.3.0,>=3.2.0->en-core-web-md==3.2.0) (3.3.0)\n",
            "Requirement already satisfied: requests<3.0.0,>=2.13.0 in /usr/local/lib/python3.7/dist-packages (from spacy<3.3.0,>=3.2.0->en-core-web-md==3.2.0) (2.23.0)\n",
            "Requirement already satisfied: typing-extensions<4.0.0.0,>=3.7.4 in /usr/local/lib/python3.7/dist-packages (from spacy<3.3.0,>=3.2.0->en-core-web-md==3.2.0) (3.10.0.2)\n",
            "Requirement already satisfied: wasabi<1.1.0,>=0.8.1 in /usr/local/lib/python3.7/dist-packages (from spacy<3.3.0,>=3.2.0->en-core-web-md==3.2.0) (0.9.0)\n",
            "Requirement already satisfied: cymem<2.1.0,>=2.0.2 in /usr/local/lib/python3.7/dist-packages (from spacy<3.3.0,>=3.2.0->en-core-web-md==3.2.0) (2.0.6)\n",
            "Requirement already satisfied: catalogue<2.1.0,>=2.0.6 in /usr/local/lib/python3.7/dist-packages (from spacy<3.3.0,>=3.2.0->en-core-web-md==3.2.0) (2.0.6)\n",
            "Requirement already satisfied: preshed<3.1.0,>=3.0.2 in /usr/local/lib/python3.7/dist-packages (from spacy<3.3.0,>=3.2.0->en-core-web-md==3.2.0) (3.0.6)\n",
            "Requirement already satisfied: tqdm<5.0.0,>=4.38.0 in /usr/local/lib/python3.7/dist-packages (from spacy<3.3.0,>=3.2.0->en-core-web-md==3.2.0) (4.63.0)\n",
            "Requirement already satisfied: spacy-legacy<3.1.0,>=3.0.8 in /usr/local/lib/python3.7/dist-packages (from spacy<3.3.0,>=3.2.0->en-core-web-md==3.2.0) (3.0.9)\n",
            "Requirement already satisfied: pydantic!=1.8,!=1.8.1,<1.9.0,>=1.7.4 in /usr/local/lib/python3.7/dist-packages (from spacy<3.3.0,>=3.2.0->en-core-web-md==3.2.0) (1.8.2)\n",
            "Requirement already satisfied: blis<0.8.0,>=0.4.0 in /usr/local/lib/python3.7/dist-packages (from spacy<3.3.0,>=3.2.0->en-core-web-md==3.2.0) (0.4.1)\n",
            "Requirement already satisfied: pathy>=0.3.5 in /usr/local/lib/python3.7/dist-packages (from spacy<3.3.0,>=3.2.0->en-core-web-md==3.2.0) (0.6.1)\n",
            "Requirement already satisfied: jinja2 in /usr/local/lib/python3.7/dist-packages (from spacy<3.3.0,>=3.2.0->en-core-web-md==3.2.0) (2.11.3)\n",
            "Requirement already satisfied: murmurhash<1.1.0,>=0.28.0 in /usr/local/lib/python3.7/dist-packages (from spacy<3.3.0,>=3.2.0->en-core-web-md==3.2.0) (1.0.6)\n",
            "Requirement already satisfied: numpy>=1.15.0 in /usr/local/lib/python3.7/dist-packages (from spacy<3.3.0,>=3.2.0->en-core-web-md==3.2.0) (1.21.5)\n",
            "Requirement already satisfied: zipp>=0.5 in /usr/local/lib/python3.7/dist-packages (from catalogue<2.1.0,>=2.0.6->spacy<3.3.0,>=3.2.0->en-core-web-md==3.2.0) (3.7.0)\n",
            "Requirement already satisfied: pyparsing!=3.0.5,>=2.0.2 in /usr/local/lib/python3.7/dist-packages (from packaging>=20.0->spacy<3.3.0,>=3.2.0->en-core-web-md==3.2.0) (3.0.7)\n",
            "Requirement already satisfied: smart-open<6.0.0,>=5.0.0 in /usr/local/lib/python3.7/dist-packages (from pathy>=0.3.5->spacy<3.3.0,>=3.2.0->en-core-web-md==3.2.0) (5.2.1)\n",
            "Requirement already satisfied: urllib3!=1.25.0,!=1.25.1,<1.26,>=1.21.1 in /usr/local/lib/python3.7/dist-packages (from requests<3.0.0,>=2.13.0->spacy<3.3.0,>=3.2.0->en-core-web-md==3.2.0) (1.24.3)\n",
            "Requirement already satisfied: idna<3,>=2.5 in /usr/local/lib/python3.7/dist-packages (from requests<3.0.0,>=2.13.0->spacy<3.3.0,>=3.2.0->en-core-web-md==3.2.0) (2.10)\n",
            "Requirement already satisfied: chardet<4,>=3.0.2 in /usr/local/lib/python3.7/dist-packages (from requests<3.0.0,>=2.13.0->spacy<3.3.0,>=3.2.0->en-core-web-md==3.2.0) (3.0.4)\n",
            "Requirement already satisfied: certifi>=2017.4.17 in /usr/local/lib/python3.7/dist-packages (from requests<3.0.0,>=2.13.0->spacy<3.3.0,>=3.2.0->en-core-web-md==3.2.0) (2021.10.8)\n",
            "Requirement already satisfied: click<9.0.0,>=7.1.1 in /usr/local/lib/python3.7/dist-packages (from typer<0.5.0,>=0.3.0->spacy<3.3.0,>=3.2.0->en-core-web-md==3.2.0) (7.1.2)\n",
            "Requirement already satisfied: MarkupSafe>=0.23 in /usr/local/lib/python3.7/dist-packages (from jinja2->spacy<3.3.0,>=3.2.0->en-core-web-md==3.2.0) (2.0.1)\n",
            "Installing collected packages: en-core-web-md\n",
            "Successfully installed en-core-web-md-3.2.0\n",
            "\u001b[38;5;2m✔ Download and installation successful\u001b[0m\n",
            "You can now load the package via spacy.load('en_core_web_md')\n"
          ]
        }
      ]
    },
    {
      "cell_type": "code",
      "source": [
        "#restart run-time automatically\n",
        "import os\n",
        "os.kill(os.getpid(), 9)"
      ],
      "metadata": {
        "id": "W_i1riYKIqCx"
      },
      "execution_count": null,
      "outputs": []
    },
    {
      "cell_type": "code",
      "execution_count": 1,
      "metadata": {
        "colab": {
          "base_uri": "https://localhost:8080/"
        },
        "id": "Z4LeZSze_pr_",
        "outputId": "b42736fb-2fe2-49e6-b8f5-5567cde0b1b8"
      },
      "outputs": [
        {
          "output_type": "stream",
          "name": "stdout",
          "text": [
            "Libraries Loaded\n"
          ]
        }
      ],
      "source": [
        "#Install Libraries\n",
        "\n",
        "import pandas as pd\n",
        "import spacy\n",
        "import gdown\n",
        "from google.colab import files\n",
        "\n",
        "pd.set_option('display.max_colwidth', False)\n",
        "pd.set_option('display.max_columns', None)\n",
        "pd.set_option('display.max_rows', 200)\n",
        "\n",
        "print(\"Libraries Loaded\")"
      ]
    },
    {
      "cell_type": "code",
      "source": [
        "#Verify package versions\n",
        "\n",
        "#!pip show gdown\n",
        "#!pip show spacy"
      ],
      "metadata": {
        "colab": {
          "base_uri": "https://localhost:8080/"
        },
        "id": "bAvJxmg-HmrK",
        "outputId": "1d384b02-cfe6-4f7b-f250-091f2b2e0c2f"
      },
      "execution_count": 2,
      "outputs": [
        {
          "output_type": "stream",
          "name": "stdout",
          "text": [
            "Name: gdown\n",
            "Version: 4.4.0\n",
            "Summary: Google Drive direct download of big files.\n",
            "Home-page: http://github.com/wkentaro/gdown\n",
            "Author: Kentaro Wada\n",
            "Author-email: www.kentaro.wada@gmail.com\n",
            "License: MIT\n",
            "Location: /usr/local/lib/python3.7/dist-packages\n",
            "Requires: beautifulsoup4, six, tqdm, requests, filelock\n",
            "Required-by: \n",
            "Name: spacy\n",
            "Version: 3.2.0\n",
            "Summary: Industrial-strength Natural Language Processing (NLP) in Python\n",
            "Home-page: https://spacy.io\n",
            "Author: Explosion\n",
            "Author-email: contact@explosion.ai\n",
            "License: MIT\n",
            "Location: /usr/local/lib/python3.7/dist-packages\n",
            "Requires: pydantic, langcodes, preshed, spacy-loggers, spacy-legacy, pathy, requests, thinc, tqdm, cymem, packaging, catalogue, numpy, typer, srsly, murmurhash, jinja2, wasabi, typing-extensions, blis, setuptools\n",
            "Required-by: fastai, en-core-web-sm, en-core-web-md\n"
          ]
        }
      ]
    },
    {
      "cell_type": "code",
      "source": [
        "#SpaCy object that will handle similarity\n",
        "nlp = spacy.load(\"en_core_web_md\")"
      ],
      "metadata": {
        "id": "s1RmtsTFDWrY"
      },
      "execution_count": 3,
      "outputs": []
    },
    {
      "cell_type": "code",
      "source": [
        "#Load dataset for comparison\n",
        "gdown.download(\"https://drive.google.com/u/0/uc?id=1oKNphdZkuNfeh-beuTkcIBo_EFLWO9zX&export=download\",\"municipal_data.csv.gz\",quiet=False)\n",
        "!gunzip municipal_data.csv.gz\n",
        "archive_data = pd.read_csv(\"municipal_data.csv\")\n",
        "#get rid of some uneeded cols\n",
        "del(archive_data['Unnamed: 0'])\n",
        "del(archive_data['index'])\n",
        "del(archive_data['mime_type_web_server'])\n",
        "del(archive_data['mime_type_tika'])\n",
        "del(archive_data['language'])\n",
        "archive_data['crawl_date']= pd.to_datetime(archive_data['crawl_date'],format='%Y-%m-%d')\n",
        "print(\"Data Loaded\")"
      ],
      "metadata": {
        "colab": {
          "base_uri": "https://localhost:8080/"
        },
        "id": "SeRm3NlDJNm0",
        "outputId": "48505c0c-b100-4b40-856a-ea55790ccded"
      },
      "execution_count": 4,
      "outputs": [
        {
          "output_type": "stream",
          "name": "stderr",
          "text": [
            "Downloading...\n",
            "From: https://drive.google.com/u/0/uc?id=1oKNphdZkuNfeh-beuTkcIBo_EFLWO9zX&export=download\n",
            "To: /content/municipal_data.csv.gz\n",
            "100%|██████████| 51.3M/51.3M [00:00<00:00, 116MB/s]\n"
          ]
        },
        {
          "output_type": "stream",
          "name": "stdout",
          "text": [
            "Data Loaded\n"
          ]
        }
      ]
    },
    {
      "cell_type": "code",
      "source": [
        "#URLs of interest\n",
        "url_list = pd.read_csv(\"https://raw.githubusercontent.com/BrockDSL/ARCH_Data_Explore/main/urls_of_interest.txt\",header=None)\n",
        "url_list.columns = [\"base_url\"]"
      ],
      "metadata": {
        "id": "dEhv9nnsMxyg"
      },
      "execution_count": 42,
      "outputs": []
    },
    {
      "cell_type": "code",
      "source": [
        "#archive_data.head()"
      ],
      "metadata": {
        "id": "lbDpwkgFNmZB"
      },
      "execution_count": null,
      "outputs": []
    },
    {
      "cell_type": "markdown",
      "source": [
        "\n",
        "## URL Selection\n"
      ],
      "metadata": {
        "id": "0e264vAQVCGw"
      }
    },
    {
      "cell_type": "code",
      "source": [
        "url_list"
      ],
      "metadata": {
        "colab": {
          "base_uri": "https://localhost:8080/",
          "height": 1000
        },
        "id": "t_9C-ekePxjN",
        "outputId": "b59b9afe-cd5b-446b-ee9f-100c5953117e"
      },
      "execution_count": 43,
      "outputs": [
        {
          "output_type": "execute_result",
          "data": {
            "text/html": [
              "\n",
              "  <div id=\"df-64c7e717-1041-4bd8-8f7d-b8422317e173\">\n",
              "    <div class=\"colab-df-container\">\n",
              "      <div>\n",
              "<style scoped>\n",
              "    .dataframe tbody tr th:only-of-type {\n",
              "        vertical-align: middle;\n",
              "    }\n",
              "\n",
              "    .dataframe tbody tr th {\n",
              "        vertical-align: top;\n",
              "    }\n",
              "\n",
              "    .dataframe thead th {\n",
              "        text-align: right;\n",
              "    }\n",
              "</style>\n",
              "<table border=\"1\" class=\"dataframe\">\n",
              "  <thead>\n",
              "    <tr style=\"text-align: right;\">\n",
              "      <th></th>\n",
              "      <th>base_url</th>\n",
              "    </tr>\n",
              "  </thead>\n",
              "  <tbody>\n",
              "    <tr>\n",
              "      <th>0</th>\n",
              "      <td>https://www.niagararegion.ca/health/covid-19/default.aspx</td>\n",
              "    </tr>\n",
              "    <tr>\n",
              "      <th>1</th>\n",
              "      <td>https://www.niagararegion.ca/health/covid-19/protect-yourself.aspx</td>\n",
              "    </tr>\n",
              "    <tr>\n",
              "      <th>2</th>\n",
              "      <td>https://www.niagararegion.ca/health/covid-19/employee-information.aspx</td>\n",
              "    </tr>\n",
              "    <tr>\n",
              "      <th>3</th>\n",
              "      <td>https://www.niagararegion.ca/health/covid-19/municipal-bills.aspx</td>\n",
              "    </tr>\n",
              "    <tr>\n",
              "      <th>4</th>\n",
              "      <td>https://www.niagararegion.ca/health/covid-19/testing.aspx</td>\n",
              "    </tr>\n",
              "    <tr>\n",
              "      <th>5</th>\n",
              "      <td>https://www.niagararegion.ca/health/covid-19/symptoms.aspx</td>\n",
              "    </tr>\n",
              "    <tr>\n",
              "      <th>6</th>\n",
              "      <td>https://www.niagararegion.ca/health/covid-19/resources.aspx</td>\n",
              "    </tr>\n",
              "    <tr>\n",
              "      <th>7</th>\n",
              "      <td>https://www.niagararegion.ca/health/covid-19/self-isolation.aspx</td>\n",
              "    </tr>\n",
              "    <tr>\n",
              "      <th>8</th>\n",
              "      <td>https://www.niagararegion.ca/health/covid-19/social-support.aspx</td>\n",
              "    </tr>\n",
              "    <tr>\n",
              "      <th>9</th>\n",
              "      <td>https://www.notl.com/COVID-19/</td>\n",
              "    </tr>\n",
              "    <tr>\n",
              "      <th>10</th>\n",
              "      <td>https://www.stcatharines.ca/en/livein/covid-19.asp</td>\n",
              "    </tr>\n",
              "    <tr>\n",
              "      <th>11</th>\n",
              "      <td>https://niagarafalls.ca/covid19</td>\n",
              "    </tr>\n",
              "    <tr>\n",
              "      <th>12</th>\n",
              "      <td>https://niagarafalls.ca/</td>\n",
              "    </tr>\n",
              "    <tr>\n",
              "      <th>13</th>\n",
              "      <td>https://lincoln.ca/coronavirus-pandemic</td>\n",
              "    </tr>\n",
              "    <tr>\n",
              "      <th>14</th>\n",
              "      <td>https://lincoln.ca/news/2021/01/media-release-town-lincoln-responds-new-covid-19-guidelines-due-ontario-state-emergency</td>\n",
              "    </tr>\n",
              "    <tr>\n",
              "      <th>15</th>\n",
              "      <td>https://www.forterie.ca/pages/COVID19News</td>\n",
              "    </tr>\n",
              "    <tr>\n",
              "      <th>16</th>\n",
              "      <td>https://www.grimsby.ca/en/covid-19.aspx</td>\n",
              "    </tr>\n",
              "    <tr>\n",
              "      <th>17</th>\n",
              "      <td>https://www.grimsby.ca/en/doing-business/covid-19-business-support.aspx</td>\n",
              "    </tr>\n",
              "    <tr>\n",
              "      <th>18</th>\n",
              "      <td>https://www.grimsby.ca/en/news/proof-of-vaccination-required-at-select-grimsby-facilities-beginning-sept-22.aspx</td>\n",
              "    </tr>\n",
              "    <tr>\n",
              "      <th>19</th>\n",
              "      <td>http://portcolborne.ca/page/covid-19</td>\n",
              "    </tr>\n",
              "    <tr>\n",
              "      <th>20</th>\n",
              "      <td>https://www.portcolborne.ca/en/living-here/covid-19.aspx</td>\n",
              "    </tr>\n",
              "    <tr>\n",
              "      <th>21</th>\n",
              "      <td>https://www.thorold.ca/en/city-hall/coronavirus-covid-19.aspx</td>\n",
              "    </tr>\n",
              "    <tr>\n",
              "      <th>22</th>\n",
              "      <td>https://www.thorold.ca/en/city-hall/city-of-thorold-functions-during-covid-19-pandemic.aspx</td>\n",
              "    </tr>\n",
              "    <tr>\n",
              "      <th>23</th>\n",
              "      <td>https://www.welland.ca/hottopics/COVID-19.asp</td>\n",
              "    </tr>\n",
              "    <tr>\n",
              "      <th>24</th>\n",
              "      <td>https://www.westlincoln.ca/Modules/News/en</td>\n",
              "    </tr>\n",
              "    <tr>\n",
              "      <th>25</th>\n",
              "      <td>https://www.westlincoln.ca/en/news/update-28-west-lincoln-response-to-covid-19-appointment-system-at-the-wl-community-centre.aspx</td>\n",
              "    </tr>\n",
              "    <tr>\n",
              "      <th>26</th>\n",
              "      <td>https://www.westlincoln.ca/en/news/update-39-response-to-covid-19-west-lincoln-is-staying-the-course.aspx</td>\n",
              "    </tr>\n",
              "    <tr>\n",
              "      <th>27</th>\n",
              "      <td>https://www.westlincoln.ca/en/news/update-40-response-to-covid-19-ontario-strengthens-enforcement-of-stay-at-home-order.aspx</td>\n",
              "    </tr>\n",
              "    <tr>\n",
              "      <th>28</th>\n",
              "      <td>https://www.westlincoln.ca/en/news/update-43-west-lincoln-response-to-covid-19-township-re-opens-appointment-only-starting-june-14-21.aspx</td>\n",
              "    </tr>\n",
              "    <tr>\n",
              "      <th>29</th>\n",
              "      <td>https://www.westlincoln.ca/en/news/update-17-west-lincoln-response-to-covid-19-phase-one-of-reopening.aspx</td>\n",
              "    </tr>\n",
              "    <tr>\n",
              "      <th>30</th>\n",
              "      <td>https://www.westlincoln.ca/en/news/update-15-west-lincoln-response-to-covid-19-township-facilities-closed-until-may-31st.aspx</td>\n",
              "    </tr>\n",
              "    <tr>\n",
              "      <th>31</th>\n",
              "      <td>https://www.westlincoln.ca/en/news/update-18-west-lincoln-response-to-covid-19-recovery-in-a-phased-approach.aspx</td>\n",
              "    </tr>\n",
              "    <tr>\n",
              "      <th>32</th>\n",
              "      <td>https://www.westlincoln.ca/en/news/update-23-west-lincoln-response-to-covid-19-playgrounds-start-to-re-open-july-24th-2020.aspx</td>\n",
              "    </tr>\n",
              "    <tr>\n",
              "      <th>33</th>\n",
              "      <td>https://www.westlincoln.ca/en/news/update-38-response-to-covid-19-ontario-government-puts-emergency-brake-on-the-entire-province.aspx</td>\n",
              "    </tr>\n",
              "    <tr>\n",
              "      <th>34</th>\n",
              "      <td>https://www.wainfleet.ca/Modules/News/en</td>\n",
              "    </tr>\n",
              "    <tr>\n",
              "      <th>35</th>\n",
              "      <td>https://www.wainfleet.ca/en/town-hall/covid-19.aspx</td>\n",
              "    </tr>\n",
              "    <tr>\n",
              "      <th>36</th>\n",
              "      <td>https://www.pelham.ca/en/living-here/covid-19.aspx</td>\n",
              "    </tr>\n",
              "    <tr>\n",
              "      <th>37</th>\n",
              "      <td>https://www.pelham.ca/en/living-here/covid-19-pelham.aspx</td>\n",
              "    </tr>\n",
              "  </tbody>\n",
              "</table>\n",
              "</div>\n",
              "      <button class=\"colab-df-convert\" onclick=\"convertToInteractive('df-64c7e717-1041-4bd8-8f7d-b8422317e173')\"\n",
              "              title=\"Convert this dataframe to an interactive table.\"\n",
              "              style=\"display:none;\">\n",
              "        \n",
              "  <svg xmlns=\"http://www.w3.org/2000/svg\" height=\"24px\"viewBox=\"0 0 24 24\"\n",
              "       width=\"24px\">\n",
              "    <path d=\"M0 0h24v24H0V0z\" fill=\"none\"/>\n",
              "    <path d=\"M18.56 5.44l.94 2.06.94-2.06 2.06-.94-2.06-.94-.94-2.06-.94 2.06-2.06.94zm-11 1L8.5 8.5l.94-2.06 2.06-.94-2.06-.94L8.5 2.5l-.94 2.06-2.06.94zm10 10l.94 2.06.94-2.06 2.06-.94-2.06-.94-.94-2.06-.94 2.06-2.06.94z\"/><path d=\"M17.41 7.96l-1.37-1.37c-.4-.4-.92-.59-1.43-.59-.52 0-1.04.2-1.43.59L10.3 9.45l-7.72 7.72c-.78.78-.78 2.05 0 2.83L4 21.41c.39.39.9.59 1.41.59.51 0 1.02-.2 1.41-.59l7.78-7.78 2.81-2.81c.8-.78.8-2.07 0-2.86zM5.41 20L4 18.59l7.72-7.72 1.47 1.35L5.41 20z\"/>\n",
              "  </svg>\n",
              "      </button>\n",
              "      \n",
              "  <style>\n",
              "    .colab-df-container {\n",
              "      display:flex;\n",
              "      flex-wrap:wrap;\n",
              "      gap: 12px;\n",
              "    }\n",
              "\n",
              "    .colab-df-convert {\n",
              "      background-color: #E8F0FE;\n",
              "      border: none;\n",
              "      border-radius: 50%;\n",
              "      cursor: pointer;\n",
              "      display: none;\n",
              "      fill: #1967D2;\n",
              "      height: 32px;\n",
              "      padding: 0 0 0 0;\n",
              "      width: 32px;\n",
              "    }\n",
              "\n",
              "    .colab-df-convert:hover {\n",
              "      background-color: #E2EBFA;\n",
              "      box-shadow: 0px 1px 2px rgba(60, 64, 67, 0.3), 0px 1px 3px 1px rgba(60, 64, 67, 0.15);\n",
              "      fill: #174EA6;\n",
              "    }\n",
              "\n",
              "    [theme=dark] .colab-df-convert {\n",
              "      background-color: #3B4455;\n",
              "      fill: #D2E3FC;\n",
              "    }\n",
              "\n",
              "    [theme=dark] .colab-df-convert:hover {\n",
              "      background-color: #434B5C;\n",
              "      box-shadow: 0px 1px 3px 1px rgba(0, 0, 0, 0.15);\n",
              "      filter: drop-shadow(0px 1px 2px rgba(0, 0, 0, 0.3));\n",
              "      fill: #FFFFFF;\n",
              "    }\n",
              "  </style>\n",
              "\n",
              "      <script>\n",
              "        const buttonEl =\n",
              "          document.querySelector('#df-64c7e717-1041-4bd8-8f7d-b8422317e173 button.colab-df-convert');\n",
              "        buttonEl.style.display =\n",
              "          google.colab.kernel.accessAllowed ? 'block' : 'none';\n",
              "\n",
              "        async function convertToInteractive(key) {\n",
              "          const element = document.querySelector('#df-64c7e717-1041-4bd8-8f7d-b8422317e173');\n",
              "          const dataTable =\n",
              "            await google.colab.kernel.invokeFunction('convertToInteractive',\n",
              "                                                     [key], {});\n",
              "          if (!dataTable) return;\n",
              "\n",
              "          const docLinkHtml = 'Like what you see? Visit the ' +\n",
              "            '<a target=\"_blank\" href=https://colab.research.google.com/notebooks/data_table.ipynb>data table notebook</a>'\n",
              "            + ' to learn more about interactive tables.';\n",
              "          element.innerHTML = '';\n",
              "          dataTable['output_type'] = 'display_data';\n",
              "          await google.colab.output.renderOutput(dataTable, element);\n",
              "          const docLink = document.createElement('div');\n",
              "          docLink.innerHTML = docLinkHtml;\n",
              "          element.appendChild(docLink);\n",
              "        }\n",
              "      </script>\n",
              "    </div>\n",
              "  </div>\n",
              "  "
            ],
            "text/plain": [
              "                                                                                                                                      base_url\n",
              "0   https://www.niagararegion.ca/health/covid-19/default.aspx                                                                                 \n",
              "1   https://www.niagararegion.ca/health/covid-19/protect-yourself.aspx                                                                        \n",
              "2   https://www.niagararegion.ca/health/covid-19/employee-information.aspx                                                                    \n",
              "3   https://www.niagararegion.ca/health/covid-19/municipal-bills.aspx                                                                         \n",
              "4   https://www.niagararegion.ca/health/covid-19/testing.aspx                                                                                 \n",
              "5   https://www.niagararegion.ca/health/covid-19/symptoms.aspx                                                                                \n",
              "6   https://www.niagararegion.ca/health/covid-19/resources.aspx                                                                               \n",
              "7   https://www.niagararegion.ca/health/covid-19/self-isolation.aspx                                                                          \n",
              "8   https://www.niagararegion.ca/health/covid-19/social-support.aspx                                                                          \n",
              "9   https://www.notl.com/COVID-19/                                                                                                            \n",
              "10  https://www.stcatharines.ca/en/livein/covid-19.asp                                                                                        \n",
              "11  https://niagarafalls.ca/covid19                                                                                                           \n",
              "12  https://niagarafalls.ca/                                                                                                                  \n",
              "13  https://lincoln.ca/coronavirus-pandemic                                                                                                   \n",
              "14  https://lincoln.ca/news/2021/01/media-release-town-lincoln-responds-new-covid-19-guidelines-due-ontario-state-emergency                   \n",
              "15  https://www.forterie.ca/pages/COVID19News                                                                                                 \n",
              "16  https://www.grimsby.ca/en/covid-19.aspx                                                                                                   \n",
              "17  https://www.grimsby.ca/en/doing-business/covid-19-business-support.aspx                                                                   \n",
              "18  https://www.grimsby.ca/en/news/proof-of-vaccination-required-at-select-grimsby-facilities-beginning-sept-22.aspx                          \n",
              "19  http://portcolborne.ca/page/covid-19                                                                                                      \n",
              "20  https://www.portcolborne.ca/en/living-here/covid-19.aspx                                                                                  \n",
              "21  https://www.thorold.ca/en/city-hall/coronavirus-covid-19.aspx                                                                             \n",
              "22  https://www.thorold.ca/en/city-hall/city-of-thorold-functions-during-covid-19-pandemic.aspx                                               \n",
              "23  https://www.welland.ca/hottopics/COVID-19.asp                                                                                             \n",
              "24  https://www.westlincoln.ca/Modules/News/en                                                                                                \n",
              "25  https://www.westlincoln.ca/en/news/update-28-west-lincoln-response-to-covid-19-appointment-system-at-the-wl-community-centre.aspx         \n",
              "26  https://www.westlincoln.ca/en/news/update-39-response-to-covid-19-west-lincoln-is-staying-the-course.aspx                                 \n",
              "27  https://www.westlincoln.ca/en/news/update-40-response-to-covid-19-ontario-strengthens-enforcement-of-stay-at-home-order.aspx              \n",
              "28  https://www.westlincoln.ca/en/news/update-43-west-lincoln-response-to-covid-19-township-re-opens-appointment-only-starting-june-14-21.aspx\n",
              "29  https://www.westlincoln.ca/en/news/update-17-west-lincoln-response-to-covid-19-phase-one-of-reopening.aspx                                \n",
              "30  https://www.westlincoln.ca/en/news/update-15-west-lincoln-response-to-covid-19-township-facilities-closed-until-may-31st.aspx             \n",
              "31  https://www.westlincoln.ca/en/news/update-18-west-lincoln-response-to-covid-19-recovery-in-a-phased-approach.aspx                         \n",
              "32  https://www.westlincoln.ca/en/news/update-23-west-lincoln-response-to-covid-19-playgrounds-start-to-re-open-july-24th-2020.aspx           \n",
              "33  https://www.westlincoln.ca/en/news/update-38-response-to-covid-19-ontario-government-puts-emergency-brake-on-the-entire-province.aspx     \n",
              "34  https://www.wainfleet.ca/Modules/News/en                                                                                                  \n",
              "35  https://www.wainfleet.ca/en/town-hall/covid-19.aspx                                                                                       \n",
              "36  https://www.pelham.ca/en/living-here/covid-19.aspx                                                                                        \n",
              "37  https://www.pelham.ca/en/living-here/covid-19-pelham.aspx                                                                                 "
            ]
          },
          "metadata": {},
          "execution_count": 43
        }
      ]
    },
    {
      "cell_type": "code",
      "source": [
        "#@title URLs to Compare\n",
        "#@markdown enter the number of the first column above to select that cell as your base of comparsion\n",
        "base_url_choice = 0 #@param {type:\"integer\"}\n",
        "#@markdown enter the number of the first column above to select that cell your comparison url\n",
        "compare_to_choice = 19 #@param {type:\"integer\"}\n"
      ],
      "metadata": {
        "cellView": "form",
        "id": "qfkb7xufS1F7"
      },
      "execution_count": 63,
      "outputs": []
    },
    {
      "cell_type": "code",
      "source": [
        "#base_url_time_stamps\n",
        "archive_data[archive_data['url'] == url_list.iloc[base_url_choice]['base_url']][['crawl_date']]"
      ],
      "metadata": {
        "id": "iMwbD1SeT_VP"
      },
      "execution_count": null,
      "outputs": []
    },
    {
      "cell_type": "code",
      "source": [
        "#@title Base URL Version Choice\n",
        "#@markdown Choose index of timestamp for which crawl to use\n",
        "\n",
        "base_url_version_choice = 31069 #@param {type:\"integer\"}\n"
      ],
      "metadata": {
        "cellView": "form",
        "id": "ZongFel7UgSW"
      },
      "execution_count": 110,
      "outputs": []
    },
    {
      "cell_type": "code",
      "source": [
        "archive_data[archive_data['url'] == url_list.iloc[compare_to_choice]['base_url']][['crawl_date']]"
      ],
      "metadata": {
        "id": "e_9l4Mf2WNFc"
      },
      "execution_count": null,
      "outputs": []
    },
    {
      "cell_type": "code",
      "source": [
        "#@title COMPARE TO Crawl date\n",
        "\n",
        "#@markdown Choose index of timestamp for which crawl to use\n",
        "compare_to_url_version_choice = 28385 #@param {type:\"integer\"}"
      ],
      "metadata": {
        "cellView": "form",
        "id": "tvx4Hd7-WYI6"
      },
      "execution_count": 70,
      "outputs": []
    },
    {
      "cell_type": "code",
      "source": [
        "#Final creation and comparison\n",
        "\n",
        "base_url_f = url_list.iloc[base_url_choice]['base_url']\n",
        "base_url_ts = archive_data.iloc[base_url_version_choice]['crawl_date']\n",
        "\n",
        "comp_url_f = url_list.iloc[compare_to_choice]['base_url']\n",
        "comp_url_ts = archive_data.iloc[compare_to_url_version_choice]['crawl_date']\n",
        "\n",
        "print(\"Comparison\\n\")\n",
        "\n",
        "\n",
        "doc_base = archive_data[archive_data['url']== base_url_f]\n",
        "doc_base = doc_base[doc_base['crawl_date'] == base_url_ts]\n",
        "doc_base = doc_base.head(1)\n",
        "bdate = str(doc_base.crawl_date.values[0]).split('T')[0].split(' ')[0].replace('-','')\n",
        "\n",
        "print(\"Base URL: \", base_url_f)\n",
        "print(\"Crawl date: \", base_url_ts)\n",
        "print(\"IA link: https://web.archive.org/web/\" + bdate + \"/\" + base_url_f)\n",
        "\n",
        "comp_base = archive_data[archive_data['url']== comp_url_f]\n",
        "comp_base = comp_base[comp_base['crawl_date'] == comp_url_ts]\n",
        "comp_base = comp_base.head(1)\n",
        "cdate = str(comp_base.crawl_date.values[0]).split('T')[0].split(' ')[0].replace('-','')\n",
        "\n",
        "print(\"\\n\")\n",
        "print(\"Comp URL: \",comp_url_f)\n",
        "print(\"Crawl date: \",comp_url_ts)\n",
        "print(\"IA link: https://web.archive.org/web/\" + bdate + \"/\" + comp_url_f)\n",
        "\n",
        "print(\"\\nSimilarity Score\")\n",
        "db = nlp(doc_base.content.values[0])\n",
        "dc = nlp(comp_base.content.values[0])\n",
        "\n",
        "print(db.similarity(dc))"
      ],
      "metadata": {
        "colab": {
          "base_uri": "https://localhost:8080/"
        },
        "id": "zotKgLPxVZQO",
        "outputId": "9971b021-bf8c-4fd7-b380-a6b0a2e2f04e"
      },
      "execution_count": 152,
      "outputs": [
        {
          "output_type": "stream",
          "name": "stdout",
          "text": [
            "Comparison\n",
            "\n",
            "Base URL:  https://www.niagararegion.ca/health/covid-19/default.aspx\n",
            "Crawl date:  2020-11-20 00:00:00\n",
            "IA link: https://web.archive.org/web/20201120/https://www.niagararegion.ca/health/covid-19/default.aspx\n",
            "\n",
            "\n",
            "Comp URL:  http://portcolborne.ca/page/covid-19\n",
            "Crawl date:  2020-11-06 00:00:00\n",
            "IA link: https://web.archive.org/web/20201120/http://portcolborne.ca/page/covid-19\n",
            "\n",
            "Similarity Score\n",
            "0.9780733164429761\n"
          ]
        }
      ]
    },
    {
      "cell_type": "code",
      "source": [
        "#Run cell to show Base Document\n",
        "doc_base\n"
      ],
      "metadata": {
        "id": "Vv6GfEL7bQ43"
      },
      "execution_count": null,
      "outputs": []
    },
    {
      "cell_type": "code",
      "source": [
        "#Run cell to show Compare to Document\n",
        "comp_base"
      ],
      "metadata": {
        "id": "v7dxoAkEbXTg"
      },
      "execution_count": null,
      "outputs": []
    }
  ]
}