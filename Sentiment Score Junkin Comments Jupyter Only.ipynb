{
 "cells": [
  {
   "cell_type": "markdown",
   "id": "881bec15-2af5-444f-8fd9-bd8eea3cf2e9",
   "metadata": {},
   "source": [
    "\n",
    "# Messages from the Mayor Analysis\n",
    "\n",
    "Data is harvest/constructed in this [notebook](https://github.com/BrockDSL/ARCH_Data_Explore/blob/main/Junkin_Processing.ipynb)\n",
    "\n",
    "Originally found here: [https://www.pelham.ca/en/living-here/covid-19-messages-from-the-mayor.aspx](https://www.pelham.ca/en/living-here/covid-19-messages-from-the-mayor.aspx)\n",
    "\n",
    "Now deleted. April 21, 2021 last [snapshot](https://web.archive.org/web/20210422114625/https://www.pelham.ca/en/living-here/covid-19-messages-from-the-mayor.aspx)\n",
    "\n",
    "This notebook only works as a Jupyter notebook. It also won't work in Jupyter-lab and needs the classic notebook view. This is because of the Javascript requirements (the IPython.WidgetManager is not available in Jupyter-lab or Google Colab).  "
   ]
  },
  {
   "cell_type": "code",
   "execution_count": null,
   "id": "0e1c992f",
   "metadata": {},
   "outputs": [],
   "source": [
    "!pip install ipywidgets pandas requests textblob nltk flair"
   ]
  },
  {
   "cell_type": "code",
   "execution_count": 1,
   "id": "a6c51491-8f98-4904-85a6-e633f5537ed3",
   "metadata": {},
   "outputs": [
    {
     "name": "stderr",
     "output_type": "stream",
     "text": [
      "[nltk_data] Downloading package vader_lexicon to\n",
      "[nltk_data]     /home/jovyan/nltk_data...\n",
      "[nltk_data]   Package vader_lexicon is already up-to-date!\n"
     ]
    },
    {
     "name": "stdout",
     "output_type": "stream",
     "text": [
      "2022-12-04 22:45:36,692 loading file /home/jovyan/.flair/models/sentiment-en-mix-distillbert_4.pt\n"
     ]
    }
   ],
   "source": [
    "from ipywidgets import interact\n",
    "import matplotlib.pyplot as plt\n",
    "import pandas as pd\n",
    "import requests\n",
    "import os\n",
    "\n",
    "from textblob import TextBlob\n",
    "import nltk\n",
    "nltk.download('vader_lexicon')\n",
    "from nltk.sentiment.vader import SentimentIntensityAnalyzer\n",
    "sid = SentimentIntensityAnalyzer()\n",
    "\n",
    "# Import flair pre-trained sentiment model\n",
    "from flair.models import TextClassifier\n",
    "classifier = TextClassifier.load('en-sentiment')\n",
    "#classifier_rnn_fast = TextClassifier.load('sentiment-fast')\n",
    "\n",
    "# Import flair Sentence to process input text\n",
    "from flair.data import Sentence\n",
    "\n",
    "pd.set_option('display.max_colwidth', 999)\n"
   ]
  },
  {
   "cell_type": "code",
   "execution_count": 2,
   "id": "bc4cfcc1-f95d-40a5-a852-ae23832da25e",
   "metadata": {},
   "outputs": [],
   "source": [
    "#Sentiment score from the classifiers is always a positive number indicating probability of the pred={POSITIVE,NEGATIVE}\n",
    "#Treat the score negative if pred=NEGATIVE and treat the score as a % of positivity/negativity\n",
    "def rescale_sentiment(sentence):\n",
    "  score = sentence.labels[0].score\n",
    "  pred = sentence.labels[0].value\n",
    "  \n",
    "  if pred == 'POSITIVE': return score\n",
    "  else: return score * -1\n",
    "\n",
    "def flair_sentiment(texts, classifier):\n",
    "    sentences = [Sentence(text) for text in texts]\n",
    "    classifier.predict(sentences, mini_batch_size=32, verbose=True)\n",
    "    return [rescale_sentiment(sent) for sent in sentences]"
   ]
  },
  {
   "cell_type": "code",
   "execution_count": 3,
   "id": "1614bf97-409d-4b34-bffd-28c32cb716f9",
   "metadata": {},
   "outputs": [],
   "source": [
    "if os.path.exists('junkin.csv.gz'):\n",
    "    junkin_data = pd.read_csv('junkin.csv.gz')\n",
    "else:\n",
    "    junkin_data = pd.read_csv(\"https://raw.githubusercontent.com/BrockDSL/ARCH_Data_Explore/main/Junkin_Posts.csv\")\n",
    "    junkin_data['vader_comp'] = junkin_data.apply(lambda row: sid.polarity_scores(row.Entry)['compound'], axis=1)\n",
    "    junkin_data['text_blob'] = junkin_data.apply(lambda row: TextBlob(row.Entry).sentiment.polarity, axis=1)\n",
    "    junkin_data['bert'] = flair_sentiment(junkin_data.Entry, classifier)\n",
    "    #junkin_data['rnn'] = flair_sentiment(junkin_data.Entry, classifier_rnn_fast)\n",
    "    \n",
    "junkin_data['Date'] = pd.to_datetime(junkin_data['Date'])"
   ]
  },
  {
   "cell_type": "code",
   "execution_count": 4,
   "id": "87c7861f-7d63-48a9-a73d-c548b008df44",
   "metadata": {},
   "outputs": [
    {
     "data": {
      "application/vnd.jupyter.widget-view+json": {
       "model_id": "c45b87b9a9ba40a9a760261bf3678705",
       "version_major": 2,
       "version_minor": 0
      },
      "text/plain": [
       "interactive(children=(Dropdown(description='algorithm', options=('vader_comp', 'text_blob', 'bert'), value='va…"
      ]
     },
     "metadata": {},
     "output_type": "display_data"
    },
    {
     "data": {
      "text/plain": [
       "<function __main__.plot_sentiment(algorithm)>"
      ]
     },
     "execution_count": 4,
     "metadata": {},
     "output_type": "execute_result"
    }
   ],
   "source": [
    "plt.ioff() #turn off automatic display of plots\n",
    "#algorithms = ['vader_comp','text_blob','bert','rnn']\n",
    "algorithms = ['vader_comp','text_blob','bert']\n",
    "\n",
    "def plot_sentiment(algorithm):\n",
    "    \n",
    "    fig, ax = plt.subplots(figsize=(12,8))\n",
    "\n",
    "    ax.bar(junkin_data[\"Date\"],junkin_data[algorithm])\n",
    "    ax.set_title(\"Sentiment of 'Messages from the Mayor'\")\n",
    "    ax.set_ylabel(\"Sentiment\")\n",
    "    ax.set_xlabel(\"Date\")\n",
    "\n",
    "interact(plot_sentiment, algorithm=algorithms)"
   ]
  },
  {
   "cell_type": "code",
   "execution_count": 5,
   "id": "e166810e",
   "metadata": {},
   "outputs": [
    {
     "data": {
      "application/vnd.jupyter.widget-view+json": {
       "model_id": "bea530e70b734ca4994cf749c604cdd9",
       "version_major": 2,
       "version_minor": 0
      },
      "text/plain": [
       "Textarea(value='On Friday the Provincial government introduced new measures to try to halt the runaway third w…"
      ]
     },
     "metadata": {},
     "output_type": "display_data"
    },
    {
     "data": {
      "application/vnd.jupyter.widget-view+json": {
       "model_id": "d031360cf7e74b06a09e067fd2b2c396",
       "version_major": 2,
       "version_minor": 0
      },
      "text/plain": [
       "IntSlider(value=0, description='Entry #: ', max=53)"
      ]
     },
     "metadata": {},
     "output_type": "display_data"
    },
    {
     "data": {
      "application/vnd.jupyter.widget-view+json": {
       "model_id": "23df3037963449e0ae573f8abbb27e37",
       "version_major": 2,
       "version_minor": 0
      },
      "text/plain": [
       "Text(value='', description='selected text:', layout=Layout(width='95%'))"
      ]
     },
     "metadata": {},
     "output_type": "display_data"
    },
    {
     "data": {
      "application/vnd.jupyter.widget-view+json": {
       "model_id": "6001bfebb5dd4785a4f1b5e39c93f41c",
       "version_major": 2,
       "version_minor": 0
      },
      "text/plain": [
       "HBox(children=(Output(layout=Layout(border_bottom='1px solid black', border_left='1px solid black', border_rig…"
      ]
     },
     "metadata": {},
     "output_type": "display_data"
    },
    {
     "data": {
      "application/javascript": [
       "\n",
       "\n",
       "function put2widget(arg) {\n",
       "    var manager = window.IPython.WidgetManager._managers[0];\n",
       "    var ta = manager.get_model('23df3037963449e0ae573f8abbb27e37');\n",
       "    ta.then(function(model) {\n",
       "        model.set('value', arg)\n",
       "        model.save()\n",
       "    });\n",
       "}\n",
       "\n",
       "function getSelection(event) {\n",
       "  \n",
       "  const selection = event.target.value.substring(event.target.selectionStart, event.target.selectionEnd);\n",
       "  document.querySelectorAll('input[type=\"text\"]')[0].value=selection;\n",
       "  put2widget(selection)\n",
       "\n",
       "}\n",
       "\n",
       "const area = document.querySelectorAll('textarea.widget-input')[0]\n",
       "area.addEventListener(\"select\", getSelection); \n",
       "\n"
      ],
      "text/plain": [
       "<IPython.core.display.Javascript object>"
      ]
     },
     "execution_count": 5,
     "metadata": {},
     "output_type": "execute_result"
    }
   ],
   "source": [
    "import ipywidgets as widgets\n",
    "from ipywidgets import Layout, VBox, HBox\n",
    "from IPython.display import clear_output\n",
    "from IPython.display import Javascript\n",
    "\n",
    "def display_hbar_sentiment(data, title, output):\n",
    "    with output:\n",
    "        output.clear_output()\n",
    "        \n",
    "        fig, ax = plt.subplots() \n",
    "\n",
    "        if type(data) == str:\n",
    "            text = data\n",
    "            vc = sid.polarity_scores(text)['compound']\n",
    "            tb = TextBlob(text).sentiment.polarity\n",
    "            bert = flair_sentiment([text], classifier)\n",
    "            #rnn = flair_sentiment([text], classifier_rnn_fast)\n",
    "        else:\n",
    "            row_data = data\n",
    "            vc = row_data['vader_comp']\n",
    "            tb = row_data['text_blob']\n",
    "            bert = row_data['bert']\n",
    "            #rnn = row_data['rnn']\n",
    "\n",
    "        #ax.barh(range(4),[vc,tb,bert,rnn], tick_label=['vader','textblob','bert','Rnn'])\n",
    "        ax.barh(range(3),[vc,tb,bert], tick_label=['vader','textblob','bert'])\n",
    "        ax.set_title(title)\n",
    "        ax.set_xlabel(\"Sentiment\")\n",
    "        display(fig)\n",
    "    \n",
    "    \n",
    "def sentiment_explore(x):\n",
    "    row_data = junkin_data.iloc[x]\n",
    "    display_hbar_sentiment(row_data, 'Entire message sentiment', o2)\n",
    "    display_hbar_sentiment(row_data, 'Selected text sentiment', o3)\n",
    "    text.value = row_data.Entry\n",
    "    \n",
    "text = widgets.Textarea(\n",
    "    value='',\n",
    "    description='Entry:',\n",
    "    disabled=False,\n",
    "    layout=Layout(width='95%', height='200px')\n",
    ")\n",
    "sel_text = widgets.Text(\n",
    "    value='',\n",
    "    description='selected text:',\n",
    "    disabled=False,\n",
    "    visible=False,\n",
    "    layout=Layout(width='95%')\n",
    ")\n",
    "\n",
    "def on_value_change(change):\n",
    "    #o3.clear_output()\n",
    "    if change['old'] != change['new']: \n",
    "        display_hbar_sentiment(change['new'], 'Selected text sentiment', o3)\n",
    "\n",
    "sel_text.observe(on_value_change, names='value')\n",
    "jscript = f'''\n",
    "\n",
    "function put2widget(arg) {{\n",
    "    var manager = window.IPython.WidgetManager._managers[0];\n",
    "    var ta = manager.get_model('{sel_text.model_id}');\n",
    "    ta.then(function(model) {{\n",
    "        model.set('value', arg)\n",
    "        model.save()\n",
    "    }});\n",
    "}}\n",
    "\n",
    "function getSelection(event) {{\n",
    "  \n",
    "  const selection = event.target.value.substring(event.target.selectionStart, event.target.selectionEnd);\n",
    "  document.querySelectorAll('input[type=\"text\"]')[0].value=selection;\n",
    "  put2widget(selection)\n",
    "\n",
    "}}\n",
    "\n",
    "const area = document.querySelectorAll('textarea.widget-input')[0]\n",
    "area.addEventListener(\"select\", getSelection); \n",
    "\n",
    "'''\n",
    "\n",
    "\n",
    "o2 = widgets.Output(layout={'border': '1px solid black'})\n",
    "o3 = widgets.Output(layout={'border': '1px solid black'})\n",
    "\n",
    "entry_slider = widgets.IntSlider(description=\"Entry #: \", min=0, max=len(junkin_data)-1, step=1, value=0)\n",
    "\n",
    "#This sets up a callback when changes are made to the slider\n",
    "widgets.interactive_output(sentiment_explore, {'x':entry_slider})\n",
    "\n",
    "\n",
    "display(text, entry_slider, sel_text, HBox([o2,o3]))\n",
    "\n",
    "#Must call this after all elements exist in the DOM\n",
    "Javascript(jscript)\n"
   ]
  },
  {
   "cell_type": "code",
   "execution_count": 6,
   "id": "25f9dddb",
   "metadata": {},
   "outputs": [
    {
     "data": {
      "application/vnd.jupyter.widget-view+json": {
       "model_id": "42e6333d27ec4f63b1b2040d23fcd77f",
       "version_major": 2,
       "version_minor": 0
      },
      "text/plain": [
       "Textarea(value='Enter text to analyze for sentiment here.', description='Entry:', layout=Layout(height='200px'…"
      ]
     },
     "metadata": {},
     "output_type": "display_data"
    },
    {
     "data": {
      "application/vnd.jupyter.widget-view+json": {
       "model_id": "fc788ff6c5f04bccade4848d2478d269",
       "version_major": 2,
       "version_minor": 0
      },
      "text/plain": [
       "Button(description='Analyze', icon='check', style=ButtonStyle(), tooltip='Click me')"
      ]
     },
     "metadata": {},
     "output_type": "display_data"
    },
    {
     "data": {
      "application/vnd.jupyter.widget-view+json": {
       "model_id": "b87917cb399040169f1430b6af15fc6f",
       "version_major": 2,
       "version_minor": 0
      },
      "text/plain": [
       "Output(layout=Layout(border_bottom='1px solid black', border_left='1px solid black', border_right='1px solid b…"
      ]
     },
     "metadata": {},
     "output_type": "display_data"
    }
   ],
   "source": [
    "plt.ioff() #turn off automatic display of plots\n",
    "custom_text = widgets.Textarea(\n",
    "    value='Enter text to analyze for sentiment here.',\n",
    "    description='Entry:',\n",
    "    disabled=False,\n",
    "    layout=Layout(width='95%', height='200px')\n",
    ")\n",
    "button = widgets.Button(\n",
    "    description='Analyze',\n",
    "    disabled=False,\n",
    "    button_style='', # 'success', 'info', 'warning', 'danger' or ''\n",
    "    tooltip='Click me',\n",
    "    icon='check' # (FontAwesome names without the `fa-` prefix)\n",
    ")\n",
    "button\n",
    "\n",
    "def custom_barh(cb):\n",
    "    text = custom_text.value\n",
    "    display_hbar_sentiment(text, 'Sentiment', custom_out)\n",
    "    \n",
    "custom_out = widgets.Output(layout={'border': '1px solid black'})\n",
    "button.on_click(custom_barh)\n",
    "display(custom_text, button, custom_out)\n",
    "\n",
    "    "
   ]
  },
  {
   "cell_type": "code",
   "execution_count": null,
   "id": "5ea0f248",
   "metadata": {},
   "outputs": [],
   "source": []
  }
 ],
 "metadata": {
  "kernelspec": {
   "display_name": "Python 3 (ipykernel)",
   "language": "python",
   "name": "python3"
  },
  "language_info": {
   "codemirror_mode": {
    "name": "ipython",
    "version": 3
   },
   "file_extension": ".py",
   "mimetype": "text/x-python",
   "name": "python",
   "nbconvert_exporter": "python",
   "pygments_lexer": "ipython3",
   "version": "3.7.12"
  }
 },
 "nbformat": 4,
 "nbformat_minor": 5
}
