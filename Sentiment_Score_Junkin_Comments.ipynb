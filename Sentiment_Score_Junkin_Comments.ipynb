{
  "nbformat": 4,
  "nbformat_minor": 0,
  "metadata": {
    "colab": {
      "name": "Sentiment Score Junkin Comments",
      "provenance": [],
      "collapsed_sections": [],
      "authorship_tag": "ABX9TyNigapbUE2u1+MTY0dvlaz6",
      "include_colab_link": true
    },
    "kernelspec": {
      "name": "python3",
      "display_name": "Python 3"
    },
    "language_info": {
      "name": "python"
    }
  },
  "cells": [
    {
      "cell_type": "markdown",
      "metadata": {
        "id": "view-in-github",
        "colab_type": "text"
      },
      "source": [
        "<a href=\"https://colab.research.google.com/github/BrockDSL/ARCH_Data_Explore/blob/main/Sentiment_Score_Junkin_Comments.ipynb\" target=\"_parent\"><img src=\"https://colab.research.google.com/assets/colab-badge.svg\" alt=\"Open In Colab\"/></a>"
      ]
    },
    {
      "cell_type": "markdown",
      "source": [
        "\n",
        "# Messages from the Mayor Analysis\n",
        "\n",
        "Data is harvest/constructed in this [notebook](https://github.com/BrockDSL/ARCH_Data_Explore/blob/main/Junkin_Processing.ipynb)\n",
        "\n",
        "Originally found here: [https://www.pelham.ca/en/living-here/covid-19-messages-from-the-mayor.aspx](https://www.pelham.ca/en/living-here/covid-19-messages-from-the-mayor.aspx)\n",
        "\n",
        "Now deleted. April 21, 2021 last [snapshot](https://web.archive.org/web/20210422114625/https://www.pelham.ca/en/living-here/covid-19-messages-from-the-mayor.aspx)\n",
        "\n"
      ],
      "metadata": {
        "id": "YB_CVeDPGNpL"
      }
    },
    {
      "cell_type": "code",
      "execution_count": 11,
      "metadata": {
        "id": "tP9Ji-uhFa6h"
      },
      "outputs": [],
      "source": [
        "import pandas as pd\n",
        "from textblob import TextBlob\n",
        "import nltk\n",
        "from nltk.corpus import stopwords\n",
        "import requests\n",
        "import matplotlib.pyplot as plt\n",
        "pd.set_option('display.max_colwidth', 999)"
      ]
    },
    {
      "cell_type": "code",
      "source": [
        "junkin_data = pd.read_csv(\"https://raw.githubusercontent.com/BrockDSL/ARCH_Data_Explore/main/Junkin_Posts.csv\")\n",
        "junkin_data['Date'] = pd.to_datetime(junkin_data['Date'])"
      ],
      "metadata": {
        "id": "9Jf5Yp5Cwc7U"
      },
      "execution_count": 12,
      "outputs": []
    },
    {
      "cell_type": "code",
      "source": [
        "\n",
        "polarity = []\n",
        "subjectivity = []\n",
        "\n",
        "for day in junkin_data.Entry:\n",
        "    score = TextBlob(day)\n",
        "    polarity.append(score.sentiment.polarity)\n",
        "    subjectivity.append(score.sentiment.subjectivity)\n",
        "\n",
        "junkin_data[\"polarity\"] = polarity\n",
        "junkin_data[\"subjectivity\"] = subjectivity"
      ],
      "metadata": {
        "id": "xmJJ_1o2wkF7"
      },
      "execution_count": 16,
      "outputs": []
    },
    {
      "cell_type": "code",
      "source": [
        "junkin_data.head(5)"
      ],
      "metadata": {
        "colab": {
          "base_uri": "https://localhost:8080/",
          "height": 771
        },
        "id": "nx4Xt1qQ0J16",
        "outputId": "587374bb-7747-4f36-f95f-476498de52fc"
      },
      "execution_count": 21,
      "outputs": [
        {
          "output_type": "execute_result",
          "data": {
            "text/plain": [
              "        Date  \\\n",
              "0 2021-04-20   \n",
              "1 2021-04-13   \n",
              "2 2021-04-06   \n",
              "3 2021-03-30   \n",
              "4 2021-03-23   \n",
              "\n",
              "                                                                                                                                                                                                                                                                                                                                                                                                                                                                                                                                                                                                                                                                                                                                                                                                                                                                                                                                                                                                                                    Entry  \\\n",
              "0  On Friday the Provincial government introduced new measures to try to halt the runaway third wave of COVID variants that are the toughest in North America. Among other directives, police and bylaw officers were given the authority to stop residents who were either driving or walking, and ask them their reason for be- ing outside their residences. After almost all police forces in the province stated they would not be stopping cars to do these checks, the Provincial government backtracked.During his Friday announcement, Premier Ford said, “We, as a group, are not saying don’t take a walk around and get some exercise,” but added there needed to be measures in place that target large groups of people who meet in public parks without social distancing. Following this announcement, Pelham’s playgrounds like all other playgrounds located in Ontario were off limits. Many experts did not agree with the closing of the playgrounds because infections from surface con- tact are thought to be ...   \n",
              "1  Some 100,000 Niagara residents are now vaccinated against COVID-19. This represents 19 percent of Niagara residents having received a first dose, while 1.9 percent have received a complete series, so are fully vaccinated. The vaccination clinic held this past Thursday at the community centre operated without a hitch, with some 900 doses having been administered. Residents that I talked to were very impressed with the quickness that they were in and out of the building. Health officials were so impressed with the site that at least two future dates have been booked, and will be announced shortly. All vaccination clinics within the Region are now completely booked for the next two weeks.It is great to see Niagara residents accept- ing the vaccines so willingly, with other areas of the province having a hard time filling all of their appointments. On Monday, Niagara Public Health reminded residents in the \"strongest possible terms\" to continue observing the current stay-at-home order...   \n",
              "2  It is important to note that Niagara Region Public Health vaccination clinics will continue to be open during the Province-wide shutdown. As more and more clinics open and run simultaneously in the Region, there is the problem of unused doses at the end of the day. These doses cannot be refrozen and must be used within a certain time frame. The Health Unit must try to make use of these unused vaccines. To this end, they are compiling standby lists. To qualify for the current standby list, Niagara residents must be 65 and over and must be able to arrive at a pre-chosen clinic within 30 minutes of receiving the notification call. Residents are asked to sign-up even if they already have an appointment, and are still encouraged to book an appointment through the Provincial booking system, as those on the standby list are not guaranteed to get a vaccine.As of last Thursday, the total number of vaccine doses administered in Niagara was 77,984. When word of the availability of the COVID-...   \n",
              "3  While address- ing a public forum this past Friday afternoon, the Region’s Acting Medical Officer of Health, Dr. Mustafa Hirji, stated that 48 percent of the 80-year-old-plus segment of Niagara’s population have now been vaccinated. Of course the majority of these are located in the Region’s senior and long-term-care homes. It can be assumed that the remaining 52 per- cent of this group live in their own homes. It is the group that has for the past week been able to book appointments on the province’s health line. A fair number of Pelham seniors have used the assistance offered by the Pelham Library to make these bookings.If you require some help, the Library phone number is (905) 892-6443. Once you have booked an appointment, the website niagararegion.ca provides information on such things as when to arrive, what to bring, and what to expect at the clinic. Starting this Monday, those who will turn 75 or older in 2021 may also now book appointments. The first vaccination clinic wi...   \n",
              "4  While addressing a public forum this past Friday afternoon, the Region’s Acting Medical Officer of Health, Dr. Mustafa Hirji, stated that 48 percent of the 80-year-old-plus segment of Niagara’s population have now been vaccinated. Of course the majority of these are located in the Region’s senior and long-term-care homes. It can be assumed that the remaining 52 per cent of this group live in their own homes. It is the group that has for the past week been able to book appointments on the province’s health line. A fair number of Pelham seniors have used the assistance offered by the Pelham Library to make these bookings. If you require some help, the Library phone number is (905) 892-6443. Once you have booked an appointment, the website niagararegion.ca provides information on such things as when to arrive, what to bring, and what to expect at the clinic. Starting this Monday, those who will turn 75 or older in 2021 may also now book appointments. The first vaccination clinic will...   \n",
              "\n",
              "   polarity  subjectivity  \n",
              "0  0.057661      0.371154  \n",
              "1  0.124383      0.431420  \n",
              "2  0.152799      0.472522  \n",
              "3  0.131653      0.389182  \n",
              "4  0.126168      0.372966  "
            ],
            "text/html": [
              "\n",
              "  <div id=\"df-91ee529d-001c-4a16-8dc9-270fbe738de8\">\n",
              "    <div class=\"colab-df-container\">\n",
              "      <div>\n",
              "<style scoped>\n",
              "    .dataframe tbody tr th:only-of-type {\n",
              "        vertical-align: middle;\n",
              "    }\n",
              "\n",
              "    .dataframe tbody tr th {\n",
              "        vertical-align: top;\n",
              "    }\n",
              "\n",
              "    .dataframe thead th {\n",
              "        text-align: right;\n",
              "    }\n",
              "</style>\n",
              "<table border=\"1\" class=\"dataframe\">\n",
              "  <thead>\n",
              "    <tr style=\"text-align: right;\">\n",
              "      <th></th>\n",
              "      <th>Date</th>\n",
              "      <th>Entry</th>\n",
              "      <th>polarity</th>\n",
              "      <th>subjectivity</th>\n",
              "    </tr>\n",
              "  </thead>\n",
              "  <tbody>\n",
              "    <tr>\n",
              "      <th>0</th>\n",
              "      <td>2021-04-20</td>\n",
              "      <td>On Friday the Provincial government introduced new measures to try to halt the runaway third wave of COVID variants that are the toughest in North America. Among other directives, police and bylaw officers were given the authority to stop residents who were either driving or walking, and ask them their reason for be- ing outside their residences. After almost all police forces in the province stated they would not be stopping cars to do these checks, the Provincial government backtracked.During his Friday announcement, Premier Ford said, “We, as a group, are not saying don’t take a walk around and get some exercise,” but added there needed to be measures in place that target large groups of people who meet in public parks without social distancing. Following this announcement, Pelham’s playgrounds like all other playgrounds located in Ontario were off limits. Many experts did not agree with the closing of the playgrounds because infections from surface con- tact are thought to be ...</td>\n",
              "      <td>0.057661</td>\n",
              "      <td>0.371154</td>\n",
              "    </tr>\n",
              "    <tr>\n",
              "      <th>1</th>\n",
              "      <td>2021-04-13</td>\n",
              "      <td>Some 100,000 Niagara residents are now vaccinated against COVID-19. This represents 19 percent of Niagara residents having received a first dose, while 1.9 percent have received a complete series, so are fully vaccinated. The vaccination clinic held this past Thursday at the community centre operated without a hitch, with some 900 doses having been administered. Residents that I talked to were very impressed with the quickness that they were in and out of the building. Health officials were so impressed with the site that at least two future dates have been booked, and will be announced shortly. All vaccination clinics within the Region are now completely booked for the next two weeks.It is great to see Niagara residents accept- ing the vaccines so willingly, with other areas of the province having a hard time filling all of their appointments. On Monday, Niagara Public Health reminded residents in the \"strongest possible terms\" to continue observing the current stay-at-home order...</td>\n",
              "      <td>0.124383</td>\n",
              "      <td>0.431420</td>\n",
              "    </tr>\n",
              "    <tr>\n",
              "      <th>2</th>\n",
              "      <td>2021-04-06</td>\n",
              "      <td>It is important to note that Niagara Region Public Health vaccination clinics will continue to be open during the Province-wide shutdown. As more and more clinics open and run simultaneously in the Region, there is the problem of unused doses at the end of the day. These doses cannot be refrozen and must be used within a certain time frame. The Health Unit must try to make use of these unused vaccines. To this end, they are compiling standby lists. To qualify for the current standby list, Niagara residents must be 65 and over and must be able to arrive at a pre-chosen clinic within 30 minutes of receiving the notification call. Residents are asked to sign-up even if they already have an appointment, and are still encouraged to book an appointment through the Provincial booking system, as those on the standby list are not guaranteed to get a vaccine.As of last Thursday, the total number of vaccine doses administered in Niagara was 77,984. When word of the availability of the COVID-...</td>\n",
              "      <td>0.152799</td>\n",
              "      <td>0.472522</td>\n",
              "    </tr>\n",
              "    <tr>\n",
              "      <th>3</th>\n",
              "      <td>2021-03-30</td>\n",
              "      <td>While address- ing a public forum this past Friday afternoon, the Region’s Acting Medical Officer of Health, Dr. Mustafa Hirji, stated that 48 percent of the 80-year-old-plus segment of Niagara’s population have now been vaccinated. Of course the majority of these are located in the Region’s senior and long-term-care homes. It can be assumed that the remaining 52 per- cent of this group live in their own homes. It is the group that has for the past week been able to book appointments on the province’s health line. A fair number of Pelham seniors have used the assistance offered by the Pelham Library to make these bookings.If you require some help, the Library phone number is (905) 892-6443. Once you have booked an appointment, the website niagararegion.ca provides information on such things as when to arrive, what to bring, and what to expect at the clinic. Starting this Monday, those who will turn 75 or older in 2021 may also now book appointments. The first vaccination clinic wi...</td>\n",
              "      <td>0.131653</td>\n",
              "      <td>0.389182</td>\n",
              "    </tr>\n",
              "    <tr>\n",
              "      <th>4</th>\n",
              "      <td>2021-03-23</td>\n",
              "      <td>While addressing a public forum this past Friday afternoon, the Region’s Acting Medical Officer of Health, Dr. Mustafa Hirji, stated that 48 percent of the 80-year-old-plus segment of Niagara’s population have now been vaccinated. Of course the majority of these are located in the Region’s senior and long-term-care homes. It can be assumed that the remaining 52 per cent of this group live in their own homes. It is the group that has for the past week been able to book appointments on the province’s health line. A fair number of Pelham seniors have used the assistance offered by the Pelham Library to make these bookings. If you require some help, the Library phone number is (905) 892-6443. Once you have booked an appointment, the website niagararegion.ca provides information on such things as when to arrive, what to bring, and what to expect at the clinic. Starting this Monday, those who will turn 75 or older in 2021 may also now book appointments. The first vaccination clinic will...</td>\n",
              "      <td>0.126168</td>\n",
              "      <td>0.372966</td>\n",
              "    </tr>\n",
              "  </tbody>\n",
              "</table>\n",
              "</div>\n",
              "      <button class=\"colab-df-convert\" onclick=\"convertToInteractive('df-91ee529d-001c-4a16-8dc9-270fbe738de8')\"\n",
              "              title=\"Convert this dataframe to an interactive table.\"\n",
              "              style=\"display:none;\">\n",
              "        \n",
              "  <svg xmlns=\"http://www.w3.org/2000/svg\" height=\"24px\"viewBox=\"0 0 24 24\"\n",
              "       width=\"24px\">\n",
              "    <path d=\"M0 0h24v24H0V0z\" fill=\"none\"/>\n",
              "    <path d=\"M18.56 5.44l.94 2.06.94-2.06 2.06-.94-2.06-.94-.94-2.06-.94 2.06-2.06.94zm-11 1L8.5 8.5l.94-2.06 2.06-.94-2.06-.94L8.5 2.5l-.94 2.06-2.06.94zm10 10l.94 2.06.94-2.06 2.06-.94-2.06-.94-.94-2.06-.94 2.06-2.06.94z\"/><path d=\"M17.41 7.96l-1.37-1.37c-.4-.4-.92-.59-1.43-.59-.52 0-1.04.2-1.43.59L10.3 9.45l-7.72 7.72c-.78.78-.78 2.05 0 2.83L4 21.41c.39.39.9.59 1.41.59.51 0 1.02-.2 1.41-.59l7.78-7.78 2.81-2.81c.8-.78.8-2.07 0-2.86zM5.41 20L4 18.59l7.72-7.72 1.47 1.35L5.41 20z\"/>\n",
              "  </svg>\n",
              "      </button>\n",
              "      \n",
              "  <style>\n",
              "    .colab-df-container {\n",
              "      display:flex;\n",
              "      flex-wrap:wrap;\n",
              "      gap: 12px;\n",
              "    }\n",
              "\n",
              "    .colab-df-convert {\n",
              "      background-color: #E8F0FE;\n",
              "      border: none;\n",
              "      border-radius: 50%;\n",
              "      cursor: pointer;\n",
              "      display: none;\n",
              "      fill: #1967D2;\n",
              "      height: 32px;\n",
              "      padding: 0 0 0 0;\n",
              "      width: 32px;\n",
              "    }\n",
              "\n",
              "    .colab-df-convert:hover {\n",
              "      background-color: #E2EBFA;\n",
              "      box-shadow: 0px 1px 2px rgba(60, 64, 67, 0.3), 0px 1px 3px 1px rgba(60, 64, 67, 0.15);\n",
              "      fill: #174EA6;\n",
              "    }\n",
              "\n",
              "    [theme=dark] .colab-df-convert {\n",
              "      background-color: #3B4455;\n",
              "      fill: #D2E3FC;\n",
              "    }\n",
              "\n",
              "    [theme=dark] .colab-df-convert:hover {\n",
              "      background-color: #434B5C;\n",
              "      box-shadow: 0px 1px 3px 1px rgba(0, 0, 0, 0.15);\n",
              "      filter: drop-shadow(0px 1px 2px rgba(0, 0, 0, 0.3));\n",
              "      fill: #FFFFFF;\n",
              "    }\n",
              "  </style>\n",
              "\n",
              "      <script>\n",
              "        const buttonEl =\n",
              "          document.querySelector('#df-91ee529d-001c-4a16-8dc9-270fbe738de8 button.colab-df-convert');\n",
              "        buttonEl.style.display =\n",
              "          google.colab.kernel.accessAllowed ? 'block' : 'none';\n",
              "\n",
              "        async function convertToInteractive(key) {\n",
              "          const element = document.querySelector('#df-91ee529d-001c-4a16-8dc9-270fbe738de8');\n",
              "          const dataTable =\n",
              "            await google.colab.kernel.invokeFunction('convertToInteractive',\n",
              "                                                     [key], {});\n",
              "          if (!dataTable) return;\n",
              "\n",
              "          const docLinkHtml = 'Like what you see? Visit the ' +\n",
              "            '<a target=\"_blank\" href=https://colab.research.google.com/notebooks/data_table.ipynb>data table notebook</a>'\n",
              "            + ' to learn more about interactive tables.';\n",
              "          element.innerHTML = '';\n",
              "          dataTable['output_type'] = 'display_data';\n",
              "          await google.colab.output.renderOutput(dataTable, element);\n",
              "          const docLink = document.createElement('div');\n",
              "          docLink.innerHTML = docLinkHtml;\n",
              "          element.appendChild(docLink);\n",
              "        }\n",
              "      </script>\n",
              "    </div>\n",
              "  </div>\n",
              "  "
            ]
          },
          "metadata": {},
          "execution_count": 21
        }
      ]
    },
    {
      "cell_type": "code",
      "source": [
        "plt.plot(junkin_data[\"Date\"],junkin_data[\"polarity\"])\n",
        "plt.xticks(rotation='45')\n",
        "plt.title(\"Sentiment of 'Messages from the Mayor'\")\n",
        "plt.ylabel(\"Polarity Score\")\n",
        "plt.xlabel(\"Date\")\n",
        "plt.show()"
      ],
      "metadata": {
        "colab": {
          "base_uri": "https://localhost:8080/",
          "height": 322
        },
        "id": "YlbiHhaP0ZcU",
        "outputId": "e1aa3afe-910c-4876-9859-fe42fde8c610"
      },
      "execution_count": 27,
      "outputs": [
        {
          "output_type": "display_data",
          "data": {
            "text/plain": [
              "<Figure size 432x288 with 1 Axes>"
            ],
            "image/png": "[encoded data removed]"
          },
          "metadata": {
            "needs_background": "light"
          }
        }
      ]
    }
  ]
}