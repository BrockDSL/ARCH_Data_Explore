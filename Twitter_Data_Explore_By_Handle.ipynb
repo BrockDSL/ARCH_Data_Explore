{
  "nbformat": 4,
  "nbformat_minor": 0,
  "metadata": {
    "colab": {
      "name": "Twitter Data Explore By Handle.ipynb",
      "provenance": [],
      "collapsed_sections": [],
      "authorship_tag": "ABX9TyMeJ3UtE8Tj73m1E16pvFlV",
      "include_colab_link": true
    },
    "kernelspec": {
      "name": "python3",
      "display_name": "Python 3"
    },
    "language_info": {
      "name": "python"
    }
  },
  "cells": [
    {
      "cell_type": "markdown",
      "metadata": {
        "id": "view-in-github",
        "colab_type": "text"
      },
      "source": [
        "<a href=\"https://colab.research.google.com/github/BrockDSL/ARCH_Data_Explore/blob/main/Twitter_Data_Explore_By_Handle.ipynb\" target=\"_parent\"><img src=\"https://colab.research.google.com/assets/colab-badge.svg\" alt=\"Open In Colab\"/></a>"
      ]
    },
    {
      "cell_type": "markdown",
      "source": [
        "![dsl_logo.png](https://raw.githubusercontent.com/BrockDSL/Analyzing_Web_Archives/main/dsl_logo.png)\n",
        "\n",
        "This notebook displays tweets from the following Twitter accounts:\n",
        "\n",
        "- niagararegion.ca | Niagara Region (@NiagaraRegion) \n",
        "- notl.com | Niagara-on-the-Lake @Town_of_NOTL\n",
        "- stcatharines.ca | St. Catharines @St_Catharines\n",
        "- niagarafalls.ca | Niagara Falls Canada @NiagaraFalls\n",
        "- lincoln.ca | Town of Lincoln @TownofLincolnON\n",
        "- forterie.ca | Town of Fort Erie @TownOfFortErie\n",
        "- grimsby.ca | Town of Grimsby @TownofGrimsby\n",
        "- portcolborne.ca | City of Port Colborne @PortColborne\n",
        "- thorold.ca | City of Thorold @CityofThorold18\n",
        "- welland.ca | City of Welland @Welland\n",
        "- westlincoln.ca | Township of West Lincoln @TWPWestLincoln \n",
        "- wainfleet.ca | Wainfleet Township @WainfleetTowns1 \n",
        "- pelham.ca | Town Of Pelham @TownOfPelham\n",
        "\n",
        "You can also examine a specific account if you know the handle. \n",
        "\n",
        "## How this notebook works\n",
        "\n",
        "This webpage is a Google Colab notebook and is comprised of different *cells*. Some are code cells that run Python snippets. To works through these cells simply click on the triangle _run_ button in each cell."
      ],
      "metadata": {
        "id": "G3-rgaCrACzl"
      }
    },
    {
      "cell_type": "markdown",
      "source": [
        "## Import Libraries"
      ],
      "metadata": {
        "id": "fVjCcCX8CiwH"
      }
    },
    {
      "cell_type": "code",
      "execution_count": 1,
      "metadata": {
        "colab": {
          "base_uri": "https://localhost:8080/"
        },
        "id": "skDvSK52aZZd",
        "outputId": "5c33d70b-853b-4274-a443-15cd5290301a"
      },
      "outputs": [
        {
          "output_type": "stream",
          "name": "stdout",
          "text": [
            "----------------\n",
            "Libraries Loaded\n"
          ]
        }
      ],
      "source": [
        "import gdown\n",
        "import pandas as pd\n",
        "from google.colab import files\n",
        "pd.set_option('display.max_colwidth', False)\n",
        "pd.set_option('display.max_columns', None)\n",
        "pd.set_option('display.max_rows', 250)\n",
        "print(\"----------------\")\n",
        "print(\"Libraries Loaded\")"
      ]
    },
    {
      "cell_type": "markdown",
      "source": [
        "## Download Data"
      ],
      "metadata": {
        "id": "-vAUAW5QCbDf"
      }
    },
    {
      "cell_type": "code",
      "source": [
        "gdown.download(\"https://github.com/BrockDSL/ARCH_Data_Explore/raw/main/covid_niagara_twitter.csv\", quiet=False)\n",
        "archive_data = pd.read_csv(\"covid_niagara_twitter.csv\")\n",
        "#archive_data = archive_data.drop_duplicates(subset=['handle','text'],keep='last')\n",
        "archive_data.drop(columns=['v_pos', 'v_neg', 'v_neu'], inplace=True)\n",
        "archive_data['crawl_date'] = pd.to_datetime(archive_data['crawl_date'],format='%Y-%m-%d')\n",
        "print(\"-----------\")\n",
        "print(\"Data Loaded\")"
      ],
      "metadata": {
        "colab": {
          "base_uri": "https://localhost:8080/"
        },
        "id": "x-D4oh85bFgR",
        "outputId": "dbb12377-8d54-4145-e16f-ca3169e39f8b"
      },
      "execution_count": 2,
      "outputs": [
        {
          "output_type": "stream",
          "name": "stderr",
          "text": [
            "Downloading...\n",
            "From: https://github.com/BrockDSL/ARCH_Data_Explore/raw/main/covid_niagara_twitter.csv\n",
            "To: /content/covid_niagara_twitter.csv\n",
            "5.64MB [00:00, 20.1MB/s]\n"
          ]
        },
        {
          "output_type": "stream",
          "name": "stdout",
          "text": [
            "-----------\n",
            "Data Loaded\n"
          ]
        }
      ]
    },
    {
      "cell_type": "code",
      "source": [
        "#@title Specific Twitter Handle Data\n",
        "\n",
        "#@markdown Select or enter your own handle. \n",
        "Handle =  \"@NiagaraFalls\" #@param [\"@NiagaraRegion\", \"@Town_of_NOTL\", \"@St_Catharines\", \"@NiagaraFalls\", \"@TownofLincolnON\", \"@TownOfFortErie\", \"@TownofGrimsby\", \"@PortColborne\", \"@CityofThorold18\", \"@Welland\", \"@TWPWestLincoln\", \"@WainfleetTowns1\", \"@TownOfPelham\"] {allow-input:true}\n",
        "\n",
        "#@markdown How many rows to show\n",
        "Count = 30 #@param {type: \"slider\", min:1, max: 250}\n",
        "\n",
        "#@markdown Sort by dates in ascending fashion?\n",
        "Ascending = False #@param {type: \"boolean\"}\n",
        "\n",
        "#@markdown Keep duplicate tweets?\n",
        "Duplicates = True #@param {type: \"boolean\"}\n",
        "\n",
        "#@markdown Select only Tweets crawled between Start and End.\n",
        "\n",
        "Start = \"2020-04-01\" #@param {type:\"date\"}\n",
        "End = \"2021-12-31\" #@param {type:\"date\"}\n",
        "\n",
        "#@markdown Be sure to hit the *run* button to confirm your selection\n",
        "if not Duplicates:\n",
        "  filtered_data = archive_data.drop_duplicates(subset=['handle','text'],keep='last')\n",
        "else:\n",
        "  filtered_data = archive_data\n",
        "\n",
        "date_range = (filtered_data['crawl_date'] >= pd.Timestamp(Start)) & (filtered_data['crawl_date'] <= pd.Timestamp(End))\n",
        "filtered_data = filtered_data[(filtered_data['handle'] == Handle) & date_range].sort_values(by='crawl_date', ascending=Ascending)\n",
        "filtered_data[0:Count]"
      ],
      "metadata": {
        "colab": {
          "base_uri": "https://localhost:8080/",
          "height": 612
        },
        "id": "o9jYmE4cbr5s",
        "outputId": "60517bee-b47f-4bfd-9357-fec6cc85a418"
      },
      "execution_count": 6,
      "outputs": [
        {
          "output_type": "execute_result",
          "data": {
            "text/html": [
              "\n",
              "  <div id=\"df-563a8322-debb-499c-a3cb-2904867a9357\">\n",
              "    <div class=\"colab-df-container\">\n",
              "      <div>\n",
              "<style scoped>\n",
              "    .dataframe tbody tr th:only-of-type {\n",
              "        vertical-align: middle;\n",
              "    }\n",
              "\n",
              "    .dataframe tbody tr th {\n",
              "        vertical-align: top;\n",
              "    }\n",
              "\n",
              "    .dataframe thead th {\n",
              "        text-align: right;\n",
              "    }\n",
              "</style>\n",
              "<table border=\"1\" class=\"dataframe\">\n",
              "  <thead>\n",
              "    <tr style=\"text-align: right;\">\n",
              "      <th></th>\n",
              "      <th>crawl_date</th>\n",
              "      <th>url</th>\n",
              "      <th>handle</th>\n",
              "      <th>text</th>\n",
              "      <th>v_comp</th>\n",
              "    </tr>\n",
              "  </thead>\n",
              "  <tbody>\n",
              "    <tr>\n",
              "      <th>15223</th>\n",
              "      <td>2021-10-16</td>\n",
              "      <td>https://twitter.com/NiagaraFalls/status/1448342985201094664</td>\n",
              "      <td>@NiagaraFalls</td>\n",
              "      <td>Today and every day in October! ⬇️⬇️⬇️…</td>\n",
              "      <td>0.0000</td>\n",
              "    </tr>\n",
              "    <tr>\n",
              "      <th>13847</th>\n",
              "      <td>2021-08-28</td>\n",
              "      <td>https://twitter.com/NiagaraFalls/status/1429815310903881732</td>\n",
              "      <td>@NiagaraFalls</td>\n",
              "      <td>Our Transit Pop-Up Store is opening again! Niagara Falls and Regional transit passes will be available for purchase. 🗓️ August 30th -  September 3rd 🕗 8:30am - 4:30pm 🚩 Morrison-Dorchester Transit Hub (7190 Morrison St, Dollarama plaza) More info: https://t.co/KqyPQAvRwB… https://t.co/ktWQ03nhSp</td>\n",
              "      <td>0.0000</td>\n",
              "    </tr>\n",
              "    <tr>\n",
              "      <th>13709</th>\n",
              "      <td>2021-08-21</td>\n",
              "      <td>https://twitter.com/NiagaraFalls/status/1428363502624788482</td>\n",
              "      <td>@NiagaraFalls</td>\n",
              "      <td>Walk-ins are welcome! Moderna and Pfizer vaccines are available (first and second dose). 📍 MacBain Community Centre - 9:30 a.m. to 6:00 p.m. #Covid19ON… https://t.co/9gJbddrNfB</td>\n",
              "      <td>0.5093</td>\n",
              "    </tr>\n",
              "    <tr>\n",
              "      <th>10269</th>\n",
              "      <td>2021-04-17</td>\n",
              "      <td>https://twitter.com/NiagaraFalls/status/1382149959550709761</td>\n",
              "      <td>@NiagaraFalls</td>\n",
              "      <td>Earn an EASY 500 bonus points in the Green Movement competition on GooseChase from now until April 19.  Plus we're adding new challenges all week! Details in the app and at https://t.co/d1UBeBY2w5 #mycitynf #earthday… https://t.co/rbp8KPEsPJ</td>\n",
              "      <td>0.8283</td>\n",
              "    </tr>\n",
              "    <tr>\n",
              "      <th>7462</th>\n",
              "      <td>2021-01-02</td>\n",
              "      <td>https://twitter.com/NiagaraFalls/status/1343633047665725446</td>\n",
              "      <td>@NiagaraFalls</td>\n",
              "      <td>Maintaining connections with others is always important for your mental health, but especially during a pandemic. Here are some great tips on improving your mental health from Dr. Maxine Lewis, Chief of Mental and Addictions for Niagara Health &amp; St. Joseph’s Healthcare Hamilton.… https://t.co/ySqS4wClqR</td>\n",
              "      <td>0.8945</td>\n",
              "    </tr>\n",
              "    <tr>\n",
              "      <th>3004</th>\n",
              "      <td>2020-08-08</td>\n",
              "      <td>https://twitter.com/NiagaraFalls/status/1278304860501413888</td>\n",
              "      <td>@NiagaraFalls</td>\n",
              "      <td>Happy Canada Day! 🍁  Tune into the #NiagaraFalls Canada Day Celebration at 9am &amp; 6pm! ✔️ Remember to participate in the Great Canadian #NFCanadaDay Contest! Win an iPad, BBQ, bike, amazing gift cards, or more! https://t.co/hvUQdJcbaI #canadaday #contest #giveaway @jimdiodati… https://t.co/fsg4lYXge2</td>\n",
              "      <td>0.9660</td>\n",
              "    </tr>\n",
              "    <tr>\n",
              "      <th>2771</th>\n",
              "      <td>2020-08-01</td>\n",
              "      <td>https://twitter.com/NiagaraFalls/status/1278304860501413888</td>\n",
              "      <td>@NiagaraFalls</td>\n",
              "      <td>Happy Canada Day! 🍁  Tune into the #NiagaraFalls Canada Day Celebration at 9am &amp; 6pm! ✔️ Remember to participate in the Great Canadian #NFCanadaDay Contest! Win an iPad, BBQ, bike, amazing gift cards, or more! https://t.co/hvUQdJcbaI #canadaday #contest #giveaway @jimdiodati… https://t.co/fsg4lYXge2</td>\n",
              "      <td>0.9660</td>\n",
              "    </tr>\n",
              "    <tr>\n",
              "      <th>2538</th>\n",
              "      <td>2020-07-25</td>\n",
              "      <td>https://twitter.com/NiagaraFalls/status/1278304860501413888</td>\n",
              "      <td>@NiagaraFalls</td>\n",
              "      <td>Happy Canada Day! 🍁  Tune into the #NiagaraFalls Canada Day Celebration at 9am &amp; 6pm! ✔️ Remember to participate in the Great Canadian #NFCanadaDay Contest! Win an iPad, BBQ, bike, amazing gift cards, or more! https://t.co/hvUQdJcbaI #canadaday #contest #giveaway @jimdiodati… https://t.co/fsg4lYXge2</td>\n",
              "      <td>0.9660</td>\n",
              "    </tr>\n",
              "    <tr>\n",
              "      <th>2324</th>\n",
              "      <td>2020-07-18</td>\n",
              "      <td>https://twitter.com/NiagaraFalls/status/1278304860501413888</td>\n",
              "      <td>@NiagaraFalls</td>\n",
              "      <td>Happy Canada Day! 🍁  Tune into the #NiagaraFalls Canada Day Celebration at 9am &amp; 6pm! ✔️ Remember to participate in the Great Canadian #NFCanadaDay Contest! Win an iPad, BBQ, bike, amazing gift cards, or more! https://t.co/hvUQdJcbaI #canadaday #contest #giveaway @jimdiodati… https://t.co/fsg4lYXge2</td>\n",
              "      <td>0.9660</td>\n",
              "    </tr>\n",
              "    <tr>\n",
              "      <th>2117</th>\n",
              "      <td>2020-07-11</td>\n",
              "      <td>https://twitter.com/NiagaraFalls/status/1278304860501413888</td>\n",
              "      <td>@NiagaraFalls</td>\n",
              "      <td>Happy Canada Day! 🍁  Tune into the #NiagaraFalls Canada Day Celebration at 9am &amp; 6pm! ✔️ Remember to participate in the Great Canadian #NFCanadaDay Contest! Win an iPad, BBQ, bike, amazing gift cards, or more! https://t.co/hvUQdJcbaI #canadaday #contest #giveaway @jimdiodati… https://t.co/fsg4lYXge2</td>\n",
              "      <td>0.9660</td>\n",
              "    </tr>\n",
              "    <tr>\n",
              "      <th>1925</th>\n",
              "      <td>2020-07-04</td>\n",
              "      <td>https://twitter.com/NiagaraFalls/status/1278304860501413888</td>\n",
              "      <td>@NiagaraFalls</td>\n",
              "      <td>Happy Canada Day! 🍁  Tune into the #NiagaraFalls Canada Day Celebration at 9am &amp; 6pm! ✔️ Remember to participate in the Great Canadian #NFCanadaDay Contest! Win an iPad, BBQ, bike, amazing gift cards, or more! https://t.co/hvUQdJcbaI #canadaday #contest #giveaway @jimdiodati… https://t.co/fsg4lYXge2</td>\n",
              "      <td>0.9660</td>\n",
              "    </tr>\n",
              "  </tbody>\n",
              "</table>\n",
              "</div>\n",
              "      <button class=\"colab-df-convert\" onclick=\"convertToInteractive('df-563a8322-debb-499c-a3cb-2904867a9357')\"\n",
              "              title=\"Convert this dataframe to an interactive table.\"\n",
              "              style=\"display:none;\">\n",
              "        \n",
              "  <svg xmlns=\"http://www.w3.org/2000/svg\" height=\"24px\"viewBox=\"0 0 24 24\"\n",
              "       width=\"24px\">\n",
              "    <path d=\"M0 0h24v24H0V0z\" fill=\"none\"/>\n",
              "    <path d=\"M18.56 5.44l.94 2.06.94-2.06 2.06-.94-2.06-.94-.94-2.06-.94 2.06-2.06.94zm-11 1L8.5 8.5l.94-2.06 2.06-.94-2.06-.94L8.5 2.5l-.94 2.06-2.06.94zm10 10l.94 2.06.94-2.06 2.06-.94-2.06-.94-.94-2.06-.94 2.06-2.06.94z\"/><path d=\"M17.41 7.96l-1.37-1.37c-.4-.4-.92-.59-1.43-.59-.52 0-1.04.2-1.43.59L10.3 9.45l-7.72 7.72c-.78.78-.78 2.05 0 2.83L4 21.41c.39.39.9.59 1.41.59.51 0 1.02-.2 1.41-.59l7.78-7.78 2.81-2.81c.8-.78.8-2.07 0-2.86zM5.41 20L4 18.59l7.72-7.72 1.47 1.35L5.41 20z\"/>\n",
              "  </svg>\n",
              "      </button>\n",
              "      \n",
              "  <style>\n",
              "    .colab-df-container {\n",
              "      display:flex;\n",
              "      flex-wrap:wrap;\n",
              "      gap: 12px;\n",
              "    }\n",
              "\n",
              "    .colab-df-convert {\n",
              "      background-color: #E8F0FE;\n",
              "      border: none;\n",
              "      border-radius: 50%;\n",
              "      cursor: pointer;\n",
              "      display: none;\n",
              "      fill: #1967D2;\n",
              "      height: 32px;\n",
              "      padding: 0 0 0 0;\n",
              "      width: 32px;\n",
              "    }\n",
              "\n",
              "    .colab-df-convert:hover {\n",
              "      background-color: #E2EBFA;\n",
              "      box-shadow: 0px 1px 2px rgba(60, 64, 67, 0.3), 0px 1px 3px 1px rgba(60, 64, 67, 0.15);\n",
              "      fill: #174EA6;\n",
              "    }\n",
              "\n",
              "    [theme=dark] .colab-df-convert {\n",
              "      background-color: #3B4455;\n",
              "      fill: #D2E3FC;\n",
              "    }\n",
              "\n",
              "    [theme=dark] .colab-df-convert:hover {\n",
              "      background-color: #434B5C;\n",
              "      box-shadow: 0px 1px 3px 1px rgba(0, 0, 0, 0.15);\n",
              "      filter: drop-shadow(0px 1px 2px rgba(0, 0, 0, 0.3));\n",
              "      fill: #FFFFFF;\n",
              "    }\n",
              "  </style>\n",
              "\n",
              "      <script>\n",
              "        const buttonEl =\n",
              "          document.querySelector('#df-563a8322-debb-499c-a3cb-2904867a9357 button.colab-df-convert');\n",
              "        buttonEl.style.display =\n",
              "          google.colab.kernel.accessAllowed ? 'block' : 'none';\n",
              "\n",
              "        async function convertToInteractive(key) {\n",
              "          const element = document.querySelector('#df-563a8322-debb-499c-a3cb-2904867a9357');\n",
              "          const dataTable =\n",
              "            await google.colab.kernel.invokeFunction('convertToInteractive',\n",
              "                                                     [key], {});\n",
              "          if (!dataTable) return;\n",
              "\n",
              "          const docLinkHtml = 'Like what you see? Visit the ' +\n",
              "            '<a target=\"_blank\" href=https://colab.research.google.com/notebooks/data_table.ipynb>data table notebook</a>'\n",
              "            + ' to learn more about interactive tables.';\n",
              "          element.innerHTML = '';\n",
              "          dataTable['output_type'] = 'display_data';\n",
              "          await google.colab.output.renderOutput(dataTable, element);\n",
              "          const docLink = document.createElement('div');\n",
              "          docLink.innerHTML = docLinkHtml;\n",
              "          element.appendChild(docLink);\n",
              "        }\n",
              "      </script>\n",
              "    </div>\n",
              "  </div>\n",
              "  "
            ],
            "text/plain": [
              "      crawl_date                                                          url  \\\n",
              "15223 2021-10-16  https://twitter.com/NiagaraFalls/status/1448342985201094664   \n",
              "13847 2021-08-28  https://twitter.com/NiagaraFalls/status/1429815310903881732   \n",
              "13709 2021-08-21  https://twitter.com/NiagaraFalls/status/1428363502624788482   \n",
              "10269 2021-04-17  https://twitter.com/NiagaraFalls/status/1382149959550709761   \n",
              "7462  2021-01-02  https://twitter.com/NiagaraFalls/status/1343633047665725446   \n",
              "3004  2020-08-08  https://twitter.com/NiagaraFalls/status/1278304860501413888   \n",
              "2771  2020-08-01  https://twitter.com/NiagaraFalls/status/1278304860501413888   \n",
              "2538  2020-07-25  https://twitter.com/NiagaraFalls/status/1278304860501413888   \n",
              "2324  2020-07-18  https://twitter.com/NiagaraFalls/status/1278304860501413888   \n",
              "2117  2020-07-11  https://twitter.com/NiagaraFalls/status/1278304860501413888   \n",
              "1925  2020-07-04  https://twitter.com/NiagaraFalls/status/1278304860501413888   \n",
              "\n",
              "              handle  \\\n",
              "15223  @NiagaraFalls   \n",
              "13847  @NiagaraFalls   \n",
              "13709  @NiagaraFalls   \n",
              "10269  @NiagaraFalls   \n",
              "7462   @NiagaraFalls   \n",
              "3004   @NiagaraFalls   \n",
              "2771   @NiagaraFalls   \n",
              "2538   @NiagaraFalls   \n",
              "2324   @NiagaraFalls   \n",
              "2117   @NiagaraFalls   \n",
              "1925   @NiagaraFalls   \n",
              "\n",
              "                                                                                                                                                                                                                                                                                                                    text  \\\n",
              "15223  Today and every day in October! ⬇️⬇️⬇️…                                                                                                                                                                                                                                                                             \n",
              "13847  Our Transit Pop-Up Store is opening again! Niagara Falls and Regional transit passes will be available for purchase. 🗓️ August 30th -  September 3rd 🕗 8:30am - 4:30pm 🚩 Morrison-Dorchester Transit Hub (7190 Morrison St, Dollarama plaza) More info: https://t.co/KqyPQAvRwB… https://t.co/ktWQ03nhSp            \n",
              "13709  Walk-ins are welcome! Moderna and Pfizer vaccines are available (first and second dose). 📍 MacBain Community Centre - 9:30 a.m. to 6:00 p.m. #Covid19ON… https://t.co/9gJbddrNfB                                                                                                                                    \n",
              "10269  Earn an EASY 500 bonus points in the Green Movement competition on GooseChase from now until April 19.  Plus we're adding new challenges all week! Details in the app and at https://t.co/d1UBeBY2w5 #mycitynf #earthday… https://t.co/rbp8KPEsPJ                                                                   \n",
              "7462   Maintaining connections with others is always important for your mental health, but especially during a pandemic. Here are some great tips on improving your mental health from Dr. Maxine Lewis, Chief of Mental and Addictions for Niagara Health & St. Joseph’s Healthcare Hamilton.… https://t.co/ySqS4wClqR    \n",
              "3004   Happy Canada Day! 🍁  Tune into the #NiagaraFalls Canada Day Celebration at 9am & 6pm! ✔️ Remember to participate in the Great Canadian #NFCanadaDay Contest! Win an iPad, BBQ, bike, amazing gift cards, or more! https://t.co/hvUQdJcbaI #canadaday #contest #giveaway @jimdiodati… https://t.co/fsg4lYXge2        \n",
              "2771   Happy Canada Day! 🍁  Tune into the #NiagaraFalls Canada Day Celebration at 9am & 6pm! ✔️ Remember to participate in the Great Canadian #NFCanadaDay Contest! Win an iPad, BBQ, bike, amazing gift cards, or more! https://t.co/hvUQdJcbaI #canadaday #contest #giveaway @jimdiodati… https://t.co/fsg4lYXge2        \n",
              "2538   Happy Canada Day! 🍁  Tune into the #NiagaraFalls Canada Day Celebration at 9am & 6pm! ✔️ Remember to participate in the Great Canadian #NFCanadaDay Contest! Win an iPad, BBQ, bike, amazing gift cards, or more! https://t.co/hvUQdJcbaI #canadaday #contest #giveaway @jimdiodati… https://t.co/fsg4lYXge2        \n",
              "2324   Happy Canada Day! 🍁  Tune into the #NiagaraFalls Canada Day Celebration at 9am & 6pm! ✔️ Remember to participate in the Great Canadian #NFCanadaDay Contest! Win an iPad, BBQ, bike, amazing gift cards, or more! https://t.co/hvUQdJcbaI #canadaday #contest #giveaway @jimdiodati… https://t.co/fsg4lYXge2        \n",
              "2117   Happy Canada Day! 🍁  Tune into the #NiagaraFalls Canada Day Celebration at 9am & 6pm! ✔️ Remember to participate in the Great Canadian #NFCanadaDay Contest! Win an iPad, BBQ, bike, amazing gift cards, or more! https://t.co/hvUQdJcbaI #canadaday #contest #giveaway @jimdiodati… https://t.co/fsg4lYXge2        \n",
              "1925   Happy Canada Day! 🍁  Tune into the #NiagaraFalls Canada Day Celebration at 9am & 6pm! ✔️ Remember to participate in the Great Canadian #NFCanadaDay Contest! Win an iPad, BBQ, bike, amazing gift cards, or more! https://t.co/hvUQdJcbaI #canadaday #contest #giveaway @jimdiodati… https://t.co/fsg4lYXge2        \n",
              "\n",
              "       v_comp  \n",
              "15223  0.0000  \n",
              "13847  0.0000  \n",
              "13709  0.5093  \n",
              "10269  0.8283  \n",
              "7462   0.8945  \n",
              "3004   0.9660  \n",
              "2771   0.9660  \n",
              "2538   0.9660  \n",
              "2324   0.9660  \n",
              "2117   0.9660  \n",
              "1925   0.9660  "
            ]
          },
          "metadata": {},
          "execution_count": 6
        }
      ]
    },
    {
      "cell_type": "markdown",
      "source": [
        "## Download Selected Data"
      ],
      "metadata": {
        "id": "_jm5b_29Cnsg"
      }
    },
    {
      "cell_type": "code",
      "source": [
        "filtered_data.to_csv(Handle[1:]+\".csv\", index=False)\n",
        "files.download(Handle[1:]+\".csv\")"
      ],
      "metadata": {
        "colab": {
          "base_uri": "https://localhost:8080/",
          "height": 17
        },
        "id": "EwkjhhWo2m4W",
        "outputId": "d8441106-6159-4c20-d354-c8bfa0b1973a"
      },
      "execution_count": 4,
      "outputs": [
        {
          "output_type": "display_data",
          "data": {
            "application/javascript": [
              "\n",
              "    async function download(id, filename, size) {\n",
              "      if (!google.colab.kernel.accessAllowed) {\n",
              "        return;\n",
              "      }\n",
              "      const div = document.createElement('div');\n",
              "      const label = document.createElement('label');\n",
              "      label.textContent = `Downloading \"${filename}\": `;\n",
              "      div.appendChild(label);\n",
              "      const progress = document.createElement('progress');\n",
              "      progress.max = size;\n",
              "      div.appendChild(progress);\n",
              "      document.body.appendChild(div);\n",
              "\n",
              "      const buffers = [];\n",
              "      let downloaded = 0;\n",
              "\n",
              "      const channel = await google.colab.kernel.comms.open(id);\n",
              "      // Send a message to notify the kernel that we're ready.\n",
              "      channel.send({})\n",
              "\n",
              "      for await (const message of channel.messages) {\n",
              "        // Send a message to notify the kernel that we're ready.\n",
              "        channel.send({})\n",
              "        if (message.buffers) {\n",
              "          for (const buffer of message.buffers) {\n",
              "            buffers.push(buffer);\n",
              "            downloaded += buffer.byteLength;\n",
              "            progress.value = downloaded;\n",
              "          }\n",
              "        }\n",
              "      }\n",
              "      const blob = new Blob(buffers, {type: 'application/binary'});\n",
              "      const a = document.createElement('a');\n",
              "      a.href = window.URL.createObjectURL(blob);\n",
              "      a.download = filename;\n",
              "      div.appendChild(a);\n",
              "      a.click();\n",
              "      div.remove();\n",
              "    }\n",
              "  "
            ],
            "text/plain": [
              "<IPython.core.display.Javascript object>"
            ]
          },
          "metadata": {}
        },
        {
          "output_type": "display_data",
          "data": {
            "application/javascript": [
              "download(\"download_c0a1d44e-bec0-4460-989b-2d3c8073eaa2\", \"NiagaraRegion.csv\", 451106)"
            ],
            "text/plain": [
              "<IPython.core.display.Javascript object>"
            ]
          },
          "metadata": {}
        }
      ]
    }
  ]
}