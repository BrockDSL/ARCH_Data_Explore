{
 "cells": [
  {
   "cell_type": "code",
   "execution_count": 9,
   "id": "51bf94df",
   "metadata": {},
   "outputs": [],
   "source": [
    "import pandas as pd\n",
    "import matplotlib.pyplot as plt"
   ]
  },
  {
   "cell_type": "code",
   "execution_count": 2,
   "id": "6da64a9a",
   "metadata": {},
   "outputs": [
    {
     "name": "stdout",
     "output_type": "stream",
     "text": [
      "Data Loaded\n"
     ]
    }
   ],
   "source": [
    "archive_data = pd.read_csv(\"covid_niagara_twitter.csv\")\n",
    "print(\"Data Loaded\")"
   ]
  },
  {
   "cell_type": "code",
   "execution_count": 9,
   "id": "c5b9dfdb",
   "metadata": {},
   "outputs": [
    {
     "data": {
      "text/html": [
       "<div>\n",
       "<style scoped>\n",
       "    .dataframe tbody tr th:only-of-type {\n",
       "        vertical-align: middle;\n",
       "    }\n",
       "\n",
       "    .dataframe tbody tr th {\n",
       "        vertical-align: top;\n",
       "    }\n",
       "\n",
       "    .dataframe thead th {\n",
       "        text-align: right;\n",
       "    }\n",
       "</style>\n",
       "<table border=\"1\" class=\"dataframe\">\n",
       "  <thead>\n",
       "    <tr style=\"text-align: right;\">\n",
       "      <th></th>\n",
       "      <th>crawl_date</th>\n",
       "      <th>url</th>\n",
       "      <th>handle</th>\n",
       "      <th>text</th>\n",
       "      <th>v_pos</th>\n",
       "      <th>v_neg</th>\n",
       "      <th>v_neu</th>\n",
       "      <th>v_comp</th>\n",
       "    </tr>\n",
       "  </thead>\n",
       "  <tbody>\n",
       "    <tr>\n",
       "      <th>9858</th>\n",
       "      <td>2021-04-03</td>\n",
       "      <td>https://twitter.com/BrockUHRE/status/137722931...</td>\n",
       "      <td>@BrockUHRE</td>\n",
       "      <td>Today is Transgender Day Of Visibility! 💙💗🤍💗💙 ...</td>\n",
       "      <td>0.163</td>\n",
       "      <td>0.0</td>\n",
       "      <td>0.837</td>\n",
       "      <td>0.6467</td>\n",
       "    </tr>\n",
       "  </tbody>\n",
       "</table>\n",
       "</div>"
      ],
      "text/plain": [
       "      crawl_date                                                url  \\\n",
       "9858  2021-04-03  https://twitter.com/BrockUHRE/status/137722931...   \n",
       "\n",
       "          handle                                               text  v_pos  \\\n",
       "9858  @BrockUHRE  Today is Transgender Day Of Visibility! 💙💗🤍💗💙 ...  0.163   \n",
       "\n",
       "      v_neg  v_neu  v_comp  \n",
       "9858    0.0  0.837  0.6467  "
      ]
     },
     "execution_count": 9,
     "metadata": {},
     "output_type": "execute_result"
    }
   ],
   "source": [
    "archive_data.sample(1)"
   ]
  },
  {
   "cell_type": "code",
   "execution_count": 10,
   "id": "2b410da8",
   "metadata": {},
   "outputs": [
    {
     "name": "stdout",
     "output_type": "stream",
     "text": [
      "Total Number of total records in dataset:  17111\n"
     ]
    }
   ],
   "source": [
    "print(\"Total Number of total tweets in dataset: \",len(archive_data))"
   ]
  },
  {
   "cell_type": "markdown",
   "id": "74ace6b3",
   "metadata": {},
   "source": [
    "Twitter handles captured in dataset:"
   ]
  },
  {
   "cell_type": "code",
   "execution_count": 14,
   "id": "e2eb064d",
   "metadata": {},
   "outputs": [
    {
     "data": {
      "image/png": "[encoded data removed]",
      "text/plain": [
       "<Figure size 432x288 with 1 Axes>"
      ]
     },
     "metadata": {
      "needs_background": "light"
     },
     "output_type": "display_data"
    }
   ],
   "source": [
    "ax = archive_data.groupby(\"handle\")[\"url\"].count().sort_values(ascending=False)[:15].plot(kind='barh')\n",
    "ax.set_title(\"Top Ten Handles\")\n",
    "ax.set_ylabel(\"Handles\")\n",
    "ax.set_xlabel(\"Number of Tweets\")\n",
    "plt.show()"
   ]
  },
  {
   "cell_type": "code",
   "execution_count": 81,
   "id": "3425792c",
   "metadata": {},
   "outputs": [
    {
     "data": {
      "text/plain": [
       "(563, 86, 6, 15)"
      ]
     },
     "execution_count": 81,
     "metadata": {},
     "output_type": "execute_result"
    }
   ],
   "source": [
    "res = archive_data.groupby(\"handle\")[\"url\"].count()\n",
    "u10 = res[res<10]\n",
    "u100 = res[(res>=10) & (res<100)]\n",
    "u250 = res[(res>=100) & (res<250)]\n",
    "oe250 = res[res>=250]\n",
    "counts = u10.count(), u100.count(), u250.count(), oe250.count()\n",
    "counts"
   ]
  },
  {
   "cell_type": "code",
   "execution_count": 94,
   "id": "d43fe614",
   "metadata": {},
   "outputs": [
    {
     "data": {
      "text/plain": [
       "<BarContainer object of 3 artists>"
      ]
     },
     "execution_count": 94,
     "metadata": {},
     "output_type": "execute_result"
    },
    {
     "data": {
      "image/png": "[encoded data removed]",
      "text/plain": [
       "<Figure size 432x288 with 1 Axes>"
      ]
     },
     "metadata": {
      "needs_background": "light"
     },
     "output_type": "display_data"
    }
   ],
   "source": [
    "plt.bar([\"x\",\"y\",\"z\"],[1,2,3])"
   ]
  },
  {
   "cell_type": "code",
   "execution_count": 95,
   "id": "ff6a4f2f",
   "metadata": {},
   "outputs": [
    {
     "data": {
      "text/plain": [
       "([<matplotlib.patches.Wedge at 0x12182b2e0>,\n",
       "  <matplotlib.patches.Wedge at 0x12182b7c0>,\n",
       "  <matplotlib.patches.Wedge at 0x12182bca0>,\n",
       "  <matplotlib.patches.Wedge at 0x1218581c0>],\n",
       " [Text(-0.9644339288296522, 0.529024760216572, '< 10'),\n",
       "  Text(0.9077544532766169, -0.621274377836774, '<100'),\n",
       "  Text(1.0843654523579482, -0.18480142243105885, '<250'),\n",
       "  Text(1.0972803447960153, -0.07730358933670389, '>=250')])"
      ]
     },
     "execution_count": 95,
     "metadata": {},
     "output_type": "execute_result"
    },
    {
     "data": {
      "image/png": "[encoded data removed]",
      "text/plain": [
       "<Figure size 432x288 with 1 Axes>"
      ]
     },
     "metadata": {},
     "output_type": "display_data"
    }
   ],
   "source": [
    "plt.pie(counts,labels=[\"< 10\",\"<100\",\"<250\",\">=250\"])"
   ]
  },
  {
   "cell_type": "code",
   "execution_count": null,
   "id": "cb1b02c2",
   "metadata": {},
   "outputs": [],
   "source": []
  }
 ],
 "metadata": {
  "kernelspec": {
   "display_name": "Python 3 (ipykernel)",
   "language": "python",
   "name": "python3"
  },
  "language_info": {
   "codemirror_mode": {
    "name": "ipython",
    "version": 3
   },
   "file_extension": ".py",
   "mimetype": "text/x-python",
   "name": "python",
   "nbconvert_exporter": "python",
   "pygments_lexer": "ipython3",
   "version": "3.10.0"
  }
 },
 "nbformat": 4,
 "nbformat_minor": 5
}
