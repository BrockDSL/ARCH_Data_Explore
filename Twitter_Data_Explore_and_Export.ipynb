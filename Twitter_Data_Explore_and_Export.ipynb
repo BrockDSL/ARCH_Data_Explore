{
  "cells": [
    {
      "cell_type": "markdown",
      "metadata": {
        "id": "view-in-github",
        "colab_type": "text"
      },
      "source": [
        "<a href=\"https://colab.research.google.com/github/BrockDSL/ARCH_Data_Explore/blob/main/Twitter_Data_Explore_and_Export.ipynb\" target=\"_parent\"><img src=\"https://colab.research.google.com/assets/colab-badge.svg\" alt=\"Open In Colab\"/></a>"
      ]
    },
    {
      "cell_type": "markdown",
      "id": "7715b86d",
      "metadata": {
        "id": "7715b86d"
      },
      "source": [
        "![dsl_logo.png](https://raw.githubusercontent.com/BrockDSL/Analyzing_Web_Archives/main/dsl_logo.png)\n",
        "\n",
        "## Covid-19 Twitter Archive\n",
        "This notebook explores Twitter data that has been archived in the form of a CSV file. This notebook can be run on Google Collab, mybinder.org, or anywhere the [Jupyter Notebook](https://jupyter.org/) software is installed (including your own computer). \n",
        "\n",
        "## How this notebook works\n",
        "\n",
        "This webpage is a Google Colab notebook and is comprised of different *cells*. Some are code cells that run Python snippets. To works through these cells simply click on the triangle _run_ button in each cell. In order for functionality to be preserved, cells should be executed top to bottom, in the order that they appear. Cells may be executed independently or out of order, in the appropriate context. "
      ]
    },
    {
      "cell_type": "markdown",
      "id": "2dbfe2d2",
      "metadata": {
        "id": "2dbfe2d2"
      },
      "source": [
        "## Load libraries"
      ]
    },
    {
      "cell_type": "code",
      "execution_count": 1,
      "id": "51bf94df",
      "metadata": {
        "id": "51bf94df",
        "outputId": "776f67be-f054-4631-ab60-c36f8fad016a",
        "colab": {
          "base_uri": "https://localhost:8080/"
        }
      },
      "outputs": [
        {
          "output_type": "stream",
          "name": "stdout",
          "text": [
            "Requirement already satisfied: pandas in /usr/local/lib/python3.7/dist-packages (1.3.5)\n",
            "Requirement already satisfied: matplotlib in /usr/local/lib/python3.7/dist-packages (3.2.2)\n",
            "Requirement already satisfied: python-dateutil>=2.7.3 in /usr/local/lib/python3.7/dist-packages (from pandas) (2.8.2)\n",
            "Requirement already satisfied: numpy>=1.17.3 in /usr/local/lib/python3.7/dist-packages (from pandas) (1.19.5)\n",
            "Requirement already satisfied: pytz>=2017.3 in /usr/local/lib/python3.7/dist-packages (from pandas) (2018.9)\n",
            "Requirement already satisfied: six>=1.5 in /usr/local/lib/python3.7/dist-packages (from python-dateutil>=2.7.3->pandas) (1.15.0)\n",
            "Requirement already satisfied: pyparsing!=2.0.4,!=2.1.2,!=2.1.6,>=2.0.1 in /usr/local/lib/python3.7/dist-packages (from matplotlib) (3.0.7)\n",
            "Requirement already satisfied: cycler>=0.10 in /usr/local/lib/python3.7/dist-packages (from matplotlib) (0.11.0)\n",
            "Requirement already satisfied: kiwisolver>=1.0.1 in /usr/local/lib/python3.7/dist-packages (from matplotlib) (1.3.2)\n",
            "----------------\n",
            "Libraries Loaded\n"
          ]
        }
      ],
      "source": [
        "!pip install pandas matplotlib\n",
        "import pandas as pd\n",
        "import matplotlib.pyplot as plt\n",
        "import numpy as np\n",
        "import gdown\n",
        "from google.colab import files\n",
        "print(\"----------------\")\n",
        "print(\"Libraries Loaded\")"
      ]
    },
    {
      "cell_type": "markdown",
      "id": "d8a87536",
      "metadata": {
        "id": "d8a87536"
      },
      "source": [
        "### And Data..."
      ]
    },
    {
      "cell_type": "code",
      "execution_count": 2,
      "id": "2e197ec1",
      "metadata": {
        "id": "2e197ec1",
        "outputId": "cf8f9df4-cd3b-4054-c669-9a84cc96bb34",
        "colab": {
          "base_uri": "https://localhost:8080/"
        }
      },
      "outputs": [
        {
          "output_type": "stream",
          "name": "stderr",
          "text": [
            "Downloading...\n",
            "From: https://github.com/BrockDSL/ARCH_Data_Explore/raw/main/covid_niagara_twitter.csv\n",
            "To: /content/covid_niagara_twitter.csv\n",
            "5.64MB [00:00, 51.9MB/s]\n"
          ]
        },
        {
          "output_type": "stream",
          "name": "stdout",
          "text": [
            "\n",
            "Data Loaded\n"
          ]
        }
      ],
      "source": [
        "gdown.download(\"https://github.com/BrockDSL/ARCH_Data_Explore/raw/main/covid_niagara_twitter.csv\", quiet=False)\n",
        "archive_data = pd.read_csv(\"covid_niagara_twitter.csv\")\n",
        "print()\n",
        "print(\"Data Loaded\")"
      ]
    },
    {
      "cell_type": "markdown",
      "id": "e86255c6",
      "metadata": {
        "id": "e86255c6"
      },
      "source": [
        "### Show a single sample of the data"
      ]
    },
    {
      "cell_type": "code",
      "execution_count": 3,
      "id": "c5b9dfdb",
      "metadata": {
        "id": "c5b9dfdb",
        "outputId": "f21c6142-9f5d-4b8b-f20a-b38400e4eb2e",
        "colab": {
          "base_uri": "https://localhost:8080/",
          "height": 81
        }
      },
      "outputs": [
        {
          "output_type": "execute_result",
          "data": {
            "text/html": [
              "\n",
              "  <div id=\"df-a873b430-2236-40e6-be93-8bdfd5a2c385\">\n",
              "    <div class=\"colab-df-container\">\n",
              "      <div>\n",
              "<style scoped>\n",
              "    .dataframe tbody tr th:only-of-type {\n",
              "        vertical-align: middle;\n",
              "    }\n",
              "\n",
              "    .dataframe tbody tr th {\n",
              "        vertical-align: top;\n",
              "    }\n",
              "\n",
              "    .dataframe thead th {\n",
              "        text-align: right;\n",
              "    }\n",
              "</style>\n",
              "<table border=\"1\" class=\"dataframe\">\n",
              "  <thead>\n",
              "    <tr style=\"text-align: right;\">\n",
              "      <th></th>\n",
              "      <th>crawl_date</th>\n",
              "      <th>url</th>\n",
              "      <th>handle</th>\n",
              "      <th>text</th>\n",
              "      <th>v_pos</th>\n",
              "      <th>v_neg</th>\n",
              "      <th>v_neu</th>\n",
              "      <th>v_comp</th>\n",
              "    </tr>\n",
              "  </thead>\n",
              "  <tbody>\n",
              "    <tr>\n",
              "      <th>4586</th>\n",
              "      <td>2020-10-03</td>\n",
              "      <td>https://twitter.com/BrockUESRC/status/13120909...</td>\n",
              "      <td>@BrockUESRC</td>\n",
              "      <td>The NPC Speaker Series will take place every W...</td>\n",
              "      <td>0.0</td>\n",
              "      <td>0.0</td>\n",
              "      <td>1.0</td>\n",
              "      <td>0.0</td>\n",
              "    </tr>\n",
              "  </tbody>\n",
              "</table>\n",
              "</div>\n",
              "      <button class=\"colab-df-convert\" onclick=\"convertToInteractive('df-a873b430-2236-40e6-be93-8bdfd5a2c385')\"\n",
              "              title=\"Convert this dataframe to an interactive table.\"\n",
              "              style=\"display:none;\">\n",
              "        \n",
              "  <svg xmlns=\"http://www.w3.org/2000/svg\" height=\"24px\"viewBox=\"0 0 24 24\"\n",
              "       width=\"24px\">\n",
              "    <path d=\"M0 0h24v24H0V0z\" fill=\"none\"/>\n",
              "    <path d=\"M18.56 5.44l.94 2.06.94-2.06 2.06-.94-2.06-.94-.94-2.06-.94 2.06-2.06.94zm-11 1L8.5 8.5l.94-2.06 2.06-.94-2.06-.94L8.5 2.5l-.94 2.06-2.06.94zm10 10l.94 2.06.94-2.06 2.06-.94-2.06-.94-.94-2.06-.94 2.06-2.06.94z\"/><path d=\"M17.41 7.96l-1.37-1.37c-.4-.4-.92-.59-1.43-.59-.52 0-1.04.2-1.43.59L10.3 9.45l-7.72 7.72c-.78.78-.78 2.05 0 2.83L4 21.41c.39.39.9.59 1.41.59.51 0 1.02-.2 1.41-.59l7.78-7.78 2.81-2.81c.8-.78.8-2.07 0-2.86zM5.41 20L4 18.59l7.72-7.72 1.47 1.35L5.41 20z\"/>\n",
              "  </svg>\n",
              "      </button>\n",
              "      \n",
              "  <style>\n",
              "    .colab-df-container {\n",
              "      display:flex;\n",
              "      flex-wrap:wrap;\n",
              "      gap: 12px;\n",
              "    }\n",
              "\n",
              "    .colab-df-convert {\n",
              "      background-color: #E8F0FE;\n",
              "      border: none;\n",
              "      border-radius: 50%;\n",
              "      cursor: pointer;\n",
              "      display: none;\n",
              "      fill: #1967D2;\n",
              "      height: 32px;\n",
              "      padding: 0 0 0 0;\n",
              "      width: 32px;\n",
              "    }\n",
              "\n",
              "    .colab-df-convert:hover {\n",
              "      background-color: #E2EBFA;\n",
              "      box-shadow: 0px 1px 2px rgba(60, 64, 67, 0.3), 0px 1px 3px 1px rgba(60, 64, 67, 0.15);\n",
              "      fill: #174EA6;\n",
              "    }\n",
              "\n",
              "    [theme=dark] .colab-df-convert {\n",
              "      background-color: #3B4455;\n",
              "      fill: #D2E3FC;\n",
              "    }\n",
              "\n",
              "    [theme=dark] .colab-df-convert:hover {\n",
              "      background-color: #434B5C;\n",
              "      box-shadow: 0px 1px 3px 1px rgba(0, 0, 0, 0.15);\n",
              "      filter: drop-shadow(0px 1px 2px rgba(0, 0, 0, 0.3));\n",
              "      fill: #FFFFFF;\n",
              "    }\n",
              "  </style>\n",
              "\n",
              "      <script>\n",
              "        const buttonEl =\n",
              "          document.querySelector('#df-a873b430-2236-40e6-be93-8bdfd5a2c385 button.colab-df-convert');\n",
              "        buttonEl.style.display =\n",
              "          google.colab.kernel.accessAllowed ? 'block' : 'none';\n",
              "\n",
              "        async function convertToInteractive(key) {\n",
              "          const element = document.querySelector('#df-a873b430-2236-40e6-be93-8bdfd5a2c385');\n",
              "          const dataTable =\n",
              "            await google.colab.kernel.invokeFunction('convertToInteractive',\n",
              "                                                     [key], {});\n",
              "          if (!dataTable) return;\n",
              "\n",
              "          const docLinkHtml = 'Like what you see? Visit the ' +\n",
              "            '<a target=\"_blank\" href=https://colab.research.google.com/notebooks/data_table.ipynb>data table notebook</a>'\n",
              "            + ' to learn more about interactive tables.';\n",
              "          element.innerHTML = '';\n",
              "          dataTable['output_type'] = 'display_data';\n",
              "          await google.colab.output.renderOutput(dataTable, element);\n",
              "          const docLink = document.createElement('div');\n",
              "          docLink.innerHTML = docLinkHtml;\n",
              "          element.appendChild(docLink);\n",
              "        }\n",
              "      </script>\n",
              "    </div>\n",
              "  </div>\n",
              "  "
            ],
            "text/plain": [
              "      crawl_date  ... v_comp\n",
              "4586  2020-10-03  ...    0.0\n",
              "\n",
              "[1 rows x 8 columns]"
            ]
          },
          "metadata": {},
          "execution_count": 3
        }
      ],
      "source": [
        "archive_data.sample(1)"
      ]
    },
    {
      "cell_type": "markdown",
      "id": "b1f83ace",
      "metadata": {
        "id": "b1f83ace"
      },
      "source": [
        "### Total tweets and unique handles"
      ]
    },
    {
      "cell_type": "code",
      "execution_count": 4,
      "id": "2b410da8",
      "metadata": {
        "id": "2b410da8",
        "outputId": "ed0c22bb-7606-4c5e-9732-ae8afd4405f3",
        "colab": {
          "base_uri": "https://localhost:8080/"
        }
      },
      "outputs": [
        {
          "output_type": "stream",
          "name": "stdout",
          "text": [
            "Total Number of total tweets in dataset:  17111\n",
            "Total Number of unique handles in dataset:  670\n"
          ]
        }
      ],
      "source": [
        "print(\"Total Number of total tweets in dataset: \",len(archive_data))\n",
        "print(\"Total Number of unique handles in dataset: \", len(archive_data.groupby('handle')))\n"
      ]
    },
    {
      "cell_type": "markdown",
      "id": "78498b66",
      "metadata": {
        "id": "78498b66"
      },
      "source": [
        "### Clean up data by removing captures of the same tweet (duplicates)"
      ]
    },
    {
      "cell_type": "code",
      "execution_count": 5,
      "id": "c0ad8bb4",
      "metadata": {
        "id": "c0ad8bb4",
        "outputId": "10733818-2798-43d7-e0cf-720dce1141a7",
        "colab": {
          "base_uri": "https://localhost:8080/"
        }
      },
      "outputs": [
        {
          "output_type": "stream",
          "name": "stdout",
          "text": [
            "Total Number of total unique tweets in dataset:  10529\n"
          ]
        }
      ],
      "source": [
        "#Remove duplicate tweets\n",
        "archive_data = archive_data.drop_duplicates(subset=['handle','text'],keep='last')\n",
        "print(\"Total Number of total unique tweets in dataset: \",len(archive_data))"
      ]
    },
    {
      "cell_type": "markdown",
      "id": "74ace6b3",
      "metadata": {
        "id": "74ace6b3"
      },
      "source": [
        "### Some stats on Twitter handles captured in the dataset:"
      ]
    },
    {
      "cell_type": "code",
      "execution_count": 20,
      "id": "e2eb064d",
      "metadata": {
        "id": "e2eb064d",
        "outputId": "ad2e62d4-8e24-4772-c747-2641f6610c82",
        "colab": {
          "base_uri": "https://localhost:8080/",
          "height": 501
        }
      },
      "outputs": [
        {
          "output_type": "display_data",
          "data": {
            "image/png": "[encoded data removed]",
            "text/plain": [
              "<Figure size 750x500 with 1 Axes>"
            ]
          },
          "metadata": {
            "needs_background": "light"
          }
        }
      ],
      "source": [
        "plt.rcParams['figure.dpi'] = 125\n",
        "ax = archive_data.groupby(\"handle\")[\"url\"].count().sort_values(ascending=False)[:10].plot(kind='barh')\n",
        "ax.set_title(\"Top Ten Handles by Tweets\")\n",
        "ax.set_ylabel(\"Handles\")\n",
        "ax.set_xlabel(\"Number of Tweets\")\n",
        "plt.show()"
      ]
    },
    {
      "cell_type": "code",
      "execution_count": 7,
      "id": "3425792c",
      "metadata": {
        "id": "3425792c"
      },
      "outputs": [],
      "source": [
        "res = archive_data.groupby(\"handle\")[\"url\"].count()\n",
        "u10 = res[res<10]\n",
        "u100 = res[(res>=10) & (res<100)]\n",
        "u250 = res[(res>=100) & (res<250)]\n",
        "oe250 = res[res>=250]\n",
        "\n",
        "counts = u10.count(), u100.count(), u250.count(), oe250.count()\n",
        "labels = [\"t<10\",\"10<=t<100\",\"100<=t<250\", \"t>=250\"]\n",
        "cstat=\"t<10: {}\\n\\\n",
        "10<=t<100: {}\\n\\\n",
        "100<=t<250: {}\\n\\\n",
        "t>=250: {}\".format(*counts)"
      ]
    },
    {
      "cell_type": "markdown",
      "id": "ab231d57",
      "metadata": {
        "id": "ab231d57"
      },
      "source": [
        "## Number of Handles where t=tweets"
      ]
    },
    {
      "cell_type": "code",
      "execution_count": 8,
      "id": "640cea28",
      "metadata": {
        "id": "640cea28",
        "outputId": "9aa05005-f366-43dd-c69f-cc4497f5723e",
        "colab": {
          "base_uri": "https://localhost:8080/"
        }
      },
      "outputs": [
        {
          "output_type": "stream",
          "name": "stdout",
          "text": [
            "t<10: 604\n",
            "10<=t<100: 51\n",
            "100<=t<250: 5\n",
            "t>=250: 10\n"
          ]
        }
      ],
      "source": [
        "print(cstat)"
      ]
    },
    {
      "cell_type": "code",
      "execution_count": 9,
      "id": "d43fe614",
      "metadata": {
        "id": "d43fe614",
        "outputId": "6cd69ca3-c919-4f79-db2e-2833465a57ce",
        "colab": {
          "base_uri": "https://localhost:8080/",
          "height": 476
        }
      },
      "outputs": [
        {
          "output_type": "display_data",
          "data": {
            "image/png": "[encoded data removed]",
            "text/plain": [
              "<Figure size 750x500 with 1 Axes>"
            ]
          },
          "metadata": {
            "needs_background": "light"
          }
        }
      ],
      "source": [
        "plt.rcParams['figure.dpi'] = 125\n",
        "fig, ax = plt.subplots() \n",
        "ax.set_title('Number of Handles by Tweet Count Ranges')\n",
        "ax.set_ylabel('Handles')\n",
        "ax.bar(labels,counts)\n",
        "plt.show()"
      ]
    },
    {
      "cell_type": "code",
      "execution_count": 10,
      "id": "ff6a4f2f",
      "metadata": {
        "id": "ff6a4f2f",
        "outputId": "86ed6743-4a87-46f5-cc01-dad2deb70947",
        "colab": {
          "base_uri": "https://localhost:8080/",
          "height": 445
        }
      },
      "outputs": [
        {
          "output_type": "display_data",
          "data": {
            "image/png": "[encoded data removed]",
            "text/plain": [
              "<Figure size 750x500 with 1 Axes>"
            ]
          },
          "metadata": {}
        }
      ],
      "source": [
        "plt.rcParams['figure.dpi'] = 125\n",
        "explode = (0.1,0,0,0)\n",
        "_, ax1 = plt.subplots()\n",
        "wedges, _, autotexts = ax1.pie(counts,labels=labels, explode=explode, shadow=True, autopct='%1.1f%%', radius=0.5)\n",
        "ax1.legend(wedges, labels,\n",
        "          title=\"Ranges\",\n",
        "          loc=\"upper left\",\n",
        "          bbox_to_anchor=(1, 0, 0, 1))\n",
        "ax1.axis('equal')\n",
        "ax1.set_title(\"Percent of Handles by Tweet Count Ranges\")\n",
        "plt.setp(autotexts, size='x-small')\n",
        "plt.show()"
      ]
    },
    {
      "cell_type": "code",
      "execution_count": 11,
      "id": "cb1b02c2",
      "metadata": {
        "id": "cb1b02c2",
        "outputId": "f0913621-061e-41b5-eac8-04dc27e5c8a9",
        "colab": {
          "base_uri": "https://localhost:8080/",
          "height": 501
        }
      },
      "outputs": [
        {
          "output_type": "display_data",
          "data": {
            "image/png": "[encoded data removed]",
            "text/plain": [
              "<Figure size 750x500 with 1 Axes>"
            ]
          },
          "metadata": {
            "needs_background": "light"
          }
        }
      ],
      "source": [
        "tweet_lengths = archive_data.text.astype(\"string\").map(len)\n",
        "_, ax1 = plt.subplots()\n",
        "ax1.hist(tweet_lengths)\n",
        "ax1.set_title(\"Tweets by length\")\n",
        "ax1.set_ylabel(\"Number of Tweets\")\n",
        "ax1.set_xlabel(\"Tweet length\")\n",
        "plt.show()\n"
      ]
    },
    {
      "cell_type": "markdown",
      "id": "c9574825",
      "metadata": {
        "id": "c9574825"
      },
      "source": [
        "### Here is a graph showing the average of the compound sentiment scores, across all tweets, for each month.\n",
        "The compound sentiment score is normalized to be between -1 <= *s* < 1, with *-1 as extremely negative*, and *1 as extremely positive*.  \n",
        "\n",
        "Generally, \n",
        "- Positive sentiment is > 0.5 \n",
        "- Neutral is between -0.5 and 0.5 \n",
        "- Negative is < -0.5.\n",
        "\n",
        "Interestingly, it looks as if there is a trend upwards in sentiment each time the daily case count begins to rise. The most negative sentiment also seems to happen around the time when the case count has returned to its approximate previous lows, similar to Jun-Aug 2020. "
      ]
    },
    {
      "cell_type": "code",
      "execution_count": 12,
      "id": "dafc458f",
      "metadata": {
        "id": "dafc458f",
        "outputId": "cabf265b-5c58-4fbc-b895-6681de38af7d",
        "colab": {
          "base_uri": "https://localhost:8080/",
          "height": 487
        }
      },
      "outputs": [
        {
          "output_type": "display_data",
          "data": {
            "image/png": "[encoded data removed]",
            "text/plain": [
              "<Figure size 750x500 with 1 Axes>"
            ]
          },
          "metadata": {
            "needs_background": "light"
          }
        }
      ],
      "source": [
        "#Create a new series which is the average of the sentiment scores \n",
        "#over a month period across all tweets\n",
        "date_index = pd.DatetimeIndex(pd.to_datetime(archive_data.crawl_date))\n",
        "s = pd.Series(archive_data.v_comp.to_list(), index=date_index)\n",
        "msa = s.resample('1M').mean() #month sample average\n",
        "\n",
        "\n",
        "#assign data to axis\n",
        "x_tick_labels = list(map(lambda d: \"{}/{}\".format(d.year%100,d.month),msa.index))\n",
        "x = range(len(msa.index))\n",
        "y = msa.to_numpy()\n",
        "\n",
        "_, ax = plt.subplots()\n",
        "ax.tick_params(axis='x', labelsize=5)\n",
        "plt.xticks(x, x_tick_labels, rotation=45)\n",
        "ax.plot(x, y)\n",
        "ax.set_xlabel(\"Month\")\n",
        "ax.set_ylabel(\"Compound Sentiment Score\")\n",
        "plt.rcParams['figure.dpi'] = 150\n",
        "\n",
        "#compute trend line\n",
        "z = np.polyfit(x, y, 1)\n",
        "p = np.poly1d(z)\n",
        "plt.plot(x,p(x))\n",
        "plt.show()"
      ]
    },
    {
      "cell_type": "markdown",
      "id": "70322836",
      "metadata": {
        "id": "70322836"
      },
      "source": [
        "![Covid Daily Cases](https://toronto.citynews.ca/wp-content/blogs.dir/sites/10/2021/12/15/CTCN-WED-DEC-15-ONT-COVID-CASES-GFX-GRAPH-2021DEC15-640x360.jpg)"
      ]
    },
    {
      "cell_type": "markdown",
      "id": "f231ed2c",
      "metadata": {
        "id": "f231ed2c"
      },
      "source": [
        "### Select handles that have > 10 tweets and find the most positive and negative handles"
      ]
    },
    {
      "cell_type": "code",
      "execution_count": 13,
      "id": "556d7fb6",
      "metadata": {
        "id": "556d7fb6",
        "outputId": "196444ec-30de-4ec8-a01f-5d255218628d",
        "colab": {
          "base_uri": "https://localhost:8080/"
        }
      },
      "outputs": [
        {
          "output_type": "stream",
          "name": "stdout",
          "text": [
            "The most negative handle is:  @511ONCentral -0.250175\n",
            "The most positive handle is:  @OUAsport 0.6854428571428571\n"
          ]
        }
      ],
      "source": [
        "gt10 = archive_data.groupby('handle').text.count() > 10\n",
        "gt10 = gt10[gt10] #confusing statement, but all this does is remove rows that are not False\n",
        "pruned = archive_data[archive_data.handle.isin(gt10.keys())]\n",
        "\n",
        "#Calculate average of compound sentiment for each handle\n",
        "avg_vcomp = pruned.groupby('handle')['v_comp'].mean()\n",
        "print(\"The most negative handle is: \", avg_vcomp.idxmin(),avg_vcomp.min())\n",
        "print(\"The most positive handle is: \", avg_vcomp.idxmax(),avg_vcomp.max())\n"
      ]
    },
    {
      "cell_type": "markdown",
      "id": "24f342a1",
      "metadata": {
        "id": "24f342a1"
      },
      "source": [
        "### So what exactly does VADAR consider negative/positive? Let's take a look."
      ]
    },
    {
      "cell_type": "code",
      "execution_count": 14,
      "id": "0aa53a2e",
      "metadata": {
        "id": "0aa53a2e",
        "outputId": "ed510a21-237d-4b42-a13a-eeb3cfe0a049",
        "colab": {
          "base_uri": "https://localhost:8080/"
        }
      },
      "outputs": [
        {
          "output_type": "stream",
          "name": "stdout",
          "text": [
            "#Roadwork #StCatharines #Thorold #HWY58 NB and SB from Thorold Stone Road/Davis Road to Pine Street will be fully closed from midnight May 4 until 6 am May 18, 2020 - Use alternate route. \n",
            "\n",
            "Update: #Closure #StCatharines #QEW both directions Off-ramps at #HWY406 SB are fully closed due to a Police Investigation. #ONHwys \n",
            "\n",
            "#Roadwork #StCatharines On-ramp to #HWY406 NB from Glendale Ave closed daily from 6am to 6pm on June 1 to 5, 2020. Access will remain open for emergency vehicles \n",
            "\n",
            "#Roadwork #Thorold #HWY58 NB off-ramp to HWY406 NB - Off-ramp lanes will be closed from 9am until 4pm on June 10 and 11, 2020. \n",
            "\n",
            "#Roadwork #StCatharines On-ramp to #HWY406 SB from #HWY58 NB will be fully closed from 6am to 2pm on Nov 7, 2020. No access to #HWY406 SB from #HWY58 NB. \n",
            "\n"
          ]
        }
      ],
      "source": [
        "negative_tweets = pruned[pruned.handle == avg_vcomp.idxmin()]\n",
        "for text in negative_tweets.text[:5]:\n",
        "    print(text)\n",
        "    print()\n"
      ]
    },
    {
      "cell_type": "markdown",
      "id": "7b9c1fa7",
      "metadata": {
        "id": "7b9c1fa7"
      },
      "source": [
        "### Well, nobody likes traffic..."
      ]
    },
    {
      "cell_type": "code",
      "execution_count": 15,
      "id": "f0fe87d1",
      "metadata": {
        "id": "f0fe87d1",
        "outputId": "580499b1-1f60-4978-a844-888ac71888d1",
        "colab": {
          "base_uri": "https://localhost:8080/"
        }
      },
      "outputs": [
        {
          "output_type": "stream",
          "name": "stdout",
          "text": [
            "🏆 | They came, they played, they conquered. After seasons of unmatched skill and triumph, these all-star talents have their sights set on adding a top conference honour to their trophy case. The 2019-20 #OUA Male Athlete of the Year nominees are... #WeAreONE | #HonourAwards… https://t.co/FbsbGIGqYY \n",
            "\n",
            "🏆 | They’ve compiled sensational seasons to lead their respective squads, and now, they will look to cap off their accolade-filled campaigns with the conference’s top individual honour. The 2019-20 #OUA Female Athlete of the Year nominees are... #WeAreONE | #HonourAwards… https://t.co/D5W8LOvTfl \n",
            "\n",
            "🏆 | Congratulations goes to play-by-play commentator Matt Bonomi from the @brockbadgers for being named the Best #OUA Webcast Announcer for the 2019-20 season! 🎙️ #WeAreONE | #WeAreBadgers | #CHAMPAwards… https://t.co/slraDBQdXc \n",
            "\n",
            "#BannerSeason | ⏪🤼‍♂️ We use the same formula every year - teamwork, careful scouting, great coaching, and a stellar lineup. [Winning] with this formula means the continuation of Brock's wrestling legacy. 💬 Clayton Pye (🤼‍♂️) 📸 Gar FitzGerald #WeAreONE | #WeAreBadgers… https://t.co/S4OtCfWyIj \n",
            "\n",
            "#BannerSeason | ⏪🤼‍♂️ To help ensure the double-banner sweep, the @brockbadgers men's team collected a blistering 9️⃣5️⃣ points, using their championship-leading seven individual medals to carry them to their fifth banner in a row! 📸 Gar FitzGerald #WeAreONE | #WeAreBadgers… https://t.co/MyoCWwsutm \n",
            "\n"
          ]
        }
      ],
      "source": [
        "positive_tweets = pruned[pruned.handle == avg_vcomp.idxmax()]\n",
        "for text in positive_tweets.text[:5]:\n",
        "    print(text)\n",
        "    print()"
      ]
    },
    {
      "cell_type": "markdown",
      "id": "5a6f94fc",
      "metadata": {
        "id": "5a6f94fc"
      },
      "source": [
        "### Well that looks pretty positive! Unfortunately neither of the handle's tweets have to do with Covid... but what if we looked for sentiment in tweets explicitly mentioning Covid?"
      ]
    },
    {
      "cell_type": "code",
      "execution_count": 16,
      "id": "08d276dd",
      "metadata": {
        "id": "08d276dd",
        "outputId": "b054683a-9461-45e6-972c-688727bb33b7",
        "colab": {
          "base_uri": "https://localhost:8080/"
        }
      },
      "outputs": [
        {
          "output_type": "stream",
          "name": "stdout",
          "text": [
            "Examining tweets from handles with > 10 tweets mentioning Covid. Result: 1095\n",
            "\n",
            "The most negative handle is:  @ONThealth 0.1591735294117647\n",
            "-------------------------------------------------------\n",
            "More regions will move into Stage 2 on Friday, June 19:  •@DurhamHealth •@HNHealthUnit •@RegionofHalton •@cityofhamilton •@lambton_ph •@NiagaraRegion •@YorkRegionGovt These regions join the 24 public health regions that opened on June 12. #COVID19ON https://t.co/mekuqqUx9T… https://t.co/H6lPHnqLkD \n",
            "\n",
            "As part of the #COVID19 fall preparedness plan, Ontario is expanding access to COVID-19 testing to pharmacies starting Sept 25. This will prepare the health system & support frontline care providers’ readiness for a second wave of COVID-19. https://t.co/tySrym9ad8… https://t.co/x7WeuuzpPB \n",
            "\n",
            "Ontario is ordering a Provincewide Shutdown requiring Ontarians to stay at home as much as possible to stop the spread of #COVID19. These measures will protect health system capacity and save lives by breaking the current trend of COVID-19 transmission. https://t.co/9rWocyXf9O… https://t.co/QoDysN6nrI \n",
            "\n",
            "The impact of #COVID19 can be stressful for many people. Remember to check in on one another virtually and take care of your #MentalHealth. Learn how to cope with the effects of isolation or quarantine with these helpful tips: https://t.co/x32Ss45AsJ… https://t.co/cOWH5Jhwi1 \n",
            "\n",
            "With over 50% of Ontarians aged 80+ having received their first dose of a #COVID19 vaccine, the government is expanding appointments ahead of schedule through its online booking system to individuals aged 75+, effective Monday, March 22, 2021. https://t.co/lyyiX3qgFR… https://t.co/CySPsOzNUT \n",
            "\n",
            "The most positive handle is:  @NFLibrary 0.5596\n",
            "-------------------------------------------------------\n",
            "Do you want to stay informed about the latest COVID-19 developments across the region, the nation, and the world?  PressReader provides access to hundreds of the world’s most reputable and reliable newspapers! https://t.co/RLxYX3P5xj… https://t.co/cywKgq2k8B \n",
            "\n",
            "How have your family visits changed because of coronavirus? Please share your photos and stories of life amidst COVID-19 in Niagara Falls at: https://t.co/bDYz1lH0ti… https://t.co/ISckZcol8o \n",
            "\n",
            "Be part of living history!  Share your photos and stories at Our Stories : Niagara Falls COVID-19 https://t.co/bDYz1lH0ti \n",
            "\n",
            "We HOPE you will share your memories with us at Our Stories: Niagara Falls COVID-19 https://t.co/bDYz1lH0ti…  \n",
            "\n",
            "All Niagara Falls Public Library locations will be closed until further notice due to the risk posed by the COVID-19 virus. With the announcement of the Government of Ontario's Phase 1 Reopening, we are currently reviewing options for safe delivery of library services. \n",
            "\n"
          ]
        }
      ],
      "source": [
        "#This time examine handles with > 10 tweets explicitly mentioning covid\n",
        "covid_tweet_map = archive_data.text.str.contains('covid',case=False)\n",
        "covid_tweets = archive_data[covid_tweet_map]\n",
        "\n",
        "\n",
        "gt10 = covid_tweets.groupby('handle').text.count() > 10\n",
        "gt10 = gt10[gt10] #confusing statement, but all this does is remove rows that are not False\n",
        "covid_tweets = covid_tweets[covid_tweets.handle.isin(gt10.keys())]\n",
        "print(\"Examining tweets from handles with > 10 tweets mentioning Covid. Result: {}\".format(len(covid_tweets)))\n",
        "\n",
        "#Calculate average of compound sentiment for each handle\n",
        "avg_vcomp = covid_tweets.groupby('handle')['v_comp'].mean()\n",
        "\n",
        "print()\n",
        "print(\"The most negative handle is: \", avg_vcomp.idxmin(),avg_vcomp.min())\n",
        "print(\"-------------------------------------------------------\")\n",
        "negative_tweets = covid_tweets[covid_tweets.handle == avg_vcomp.idxmin()]\n",
        "for text in negative_tweets.text[:5]:\n",
        "    print(text)\n",
        "    print()\n",
        "\n",
        "print(\"The most positive handle is: \", avg_vcomp.idxmax(),avg_vcomp.max())\n",
        "print(\"-------------------------------------------------------\")\n",
        "positive_tweets = covid_tweets[covid_tweets.handle == avg_vcomp.idxmax()]\n",
        "for text in positive_tweets.text[:5]:\n",
        "    print(text)\n",
        "    print()\n"
      ]
    },
    {
      "cell_type": "markdown",
      "id": "9534b327",
      "metadata": {
        "id": "9534b327"
      },
      "source": [
        "### Download Data"
      ]
    },
    {
      "cell_type": "markdown",
      "source": [
        "Original data with duplicate tweets removed"
      ],
      "metadata": {
        "id": "keKVQm1njrIa"
      },
      "id": "keKVQm1njrIa"
    },
    {
      "cell_type": "code",
      "source": [
        "#archive_data has at this point already had duplicates removed in an earlier cell\n",
        "archive_data.to_csv('original_tweets_no_duplicates.csv',index=False)\n",
        "files.download('original_tweets_no_duplicates.csv')"
      ],
      "metadata": {
        "colab": {
          "base_uri": "https://localhost:8080/",
          "height": 17
        },
        "id": "BUn0_4tpjyXs",
        "outputId": "3288678c-0688-4ec4-a175-691a5c93e3db"
      },
      "id": "BUn0_4tpjyXs",
      "execution_count": 17,
      "outputs": [
        {
          "output_type": "display_data",
          "data": {
            "application/javascript": [
              "\n",
              "    async function download(id, filename, size) {\n",
              "      if (!google.colab.kernel.accessAllowed) {\n",
              "        return;\n",
              "      }\n",
              "      const div = document.createElement('div');\n",
              "      const label = document.createElement('label');\n",
              "      label.textContent = `Downloading \"${filename}\": `;\n",
              "      div.appendChild(label);\n",
              "      const progress = document.createElement('progress');\n",
              "      progress.max = size;\n",
              "      div.appendChild(progress);\n",
              "      document.body.appendChild(div);\n",
              "\n",
              "      const buffers = [];\n",
              "      let downloaded = 0;\n",
              "\n",
              "      const channel = await google.colab.kernel.comms.open(id);\n",
              "      // Send a message to notify the kernel that we're ready.\n",
              "      channel.send({})\n",
              "\n",
              "      for await (const message of channel.messages) {\n",
              "        // Send a message to notify the kernel that we're ready.\n",
              "        channel.send({})\n",
              "        if (message.buffers) {\n",
              "          for (const buffer of message.buffers) {\n",
              "            buffers.push(buffer);\n",
              "            downloaded += buffer.byteLength;\n",
              "            progress.value = downloaded;\n",
              "          }\n",
              "        }\n",
              "      }\n",
              "      const blob = new Blob(buffers, {type: 'application/binary'});\n",
              "      const a = document.createElement('a');\n",
              "      a.href = window.URL.createObjectURL(blob);\n",
              "      a.download = filename;\n",
              "      div.appendChild(a);\n",
              "      a.click();\n",
              "      div.remove();\n",
              "    }\n",
              "  "
            ],
            "text/plain": [
              "<IPython.core.display.Javascript object>"
            ]
          },
          "metadata": {}
        },
        {
          "output_type": "display_data",
          "data": {
            "application/javascript": [
              "download(\"download_9d200a5e-2cd2-4ec5-a238-d73d3962f992\", \"original_tweets_no_duplicates.csv\", 3610286)"
            ],
            "text/plain": [
              "<IPython.core.display.Javascript object>"
            ]
          },
          "metadata": {}
        }
      ]
    },
    {
      "cell_type": "markdown",
      "source": [
        "Tweets explicitly containing the word 'Covid'"
      ],
      "metadata": {
        "id": "XRaS2h6klncN"
      },
      "id": "XRaS2h6klncN"
    },
    {
      "cell_type": "code",
      "source": [
        "covid_tweet_map = archive_data.text.str.contains('covid',case=False)\n",
        "archive_data[covid_tweet_map].to_csv('covid_explicit_tweets.csv', index=False)\n",
        "files.download('covid_explicit_tweets.csv')\n"
      ],
      "metadata": {
        "colab": {
          "base_uri": "https://localhost:8080/",
          "height": 17
        },
        "id": "FexyfToXlsii",
        "outputId": "c58250d5-6099-4ed5-e385-fce66d055de6"
      },
      "id": "FexyfToXlsii",
      "execution_count": 18,
      "outputs": [
        {
          "output_type": "display_data",
          "data": {
            "application/javascript": [
              "\n",
              "    async function download(id, filename, size) {\n",
              "      if (!google.colab.kernel.accessAllowed) {\n",
              "        return;\n",
              "      }\n",
              "      const div = document.createElement('div');\n",
              "      const label = document.createElement('label');\n",
              "      label.textContent = `Downloading \"${filename}\": `;\n",
              "      div.appendChild(label);\n",
              "      const progress = document.createElement('progress');\n",
              "      progress.max = size;\n",
              "      div.appendChild(progress);\n",
              "      document.body.appendChild(div);\n",
              "\n",
              "      const buffers = [];\n",
              "      let downloaded = 0;\n",
              "\n",
              "      const channel = await google.colab.kernel.comms.open(id);\n",
              "      // Send a message to notify the kernel that we're ready.\n",
              "      channel.send({})\n",
              "\n",
              "      for await (const message of channel.messages) {\n",
              "        // Send a message to notify the kernel that we're ready.\n",
              "        channel.send({})\n",
              "        if (message.buffers) {\n",
              "          for (const buffer of message.buffers) {\n",
              "            buffers.push(buffer);\n",
              "            downloaded += buffer.byteLength;\n",
              "            progress.value = downloaded;\n",
              "          }\n",
              "        }\n",
              "      }\n",
              "      const blob = new Blob(buffers, {type: 'application/binary'});\n",
              "      const a = document.createElement('a');\n",
              "      a.href = window.URL.createObjectURL(blob);\n",
              "      a.download = filename;\n",
              "      div.appendChild(a);\n",
              "      a.click();\n",
              "      div.remove();\n",
              "    }\n",
              "  "
            ],
            "text/plain": [
              "<IPython.core.display.Javascript object>"
            ]
          },
          "metadata": {}
        },
        {
          "output_type": "display_data",
          "data": {
            "application/javascript": [
              "download(\"download_0a1343d2-fc14-4b6a-afda-a8ecba465cc6\", \"covid_explicit_tweets.csv\", 487493)"
            ],
            "text/plain": [
              "<IPython.core.display.Javascript object>"
            ]
          },
          "metadata": {}
        }
      ]
    },
    {
      "cell_type": "markdown",
      "source": [
        "Tweets containing the word 'Covid', but only from accounts containing at least 10 such instances."
      ],
      "metadata": {
        "id": "DuqO7ANBmty4"
      },
      "id": "DuqO7ANBmty4"
    },
    {
      "cell_type": "code",
      "source": [
        "covid_tweets.to_csv('covid_tweets_gt10.csv', index=False)\n",
        "files.download('covid_tweets_gt10.csv')"
      ],
      "metadata": {
        "colab": {
          "base_uri": "https://localhost:8080/",
          "height": 17
        },
        "id": "3lJ3agf9m0LW",
        "outputId": "04fb0cad-ca35-40a4-a1dd-10bcf96725fa"
      },
      "id": "3lJ3agf9m0LW",
      "execution_count": 19,
      "outputs": [
        {
          "output_type": "display_data",
          "data": {
            "application/javascript": [
              "\n",
              "    async function download(id, filename, size) {\n",
              "      if (!google.colab.kernel.accessAllowed) {\n",
              "        return;\n",
              "      }\n",
              "      const div = document.createElement('div');\n",
              "      const label = document.createElement('label');\n",
              "      label.textContent = `Downloading \"${filename}\": `;\n",
              "      div.appendChild(label);\n",
              "      const progress = document.createElement('progress');\n",
              "      progress.max = size;\n",
              "      div.appendChild(progress);\n",
              "      document.body.appendChild(div);\n",
              "\n",
              "      const buffers = [];\n",
              "      let downloaded = 0;\n",
              "\n",
              "      const channel = await google.colab.kernel.comms.open(id);\n",
              "      // Send a message to notify the kernel that we're ready.\n",
              "      channel.send({})\n",
              "\n",
              "      for await (const message of channel.messages) {\n",
              "        // Send a message to notify the kernel that we're ready.\n",
              "        channel.send({})\n",
              "        if (message.buffers) {\n",
              "          for (const buffer of message.buffers) {\n",
              "            buffers.push(buffer);\n",
              "            downloaded += buffer.byteLength;\n",
              "            progress.value = downloaded;\n",
              "          }\n",
              "        }\n",
              "      }\n",
              "      const blob = new Blob(buffers, {type: 'application/binary'});\n",
              "      const a = document.createElement('a');\n",
              "      a.href = window.URL.createObjectURL(blob);\n",
              "      a.download = filename;\n",
              "      div.appendChild(a);\n",
              "      a.click();\n",
              "      div.remove();\n",
              "    }\n",
              "  "
            ],
            "text/plain": [
              "<IPython.core.display.Javascript object>"
            ]
          },
          "metadata": {}
        },
        {
          "output_type": "display_data",
          "data": {
            "application/javascript": [
              "download(\"download_860e77f2-c6c2-4e7b-b23b-e7bc252a3eb5\", \"covid_tweets_gt10.csv\", 414249)"
            ],
            "text/plain": [
              "<IPython.core.display.Javascript object>"
            ]
          },
          "metadata": {}
        }
      ]
    }
  ],
  "metadata": {
    "kernelspec": {
      "display_name": "Python 3 (ipykernel)",
      "language": "python",
      "name": "python3"
    },
    "language_info": {
      "codemirror_mode": {
        "name": "ipython",
        "version": 3
      },
      "file_extension": ".py",
      "mimetype": "text/x-python",
      "name": "python",
      "nbconvert_exporter": "python",
      "pygments_lexer": "ipython3",
      "version": "3.8.10"
    },
    "colab": {
      "name": "Twitter_Data_Explore_and_Export.ipynb",
      "provenance": [],
      "collapsed_sections": [],
      "include_colab_link": true
    }
  },
  "nbformat": 4,
  "nbformat_minor": 5
}