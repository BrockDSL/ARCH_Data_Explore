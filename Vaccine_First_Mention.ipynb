{
  "nbformat": 4,
  "nbformat_minor": 0,
  "metadata": {
    "colab": {
      "provenance": [],
      "collapsed_sections": []
    },
    "kernelspec": {
      "name": "python3",
      "display_name": "Python 3"
    },
    "language_info": {
      "name": "python"
    }
  },
  "cells": [
    {
      "cell_type": "markdown",
      "source": [
        "![dsl logo](https://github.com/BrockDSL/ARCH_Data_Explore/blob/main/dsl_logo.png?raw=true)\n",
        "\n",
        "# About\n",
        "This notebook creates an Excel spreadsheet containing the first references to COVID-19 vaccines for each municipality. It also creates a visual with matplotlib. \n",
        "\n",
        "# Details\n",
        "\n",
        "I was not able to programmatically find the first references using a keyword search, since the pattern \"vaccine|vaccinated|vaccination\" comes up too frequently. Instead I dumped all matches of this pattern, along with the **url**, **crawl_date** and **domain** into a spreadsheet and looked through the results manually. I then collected the results and created a separate worksheet with them. You can see the final result here: [https://brocku-my.sharepoint.com/:x:/g/personal/fjohnson2_brocku_ca/EUMLlNrP_IpGscaqpRmbWaoBDrvBfXkiSlrvfb3qODCUog?e=HpxYMU](https://brocku-my.sharepoint.com/:x:/g/personal/fjohnson2_brocku_ca/EUMLlNrP_IpGscaqpRmbWaoBDrvBfXkiSlrvfb3qODCUog?e=HpxYMU)"
      ],
      "metadata": {
        "id": "gAHjvF9pC69M"
      }
    },
    {
      "cell_type": "code",
      "execution_count": null,
      "metadata": {
        "id": "cIbF30c4P8TW",
        "colab": {
          "base_uri": "https://localhost:8080/"
        },
        "outputId": "6a4890c6-1cce-40b2-d606-4e1419d3e2b7"
      },
      "outputs": [
        {
          "output_type": "stream",
          "name": "stdout",
          "text": [
            "Looking in indexes: https://pypi.org/simple, https://us-python.pkg.dev/colab-wheels/public/simple/\n",
            "Requirement already satisfied: xlsxwriter in /usr/local/lib/python3.7/dist-packages (3.0.3)\n"
          ]
        }
      ],
      "source": [
        "!pip install xlsxwriter\n",
        "import pandas as pd\n",
        "import re\n",
        "import requests\n",
        "import xlsxwriter\n",
        "from google.colab import data_table\n",
        "data_table.enable_dataframe_formatter()\n"
      ]
    },
    {
      "cell_type": "code",
      "source": [
        "def download_file(url, filename=None, loud=True):\n",
        "  \n",
        "  if not filename:\n",
        "    filename = url.split('/')[-1]\n",
        "  \n",
        "  r = requests.get(url, stream=True)\n",
        "  if loud:\n",
        "    total_bytes_dl = 0\n",
        "    content_len = int(r.headers['Content-Length'])\n",
        "\n",
        "  with open(filename, 'wb') as fd:\n",
        "      for chunk in r.iter_content(chunk_size=4096):\n",
        "          fd.write(chunk)\n",
        "          if loud:\n",
        "            total_bytes_dl += 4096\n",
        "            percent = int((total_bytes_dl / content_len) * 100.0)\n",
        "            print(f'\\rDownload progress of {filename} {total_bytes_dl}/{content_len}: {percent}%',end='')\n",
        "  r.close()\n",
        "\n",
        "def get_muni_data():\n",
        "  download_file(\"https://brockau.s3.us-east-2.amazonaws.com/municipal_data.csv.gz\")\n",
        "  !gunzip -f municipal_data.csv.gz\n",
        "  archive_data = pd.read_csv(\"municipal_data.csv\")\n",
        "  archive_data.drop(columns=['Unnamed: 0', 'index', 'v_pos','v_neg','v_neu','v_comp', 'mime_type_web_server', 'mime_type_tika', 'language'], inplace=True)\n",
        "  archive_data = archive_data[archive_data.content.notna()]\n",
        "  archive_data.crawl_date = pd.to_datetime(archive_data.crawl_date)\n",
        "  archive_data.content = archive_data.content.astype(\"string\")\n",
        "  return archive_data"
      ],
      "metadata": {
        "id": "dfQkpZTCQZUH"
      },
      "execution_count": null,
      "outputs": []
    },
    {
      "cell_type": "code",
      "source": [
        "data = get_muni_data()"
      ],
      "metadata": {
        "colab": {
          "base_uri": "https://localhost:8080/"
        },
        "id": "TUbyESidRQs5",
        "outputId": "224f0814-de74-41b7-a323-b5607b11f23c"
      },
      "execution_count": null,
      "outputs": [
        {
          "output_type": "stream",
          "name": "stdout",
          "text": [
            "Download progress of municipal_data.csv.gz 51339264/51335494: 100%"
          ]
        }
      ]
    },
    {
      "cell_type": "code",
      "source": [
        "def get_matches_context(sstring):\n",
        "  pattern = 'vaccine|vaccinated|vaccination'\n",
        "  matches = re.finditer(pattern, sstring, flags=re.IGNORECASE)\n",
        "  clen = 40 #string context length\n",
        "  segments = []\n",
        "  \n",
        "  for i,m in enumerate(matches):\n",
        "    start = max(m.start()-clen,0)\n",
        "    len_left_chars = m.start() - start\n",
        "    right_padding = clen - len_left_chars\n",
        "\n",
        "    len_right_chars = min(len(sstring) - m.end(), clen)\n",
        "    left_padding = clen - len_right_chars \n",
        "    padded_start = max(m.start() - (clen +left_padding), 0)\n",
        "    padded_end = m.end() + clen + right_padding\n",
        "    \n",
        "    segments.append(bold_format)\n",
        "    segments.append(f\"{i}: \")\n",
        "    segments.append(sstring[padded_start:m.start()])\n",
        "    segments.append(enlarged_text_format)\n",
        "    segments.append(sstring[m.start():m.end()])\n",
        "    segments.append(sstring[m.end():padded_end])\n",
        "    segments.append('\\n')\n",
        "    \n",
        "  return segments"
      ],
      "metadata": {
        "id": "jOwydHSA17Dj"
      },
      "execution_count": null,
      "outputs": []
    },
    {
      "cell_type": "code",
      "source": [
        "workbook = xlsxwriter.Workbook('Vaccine first mention.xlsx')\n",
        "enlarged_text_format = workbook.add_format({'bold':True,'color':'blue','font_size': 16})\n",
        "bold_format = workbook.add_format({'bold':True})\n",
        "header_format = workbook.add_format({'bold': True, 'center_across':True, 'bottom':True})\n",
        "date_format = workbook.add_format({'num_format': 'yyyy-mm-dd','shrink':True})\n",
        "text_wrap_format = workbook.add_format({'text_wrap':True})\n",
        "\n",
        "def add_worksheet(domain, data_frame):\n",
        "  worksheet = workbook.add_worksheet(domain)\n",
        "  worksheet.set_column(0,0,10) #set column width to 10\n",
        "  worksheet.set_column(1,1,75)\n",
        "  worksheet.set_column(2,2,90,text_wrap_format)\n",
        "\n",
        "  worksheet.write(0,0,'crawl_date',header_format)\n",
        "  worksheet.write(0,1,'url',header_format)\n",
        "  worksheet.write(0,2,'content',header_format)\n",
        "\n",
        "  for i,row in enumerate(data_frame.itertuples(index=False), start=1):\n",
        "    worksheet.write(i,0,row.crawl_date,date_format)\n",
        "    worksheet.write(i,1,row.url)\n",
        "    worksheet.write_rich_string(i,2,*get_matches_context(row.content))\n",
        "\n",
        "for d in data.domain.drop_duplicates(): \n",
        "  specific_domain = data[(data.domain==d) & data.content.str.contains('vaccine|vaccinated|vaccination', flags=re.IGNORECASE)]\n",
        "  specific_domain = specific_domain.sort_values(by=['crawl_date'],ascending=True).drop_duplicates(subset=['content'],keep='first')\n",
        "  add_worksheet(d, specific_domain)\n",
        "\n",
        "workbook.close()"
      ],
      "metadata": {
        "colab": {
          "base_uri": "https://localhost:8080/"
        },
        "id": "AUa98Nhy67HA",
        "outputId": "1f85b6fd-defb-4ecf-c738-130f25a75287"
      },
      "execution_count": null,
      "outputs": [
        {
          "output_type": "stream",
          "name": "stderr",
          "text": [
            "/usr/local/lib/python3.7/dist-packages/xlsxwriter/worksheet.py:1275: UserWarning: Excel doesn't allow empty strings in rich strings. Ignoring input in write_rich_string().\n",
            "  warn(\"Excel doesn't allow empty strings in rich strings. \"\n"
          ]
        }
      ]
    },
    {
      "cell_type": "markdown",
      "source": [
        "This next part uses the data generated in the excel sheet to chart out the first occurrences. It is adapted from https://matplotlib.org/stable/gallery/lines_bars_and_markers/timeline.html"
      ],
      "metadata": {
        "id": "mzJIEW_pAOhn"
      }
    },
    {
      "cell_type": "code",
      "source": [
        "import matplotlib.pyplot as plt\n",
        "import numpy as np\n",
        "import matplotlib.dates as mdates\n",
        "from datetime import datetime\n",
        "from matplotlib.text import Text\n",
        "import pandas as pd\n",
        "from google.colab import data_table\n",
        "data_table.enable_dataframe_formatter()"
      ],
      "metadata": {
        "id": "7G2dRYvmAbQ5"
      },
      "execution_count": null,
      "outputs": []
    },
    {
      "cell_type": "markdown",
      "source": [
        "Here's a summary of the first occurrences as a Pandas dataframe."
      ],
      "metadata": {
        "id": "luKw9wmOBZzW"
      }
    },
    {
      "cell_type": "code",
      "source": [
        "d = {\n",
        "  \"date\":['2020-12-11','2020-12-18','2021-01-08','2021-01-15','2021-02-05','2021-02-26','2021-03-05','2021-03-05','2021-03-05','2021-03-26','2021-05-07','2021-06-25','2021-06-25'],\n",
        "  \"url\":['https://wayback.archive-it.org/13781/20201211212950/https://www.niagararegion.ca/health/covid-19/community-guidelines.aspx',\n",
        "  'https://wayback.archive-it.org/13781/20211218005211/https://www.thorold.ca/en/city-hall/covid-19-resources.aspx',\n",
        "  'https://wayback.archive-it.org/13781/20210108215910/https://notl.com/',\n",
        "  'https://wayback.archive-it.org/13781/20210115214258/https://www.portcolborne.ca/Modules/News/en',\n",
        "  'https://wayback.archive-it.org/13781/20210205204813/https://www.grimsby.ca/en/covid-19.aspx',\n",
        "  'https://wayback.archive-it.org/13781/20210226192803/https://lincoln.ca/coronavirus-pandemic/',\n",
        "  'https://wayback.archive-it.org/13781/20210305203310/https://niagarafalls.ca/covid19/default.aspx',\n",
        "  'https://wayback.archive-it.org/13781/20210305192837/https://www.wainfleet.ca/en/town-hall/covid-19.aspx/',\n",
        "  'https://wayback.archive-it.org/13781/20210305193211/https://www.westlincoln.ca/Modules/News/en',\n",
        "  'https://wayback.archive-it.org/13781/20210326193340/https://www.welland.ca/hottopics/COVID-19.asp',\n",
        "  'https://wayback.archive-it.org/13781/20210507192826/https://www.stcatharines.ca/en/livein/covid-19.asp',\n",
        "  'https://wayback.archive-it.org/13781/20210625194903/https://www.forterie.ca/pages/Covid19News/',\n",
        "  'https://wayback.archive-it.org/13781/20210625211413/https://www.pelham.ca/en/news/council-highlights-june-21-2021.aspx']}\n",
        "\n",
        "pd.DataFrame(d, index=['niagararegion.ca','thorold.ca','notl.com','portcolborne.ca','grimsby.ca','lincoln.ca','niagarafalls.ca','wainfleet.ca','westlincoln.ca','welland.ca','stcatharines.ca','forterie.ca','pelham.ca'])"
      ],
      "metadata": {
        "colab": {
          "base_uri": "https://localhost:8080/",
          "height": 370
        },
        "id": "h7JbQjBwBhNE",
        "outputId": "0f345665-6689-41af-c179-399c82337c7e"
      },
      "execution_count": null,
      "outputs": [
        {
          "output_type": "execute_result",
          "data": {
            "text/plain": [
              "                        date  \\\n",
              "niagararegion.ca  2020-12-11   \n",
              "thorold.ca        2020-12-18   \n",
              "notl.com          2021-01-08   \n",
              "portcolborne.ca   2021-01-15   \n",
              "grimsby.ca        2021-02-05   \n",
              "lincoln.ca        2021-02-26   \n",
              "niagarafalls.ca   2021-03-05   \n",
              "wainfleet.ca      2021-03-05   \n",
              "westlincoln.ca    2021-03-05   \n",
              "welland.ca        2021-03-26   \n",
              "stcatharines.ca   2021-05-07   \n",
              "forterie.ca       2021-06-25   \n",
              "pelham.ca         2021-06-25   \n",
              "\n",
              "                                                                url  \n",
              "niagararegion.ca  https://wayback.archive-it.org/13781/202012112...  \n",
              "thorold.ca        https://wayback.archive-it.org/13781/202112180...  \n",
              "notl.com          https://wayback.archive-it.org/13781/202101082...  \n",
              "portcolborne.ca   https://wayback.archive-it.org/13781/202101152...  \n",
              "grimsby.ca        https://wayback.archive-it.org/13781/202102052...  \n",
              "lincoln.ca        https://wayback.archive-it.org/13781/202102261...  \n",
              "niagarafalls.ca   https://wayback.archive-it.org/13781/202103052...  \n",
              "wainfleet.ca      https://wayback.archive-it.org/13781/202103051...  \n",
              "westlincoln.ca    https://wayback.archive-it.org/13781/202103051...  \n",
              "welland.ca        https://wayback.archive-it.org/13781/202103261...  \n",
              "stcatharines.ca   https://wayback.archive-it.org/13781/202105071...  \n",
              "forterie.ca       https://wayback.archive-it.org/13781/202106251...  \n",
              "pelham.ca         https://wayback.archive-it.org/13781/202106252...  "
            ],
            "text/html": [
              "\n",
              "  <div id=\"df-61f8a4c3-fb52-4ee9-83ec-2abbabb9f469\">\n",
              "    <div class=\"colab-df-container\">\n",
              "      <div>\n",
              "<style scoped>\n",
              "    .dataframe tbody tr th:only-of-type {\n",
              "        vertical-align: middle;\n",
              "    }\n",
              "\n",
              "    .dataframe tbody tr th {\n",
              "        vertical-align: top;\n",
              "    }\n",
              "\n",
              "    .dataframe thead th {\n",
              "        text-align: right;\n",
              "    }\n",
              "</style>\n",
              "<table border=\"1\" class=\"dataframe\">\n",
              "  <thead>\n",
              "    <tr style=\"text-align: right;\">\n",
              "      <th></th>\n",
              "      <th>date</th>\n",
              "      <th>url</th>\n",
              "    </tr>\n",
              "  </thead>\n",
              "  <tbody>\n",
              "    <tr>\n",
              "      <th>niagararegion.ca</th>\n",
              "      <td>2020-12-11</td>\n",
              "      <td>https://wayback.archive-it.org/13781/202012112...</td>\n",
              "    </tr>\n",
              "    <tr>\n",
              "      <th>thorold.ca</th>\n",
              "      <td>2020-12-18</td>\n",
              "      <td>https://wayback.archive-it.org/13781/202112180...</td>\n",
              "    </tr>\n",
              "    <tr>\n",
              "      <th>notl.com</th>\n",
              "      <td>2021-01-08</td>\n",
              "      <td>https://wayback.archive-it.org/13781/202101082...</td>\n",
              "    </tr>\n",
              "    <tr>\n",
              "      <th>portcolborne.ca</th>\n",
              "      <td>2021-01-15</td>\n",
              "      <td>https://wayback.archive-it.org/13781/202101152...</td>\n",
              "    </tr>\n",
              "    <tr>\n",
              "      <th>grimsby.ca</th>\n",
              "      <td>2021-02-05</td>\n",
              "      <td>https://wayback.archive-it.org/13781/202102052...</td>\n",
              "    </tr>\n",
              "    <tr>\n",
              "      <th>lincoln.ca</th>\n",
              "      <td>2021-02-26</td>\n",
              "      <td>https://wayback.archive-it.org/13781/202102261...</td>\n",
              "    </tr>\n",
              "    <tr>\n",
              "      <th>niagarafalls.ca</th>\n",
              "      <td>2021-03-05</td>\n",
              "      <td>https://wayback.archive-it.org/13781/202103052...</td>\n",
              "    </tr>\n",
              "    <tr>\n",
              "      <th>wainfleet.ca</th>\n",
              "      <td>2021-03-05</td>\n",
              "      <td>https://wayback.archive-it.org/13781/202103051...</td>\n",
              "    </tr>\n",
              "    <tr>\n",
              "      <th>westlincoln.ca</th>\n",
              "      <td>2021-03-05</td>\n",
              "      <td>https://wayback.archive-it.org/13781/202103051...</td>\n",
              "    </tr>\n",
              "    <tr>\n",
              "      <th>welland.ca</th>\n",
              "      <td>2021-03-26</td>\n",
              "      <td>https://wayback.archive-it.org/13781/202103261...</td>\n",
              "    </tr>\n",
              "    <tr>\n",
              "      <th>stcatharines.ca</th>\n",
              "      <td>2021-05-07</td>\n",
              "      <td>https://wayback.archive-it.org/13781/202105071...</td>\n",
              "    </tr>\n",
              "    <tr>\n",
              "      <th>forterie.ca</th>\n",
              "      <td>2021-06-25</td>\n",
              "      <td>https://wayback.archive-it.org/13781/202106251...</td>\n",
              "    </tr>\n",
              "    <tr>\n",
              "      <th>pelham.ca</th>\n",
              "      <td>2021-06-25</td>\n",
              "      <td>https://wayback.archive-it.org/13781/202106252...</td>\n",
              "    </tr>\n",
              "  </tbody>\n",
              "</table>\n",
              "</div>\n",
              "      <button class=\"colab-df-convert\" onclick=\"convertToInteractive('df-61f8a4c3-fb52-4ee9-83ec-2abbabb9f469')\"\n",
              "              title=\"Convert this dataframe to an interactive table.\"\n",
              "              style=\"display:none;\">\n",
              "        \n",
              "  <svg xmlns=\"http://www.w3.org/2000/svg\" height=\"24px\"viewBox=\"0 0 24 24\"\n",
              "       width=\"24px\">\n",
              "    <path d=\"M0 0h24v24H0V0z\" fill=\"none\"/>\n",
              "    <path d=\"M18.56 5.44l.94 2.06.94-2.06 2.06-.94-2.06-.94-.94-2.06-.94 2.06-2.06.94zm-11 1L8.5 8.5l.94-2.06 2.06-.94-2.06-.94L8.5 2.5l-.94 2.06-2.06.94zm10 10l.94 2.06.94-2.06 2.06-.94-2.06-.94-.94-2.06-.94 2.06-2.06.94z\"/><path d=\"M17.41 7.96l-1.37-1.37c-.4-.4-.92-.59-1.43-.59-.52 0-1.04.2-1.43.59L10.3 9.45l-7.72 7.72c-.78.78-.78 2.05 0 2.83L4 21.41c.39.39.9.59 1.41.59.51 0 1.02-.2 1.41-.59l7.78-7.78 2.81-2.81c.8-.78.8-2.07 0-2.86zM5.41 20L4 18.59l7.72-7.72 1.47 1.35L5.41 20z\"/>\n",
              "  </svg>\n",
              "      </button>\n",
              "      \n",
              "  <style>\n",
              "    .colab-df-container {\n",
              "      display:flex;\n",
              "      flex-wrap:wrap;\n",
              "      gap: 12px;\n",
              "    }\n",
              "\n",
              "    .colab-df-convert {\n",
              "      background-color: #E8F0FE;\n",
              "      border: none;\n",
              "      border-radius: 50%;\n",
              "      cursor: pointer;\n",
              "      display: none;\n",
              "      fill: #1967D2;\n",
              "      height: 32px;\n",
              "      padding: 0 0 0 0;\n",
              "      width: 32px;\n",
              "    }\n",
              "\n",
              "    .colab-df-convert:hover {\n",
              "      background-color: #E2EBFA;\n",
              "      box-shadow: 0px 1px 2px rgba(60, 64, 67, 0.3), 0px 1px 3px 1px rgba(60, 64, 67, 0.15);\n",
              "      fill: #174EA6;\n",
              "    }\n",
              "\n",
              "    [theme=dark] .colab-df-convert {\n",
              "      background-color: #3B4455;\n",
              "      fill: #D2E3FC;\n",
              "    }\n",
              "\n",
              "    [theme=dark] .colab-df-convert:hover {\n",
              "      background-color: #434B5C;\n",
              "      box-shadow: 0px 1px 3px 1px rgba(0, 0, 0, 0.15);\n",
              "      filter: drop-shadow(0px 1px 2px rgba(0, 0, 0, 0.3));\n",
              "      fill: #FFFFFF;\n",
              "    }\n",
              "  </style>\n",
              "\n",
              "      <script>\n",
              "        const buttonEl =\n",
              "          document.querySelector('#df-61f8a4c3-fb52-4ee9-83ec-2abbabb9f469 button.colab-df-convert');\n",
              "        buttonEl.style.display =\n",
              "          google.colab.kernel.accessAllowed ? 'block' : 'none';\n",
              "\n",
              "        async function convertToInteractive(key) {\n",
              "          const element = document.querySelector('#df-61f8a4c3-fb52-4ee9-83ec-2abbabb9f469');\n",
              "          const dataTable =\n",
              "            await google.colab.kernel.invokeFunction('convertToInteractive',\n",
              "                                                     [key], {});\n",
              "          if (!dataTable) return;\n",
              "\n",
              "          const docLinkHtml = 'Like what you see? Visit the ' +\n",
              "            '<a target=\"_blank\" href=https://colab.research.google.com/notebooks/data_table.ipynb>data table notebook</a>'\n",
              "            + ' to learn more about interactive tables.';\n",
              "          element.innerHTML = '';\n",
              "          dataTable['output_type'] = 'display_data';\n",
              "          await google.colab.output.renderOutput(dataTable, element);\n",
              "          const docLink = document.createElement('div');\n",
              "          docLink.innerHTML = docLinkHtml;\n",
              "          element.appendChild(docLink);\n",
              "        }\n",
              "      </script>\n",
              "    </div>\n",
              "  </div>\n",
              "  "
            ],
            "application/vnd.google.colaboratory.module+javascript": "\n      import \"https://ssl.gstatic.com/colaboratory/data_table/a8bd4d5e58f96183/data_table.js\";\n\n      window.createDataTable({\n        data: [[\"niagararegion.ca\",\n\"2020-12-11\",\n\"https://wayback.archive-it.org/13781/20201211212950/https://www.niagararegion.ca/health/covid-19/community-guidelines.aspx\"],\n [\"thorold.ca\",\n\"2020-12-18\",\n\"https://wayback.archive-it.org/13781/20211218005211/https://www.thorold.ca/en/city-hall/covid-19-resources.aspx\"],\n [\"notl.com\",\n\"2021-01-08\",\n\"https://wayback.archive-it.org/13781/20210108215910/https://notl.com/\"],\n [\"portcolborne.ca\",\n\"2021-01-15\",\n\"https://wayback.archive-it.org/13781/20210115214258/https://www.portcolborne.ca/Modules/News/en\"],\n [\"grimsby.ca\",\n\"2021-02-05\",\n\"https://wayback.archive-it.org/13781/20210205204813/https://www.grimsby.ca/en/covid-19.aspx\"],\n [\"lincoln.ca\",\n\"2021-02-26\",\n\"https://wayback.archive-it.org/13781/20210226192803/https://lincoln.ca/coronavirus-pandemic/\"],\n [\"niagarafalls.ca\",\n\"2021-03-05\",\n\"https://wayback.archive-it.org/13781/20210305203310/https://niagarafalls.ca/covid19/default.aspx\"],\n [\"wainfleet.ca\",\n\"2021-03-05\",\n\"https://wayback.archive-it.org/13781/20210305192837/https://www.wainfleet.ca/en/town-hall/covid-19.aspx/\"],\n [\"westlincoln.ca\",\n\"2021-03-05\",\n\"https://wayback.archive-it.org/13781/20210305193211/https://www.westlincoln.ca/Modules/News/en\"],\n [\"welland.ca\",\n\"2021-03-26\",\n\"https://wayback.archive-it.org/13781/20210326193340/https://www.welland.ca/hottopics/COVID-19.asp\"],\n [\"stcatharines.ca\",\n\"2021-05-07\",\n\"https://wayback.archive-it.org/13781/20210507192826/https://www.stcatharines.ca/en/livein/covid-19.asp\"],\n [\"forterie.ca\",\n\"2021-06-25\",\n\"https://wayback.archive-it.org/13781/20210625194903/https://www.forterie.ca/pages/Covid19News/\"],\n [\"pelham.ca\",\n\"2021-06-25\",\n\"https://wayback.archive-it.org/13781/20210625211413/https://www.pelham.ca/en/news/council-highlights-june-21-2021.aspx\"]],\n        columns: [[\"string\", \"index\"], [\"string\", \"date\"], [\"string\", \"url\"]],\n        columnOptions: [{\"width\": \"1px\", \"className\": \"index_column\"}],\n        rowsPerPage: 25,\n        helpUrl: \"https://colab.research.google.com/notebooks/data_table.ipynb\",\n        suppressOutputScrolling: true,\n        minimumWidth: undefined,\n      });\n    "
          },
          "metadata": {},
          "execution_count": 8
        }
      ]
    },
    {
      "cell_type": "code",
      "source": [],
      "metadata": {
        "id": "QqZ-uGA0BCPO"
      },
      "execution_count": null,
      "outputs": []
    },
    {
      "cell_type": "code",
      "source": [
        "names = ['niagararegion.ca','thorold.ca','notl.com','portcolborne.ca','grimsby.ca','lincoln.ca','niagarafalls.ca',\n",
        "          'wainfleet.ca','westlincoln.ca','welland.ca','stcatharines.ca','forterie.ca','pelham.ca',]\n",
        "dates = ['2020-12-11','2020-12-18','2021-01-08','2021-01-15',\n",
        "         '2021-02-05','2021-02-26','2021-03-05','2021-03-05',\n",
        "         '2021-03-05','2021-03-26','2021-05-07','2021-06-25','2021-06-25']\n",
        "\n",
        "# Convert date strings (e.g. 2014-10-18) to datetime\n",
        "dates = [datetime.strptime(d, \"%Y-%m-%d\") for d in dates]"
      ],
      "metadata": {
        "id": "DHvXWC3LAcsQ"
      },
      "execution_count": null,
      "outputs": []
    },
    {
      "cell_type": "code",
      "source": [
        "# Choose some nice levels\n",
        "levels = np.tile([-5, 5, -3, 3, -1, 1],\n",
        "                 int(np.ceil(len(dates)/6)))[:len(dates)]\n",
        "\n",
        "# Create figure and plot a stem plot with the date\n",
        "fig, ax = plt.subplots(figsize=(10, 5), constrained_layout=True)\n",
        "ax.set(title=\"First mention of COVID-19 Vaccine by Municipality\")\n",
        "\n",
        "ax.vlines(dates, 0, levels, color=\"tab:red\")  # The vertical stems.\n",
        "\n",
        "ax.plot(dates, np.zeros_like(dates), \"-o\",\n",
        "        color=\"k\", markerfacecolor=\"w\")  # Baseline and markers on it.\n",
        "\n",
        "# annotate lines\n",
        "for d, l, r in zip(dates, levels, names):\n",
        "    ax.annotate(r, xy=(d, l),\n",
        "                xytext=(-3, np.sign(l)*3), textcoords=\"offset points\",\n",
        "                horizontalalignment=\"right\",\n",
        "                verticalalignment=\"bottom\" if l > 0 else \"top\")\n",
        "\n",
        "# format xaxis with 1 month intervals\n",
        "ax.tick_params(which='major', width=1.00, length=6)\n",
        "ax.tick_params(which='minor', width=0.75, length=4)\n",
        "\n",
        "#Set major ticks monthly\n",
        "ax.xaxis.set_major_locator(mdates.MonthLocator(interval=1))\n",
        "\n",
        "#Set minor ticks every Monday of the month\n",
        "ax.xaxis.set_minor_locator(mdates.WeekdayLocator())\n",
        "ax.xaxis.set_major_formatter(mdates.DateFormatter(\"%b %d %Y\"))\n",
        "\n",
        "\n",
        "#Need to do this because otherwise \"Dec 01 2020\" doesn't show up as first tick\n",
        "#alternatively, can do: #ax.set_xmargin(0.1) but it looks worse.\n",
        "ax.set_xticks([737760.0, 737791.0, 737822.0, 737850.0, 737881.0, 737911.0, 737942.0, 737972.0], \n",
        "              [Text(737760.0, 0, 'Dec 01 2020'), Text(737791.0, 0, 'Jan 01 2021'), Text(737822.0, 0, 'Feb 01 2021'), \n",
        "               Text(737850.0, 0, 'Mar 01 2021'), Text(737881.0, 0, 'Apr 01 2021'), Text(737911.0, 0, 'May 01 2021'), \n",
        "               Text(737942.0, 0, 'Jun 01 2021'), Text(737972.0, 0, 'Jul 01 2021')])\n",
        "ax.minorticks_on() #ax.set_xticks turns off minor ticks, so turn them back on\n",
        "plt.setp(ax.get_xticklabels(), rotation=30, ha=\"right\")\n",
        "\n",
        "# remove y axis and spines\n",
        "ax.yaxis.set_visible(False)\n",
        "for area in [\"left\", \"top\", \"right\"]: \n",
        "  ax.spines[area].set_visible(False)\n",
        "\n",
        "ax.margins(y=0.1)\n",
        "plt.show()"
      ],
      "metadata": {
        "colab": {
          "base_uri": "https://localhost:8080/",
          "height": 422
        },
        "id": "JlwwB-RDAjez",
        "outputId": "14d4d921-33b3-45ec-9591-ac089b12457f"
      },
      "execution_count": null,
      "outputs": [
        {
          "output_type": "stream",
          "name": "stderr",
          "text": [
            "/usr/local/lib/python3.7/dist-packages/ipykernel_launcher.py:38: MatplotlibDeprecationWarning: Passing the minor parameter of set_xticks() positionally is deprecated since Matplotlib 3.2; the parameter will become keyword-only two minor releases later.\n"
          ]
        },
        {
          "output_type": "display_data",
          "data": {
            "text/plain": [
              "<Figure size 720x360 with 1 Axes>"
            ],
            "image/png": "[encoded data removed]"
          },
          "metadata": {
            "needs_background": "light"
          }
        }
      ]
    }
  ]
}