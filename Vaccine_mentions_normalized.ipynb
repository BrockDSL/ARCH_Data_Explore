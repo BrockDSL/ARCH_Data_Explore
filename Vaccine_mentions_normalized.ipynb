{
  "nbformat": 4,
  "nbformat_minor": 0,
  "metadata": {
    "colab": {
      "provenance": [],
      "collapsed_sections": []
    },
    "kernelspec": {
      "name": "python3",
      "display_name": "Python 3"
    },
    "language_info": {
      "name": "python"
    }
  },
  "cells": [
    {
      "cell_type": "markdown",
      "source": [
        "![dsl logo](https://github.com/BrockDSL/ARCH_Data_Explore/blob/main/dsl_logo.png?raw=true)\n",
        "\n",
        "# Calculated and displayed is the number of weeks where vaccines were mentioned by each municipality in 2021. "
      ],
      "metadata": {
        "id": "cxd-x-oTnx0e"
      }
    },
    {
      "cell_type": "code",
      "execution_count": null,
      "metadata": {
        "id": "Tt9asy1g5oyk"
      },
      "outputs": [],
      "source": [
        "import pandas as pd\n",
        "import requests\n",
        "import pprint\n",
        "import re\n",
        "pd.set_option('display.max_rows', 500)\n",
        "pd.set_option('display.max_columns', 500)\n",
        "pd.set_option('display.width', 1000)\n",
        "pd.set_option('max_colwidth', 400)"
      ]
    },
    {
      "cell_type": "code",
      "source": [
        "def download_file(url, filename=None, loud=True):\n",
        "  \n",
        "  if not filename:\n",
        "    filename = url.split('/')[-1]\n",
        "  \n",
        "  r = requests.get(url, stream=True)\n",
        "  if loud:\n",
        "    total_bytes_dl = 0\n",
        "    content_len = int(r.headers['Content-Length'])\n",
        "\n",
        "  with open(filename, 'wb') as fd:\n",
        "      for chunk in r.iter_content(chunk_size=4096):\n",
        "          fd.write(chunk)\n",
        "          if loud:\n",
        "            total_bytes_dl += 4096\n",
        "            percent = int((total_bytes_dl / content_len) * 100.0)\n",
        "            print(f'\\rDownload progress of {filename} {total_bytes_dl}/{content_len}: {percent}%',end='')\n",
        "  r.close()\n",
        "\n",
        "def get_muni_data():\n",
        "  download_file(\"https://brockau.s3.us-east-2.amazonaws.com/url_cv19.csv.gz\")\n",
        "  !gunzip -f url_cv19.csv.gz\n",
        "  archive_data = pd.read_csv(\"url_cv19.csv\")\n",
        "  archive_data.crawl_date = pd.to_datetime(archive_data.crawl_date)\n",
        "  archive_data.content = archive_data.content.astype(\"string\")\n",
        "  return archive_data\n",
        "\n",
        "r = requests.get('https://raw.githubusercontent.com/BrockDSL/ARCH_Data_Explore/main/urls_of_interest.txt')\n",
        "urls_of_interest = r.text.split()\n",
        "\n",
        "domains = [\n",
        "\"westlincoln.ca\",\n",
        "\"thorold.ca\",\n",
        "\"forterie.ca\",\n",
        "\"welland.ca\",\n",
        "\"niagararegion.ca\",\n",
        "\"notl.com\",\n",
        "\"wainfleet.ca\",\n",
        "\"portcolborne.ca\",\n",
        "\"grimsby.ca\",\n",
        "\"lincoln.ca\",\n",
        "\"pelham.ca\",\n",
        "\"niagarafalls.ca\",\n",
        "\"stcatharines.ca\"]\n",
        "\n",
        "#Retrieve data \n",
        "data = get_muni_data()\n",
        "#data = data[data.content.notna()]\n",
        "data = data[data.url.isin(urls_of_interest)].drop_duplicates(subset=['crawl_date','url','content'])\n",
        "data = data.sort_values(by=['domain', 'crawl_date'])\n",
        "data = data.set_index('domain')"
      ],
      "metadata": {
        "colab": {
          "base_uri": "https://localhost:8080/"
        },
        "id": "cg7Ty7Z55yfD",
        "outputId": "1bdcf3a2-7f18-4ff3-abfb-bbb0e2dffd25"
      },
      "execution_count": null,
      "outputs": [
        {
          "output_type": "stream",
          "name": "stdout",
          "text": [
            "Download progress of url_cv19.csv.gz 4116480/4116015: 100%"
          ]
        }
      ]
    },
    {
      "cell_type": "code",
      "source": [
        "domain_data = []\n",
        "for d in domains:\n",
        "  domain = data[data.crawl_date >= '2021-01-01'].loc[d]\n",
        "\n",
        "  #Create a 365 day range that we can index our data onto\n",
        "  year_range = pd.DataFrame(index=pd.date_range(\"2021-01-01\", periods=365, freq=\"d\"))\n",
        "  \n",
        "  for url in set(domain.url):\n",
        "    url_data = domain.loc[domain.url == url].sort_values(by=['crawl_date'])\n",
        "\n",
        "    #NA rows are crawls that have duplicate content compared to the previous crawl\n",
        "    #use ffill to denote whether a duplicate row contains our keyword\n",
        "    #use bfill to fill in NA values that denote duplicate content from crawls before 2021\n",
        "    url_mask = url_data.content.str.contains('vaccine|vaccinated|vaccination', flags=re.IGNORECASE).fillna(method='ffill').fillna(method='bfill')\n",
        "    \n",
        "    #retrieve all dates with vaccine content (this includes NA rows that we have noted as having duplicate content as previous vaccine content crawls)\n",
        "    #drop duplicate rows on the with the same date (many duplicate content crawls are done on the same day)\n",
        "    url_data = url_data[url_mask].sort_values(['url','crawl_date','content']).drop_duplicates(subset=['crawl_date', 'url'])\n",
        "    \n",
        "    url_data.index = url_data.crawl_date\n",
        "    url_data = url_data.drop(['crawl_date','content'], axis=1).rename(columns={'url':url})\n",
        "    year_range = year_range.join(url_data, how='outer')\n",
        "  \n",
        "  #A special case is necessary for st.catharines which is missing december data \n",
        "  #It was manually verified via the wayback machine that the mentions exist\n",
        "  if d == 'stcatharines.ca':\n",
        "    year_range.loc[['2021-12-03','2021-12-10','2021-12-17','2021-12-24','2021-12-31'],'url'] = 'https://www.stcatharines.ca/en/livein/covid-19.asp'\n",
        "\n",
        "  #Resample down to a weekly range ('W-FRI' makes the range start on 2021-01-01 which was a monday)  \n",
        "  domain_totals = year_range.resample('W-FRI').count().any(axis='columns')\n",
        "  domain_totals.name = d\n",
        "  domain_data.append(domain_totals)\n",
        "final_result = pd.concat(domain_data, axis=1)"
      ],
      "metadata": {
        "id": "DQcC3XebkJd3"
      },
      "execution_count": null,
      "outputs": []
    },
    {
      "cell_type": "code",
      "source": [
        "final_result.sum().sort_values().plot.bar(title=\"Number of weeks in 2021 where vaccines were mentioned\", ylabel=\"weeks\", figsize=(12,8))"
      ],
      "metadata": {
        "colab": {
          "base_uri": "https://localhost:8080/",
          "height": 590
        },
        "id": "joNouNxMbgUR",
        "outputId": "2db08796-00b3-428e-9fc5-5443ec88e990"
      },
      "execution_count": null,
      "outputs": [
        {
          "output_type": "execute_result",
          "data": {
            "text/plain": [
              "<matplotlib.axes._subplots.AxesSubplot at 0x7f6678536b10>"
            ]
          },
          "metadata": {},
          "execution_count": 37
        },
        {
          "output_type": "display_data",
          "data": {
            "text/plain": [
              "<Figure size 864x576 with 1 Axes>"
            ],
            "image/png": "[encoded data removed]"
          },
          "metadata": {
            "needs_background": "light"
          }
        }
      ]
    }
  ]
}