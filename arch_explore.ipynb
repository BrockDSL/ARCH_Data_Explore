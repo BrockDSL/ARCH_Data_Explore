{
 "cells": [
  {
   "cell_type": "markdown",
   "metadata": {},
   "source": [
    "# ARCH Data Exploration"
   ]
  },
  {
   "cell_type": "markdown",
   "metadata": {},
   "source": []
  },
  {
   "cell_type": "markdown",
   "metadata": {},
   "source": [
    "### Includes and such"
   ]
  },
  {
   "cell_type": "code",
   "execution_count": 5,
   "metadata": {},
   "outputs": [],
   "source": [
    "import pandas as pd"
   ]
  },
  {
   "cell_type": "markdown",
   "metadata": {},
   "source": [
    "### Data unpack "
   ]
  },
  {
   "cell_type": "code",
   "execution_count": 3,
   "metadata": {},
   "outputs": [],
   "source": [
    "%%capture\n",
    "\n",
    "!gunzip -k *.gz\n",
    "\n",
    "\n",
    "!ls *.csv"
   ]
  },
  {
   "cell_type": "code",
   "execution_count": 6,
   "metadata": {},
   "outputs": [],
   "source": [
    "web_text = pd.read_csv(\"web-pages.csv\")"
   ]
  },
  {
   "cell_type": "code",
   "execution_count": 7,
   "metadata": {},
   "outputs": [
    {
     "data": {
      "text/html": [
       "<div>\n",
       "<style scoped>\n",
       "    .dataframe tbody tr th:only-of-type {\n",
       "        vertical-align: middle;\n",
       "    }\n",
       "\n",
       "    .dataframe tbody tr th {\n",
       "        vertical-align: top;\n",
       "    }\n",
       "\n",
       "    .dataframe thead th {\n",
       "        text-align: right;\n",
       "    }\n",
       "</style>\n",
       "<table border=\"1\" class=\"dataframe\">\n",
       "  <thead>\n",
       "    <tr style=\"text-align: right;\">\n",
       "      <th></th>\n",
       "      <th>crawl_date</th>\n",
       "      <th>domain</th>\n",
       "      <th>url</th>\n",
       "      <th>mime_type_web_server</th>\n",
       "      <th>mime_type_tika</th>\n",
       "      <th>language</th>\n",
       "      <th>content</th>\n",
       "    </tr>\n",
       "  </thead>\n",
       "  <tbody>\n",
       "    <tr>\n",
       "      <th>236031</th>\n",
       "      <td>20200914</td>\n",
       "      <td>youtube.com</td>\n",
       "      <td>https://www.youtube.com/watch?v=Iwpi1Lm6dFo</td>\n",
       "      <td>text/html</td>\n",
       "      <td>text/html</td>\n",
       "      <td>en</td>\n",
       "      <td>About Press Copyright Contact us Creators Adve...</td>\n",
       "    </tr>\n",
       "    <tr>\n",
       "      <th>502524</th>\n",
       "      <td>20210306</td>\n",
       "      <td>gncc.ca</td>\n",
       "      <td>https://gncc.ca/community-event/dementia-101-t...</td>\n",
       "      <td>text/html</td>\n",
       "      <td>text/html</td>\n",
       "      <td>en</td>\n",
       "      <td>Dementia 101 &amp; Tips for a Healthy Brain - Grea...</td>\n",
       "    </tr>\n",
       "    <tr>\n",
       "      <th>520700</th>\n",
       "      <td>20210320</td>\n",
       "      <td>twitter.com</td>\n",
       "      <td>https://twitter.com/niagararegion?lang=fi</td>\n",
       "      <td>text/html</td>\n",
       "      <td>text/html</td>\n",
       "      <td>fi</td>\n",
       "      <td>Niagara Region (@NiagaraRegion) | Twitter Hava...</td>\n",
       "    </tr>\n",
       "    <tr>\n",
       "      <th>492446</th>\n",
       "      <td>20210227</td>\n",
       "      <td>gncc.ca</td>\n",
       "      <td>https://gncc.ca/community-event/free-income-ta...</td>\n",
       "      <td>text/html</td>\n",
       "      <td>text/html</td>\n",
       "      <td>en</td>\n",
       "      <td>Free Income Tax Clinic - Greater Niagara Chamb...</td>\n",
       "    </tr>\n",
       "    <tr>\n",
       "      <th>564664</th>\n",
       "      <td>20210416</td>\n",
       "      <td>thehopecentre.net</td>\n",
       "      <td>https://www.thehopecentre.net/covid-19/8a2243_...</td>\n",
       "      <td>text/html</td>\n",
       "      <td>text/html</td>\n",
       "      <td>en</td>\n",
       "      <td>COVID 19 | The Hope Centre | Welland DONATE TO...</td>\n",
       "    </tr>\n",
       "  </tbody>\n",
       "</table>\n",
       "</div>"
      ],
      "text/plain": [
       "        crawl_date             domain  \\\n",
       "236031    20200914        youtube.com   \n",
       "502524    20210306            gncc.ca   \n",
       "520700    20210320        twitter.com   \n",
       "492446    20210227            gncc.ca   \n",
       "564664    20210416  thehopecentre.net   \n",
       "\n",
       "                                                      url  \\\n",
       "236031        https://www.youtube.com/watch?v=Iwpi1Lm6dFo   \n",
       "502524  https://gncc.ca/community-event/dementia-101-t...   \n",
       "520700          https://twitter.com/niagararegion?lang=fi   \n",
       "492446  https://gncc.ca/community-event/free-income-ta...   \n",
       "564664  https://www.thehopecentre.net/covid-19/8a2243_...   \n",
       "\n",
       "       mime_type_web_server mime_type_tika language  \\\n",
       "236031            text/html      text/html       en   \n",
       "502524            text/html      text/html       en   \n",
       "520700            text/html      text/html       fi   \n",
       "492446            text/html      text/html       en   \n",
       "564664            text/html      text/html       en   \n",
       "\n",
       "                                                  content  \n",
       "236031  About Press Copyright Contact us Creators Adve...  \n",
       "502524  Dementia 101 & Tips for a Healthy Brain - Grea...  \n",
       "520700  Niagara Region (@NiagaraRegion) | Twitter Hava...  \n",
       "492446  Free Income Tax Clinic - Greater Niagara Chamb...  \n",
       "564664  COVID 19 | The Hope Centre | Welland DONATE TO...  "
      ]
     },
     "execution_count": 7,
     "metadata": {},
     "output_type": "execute_result"
    }
   ],
   "source": [
    "web_text.sample(5)"
   ]
  },
  {
   "cell_type": "code",
   "execution_count": 8,
   "metadata": {},
   "outputs": [
    {
     "data": {
      "text/html": [
       "<div>\n",
       "<style scoped>\n",
       "    .dataframe tbody tr th:only-of-type {\n",
       "        vertical-align: middle;\n",
       "    }\n",
       "\n",
       "    .dataframe tbody tr th {\n",
       "        vertical-align: top;\n",
       "    }\n",
       "\n",
       "    .dataframe thead th {\n",
       "        text-align: right;\n",
       "    }\n",
       "</style>\n",
       "<table border=\"1\" class=\"dataframe\">\n",
       "  <thead>\n",
       "    <tr style=\"text-align: right;\">\n",
       "      <th></th>\n",
       "      <th>crawl_date</th>\n",
       "    </tr>\n",
       "  </thead>\n",
       "  <tbody>\n",
       "    <tr>\n",
       "      <th>count</th>\n",
       "      <td>7.017940e+05</td>\n",
       "    </tr>\n",
       "    <tr>\n",
       "      <th>mean</th>\n",
       "      <td>2.020489e+07</td>\n",
       "    </tr>\n",
       "    <tr>\n",
       "      <th>std</th>\n",
       "      <td>4.722538e+03</td>\n",
       "    </tr>\n",
       "    <tr>\n",
       "      <th>min</th>\n",
       "      <td>2.020041e+07</td>\n",
       "    </tr>\n",
       "    <tr>\n",
       "      <th>25%</th>\n",
       "      <td>2.020081e+07</td>\n",
       "    </tr>\n",
       "    <tr>\n",
       "      <th>50%</th>\n",
       "      <td>2.020112e+07</td>\n",
       "    </tr>\n",
       "    <tr>\n",
       "      <th>75%</th>\n",
       "      <td>2.021032e+07</td>\n",
       "    </tr>\n",
       "    <tr>\n",
       "      <th>max</th>\n",
       "      <td>2.021081e+07</td>\n",
       "    </tr>\n",
       "  </tbody>\n",
       "</table>\n",
       "</div>"
      ],
      "text/plain": [
       "         crawl_date\n",
       "count  7.017940e+05\n",
       "mean   2.020489e+07\n",
       "std    4.722538e+03\n",
       "min    2.020041e+07\n",
       "25%    2.020081e+07\n",
       "50%    2.020112e+07\n",
       "75%    2.021032e+07\n",
       "max    2.021081e+07"
      ]
     },
     "execution_count": 8,
     "metadata": {},
     "output_type": "execute_result"
    }
   ],
   "source": [
    "web_text.describe()"
   ]
  }
 ],
 "metadata": {
  "kernelspec": {
   "display_name": "Python 3",
   "language": "python",
   "name": "python3"
  },
  "language_info": {
   "codemirror_mode": {
    "name": "ipython",
    "version": 3
   },
   "file_extension": ".py",
   "mimetype": "text/x-python",
   "name": "python",
   "nbconvert_exporter": "python",
   "pygments_lexer": "ipython3",
   "version": "3.7.4"
  }
 },
 "nbformat": 4,
 "nbformat_minor": 2
}
