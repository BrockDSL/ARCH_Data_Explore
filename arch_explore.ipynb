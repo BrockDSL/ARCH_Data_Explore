{
 "cells": [
  {
   "cell_type": "markdown",
   "metadata": {},
   "source": [
    "# ARCH Data Exploration"
   ]
  },
  {
   "cell_type": "markdown",
   "metadata": {},
   "source": [
    "[![Open In Colab](https://colab.research.google.com/assets/colab-badge.svg)](https://colab.research.google.com/github/BrockDSL/ARCH_Data_Explore/blob/main/arch_explore.ipynb)"
   ]
  },
  {
   "cell_type": "markdown",
   "metadata": {},
   "source": [
    "### Includes and such"
   ]
  },
  {
   "cell_type": "code",
   "execution_count": 2,
   "metadata": {},
   "outputs": [],
   "source": [
    "import pandas as pd\n"
   ]
  },
  {
   "cell_type": "markdown",
   "metadata": {},
   "source": [
    "### Option 1: Grab zip from GDocs (only need to do once) "
   ]
  },
  {
   "cell_type": "code",
   "execution_count": null,
   "metadata": {},
   "outputs": [],
   "source": [
    "!curl \"https://drive.google.com/file/d/1BHePCdN6ySr4IYY9jq1S4QNjVWgvqyCS/view?usp=sharing\" --output web-pages.csv.gz"
   ]
  },
  {
   "cell_type": "markdown",
   "metadata": {},
   "source": [
    "### Option 2: Grab Zip from Arch (only need to do once)"
   ]
  },
  {
   "cell_type": "code",
   "execution_count": null,
   "metadata": {},
   "outputs": [],
   "source": [
    "curl \"https://webdata.archive-it.org/ait/arch:cohort.ribaric/research_services/download/ARCHIVEIT-13781/WebPagesExtraction/web-pages.csv.gz?access=72QSYZMS2SWP7CHSXTU3AXU4MXYDNCOQ\" --output web-pages.csv.gz"
   ]
  },
  {
   "cell_type": "markdown",
   "metadata": {},
   "source": [
    "### Data unpack (only need to do once)"
   ]
  },
  {
   "cell_type": "code",
   "execution_count": 4,
   "metadata": {},
   "outputs": [
    {
     "name": "stdout",
     "output_type": "stream",
     "text": [
      "rm: web-pages.csv: No such file or directory\n",
      "web-pages.csv\n"
     ]
    }
   ],
   "source": [
    "!gunzip -k web-pages.csv.gz"
   ]
  },
  {
   "cell_type": "code",
   "execution_count": 3,
   "metadata": {},
   "outputs": [],
   "source": [
    "web_text = pd.read_csv(\"web-pages.csv\")"
   ]
  },
  {
   "cell_type": "code",
   "execution_count": 6,
   "metadata": {},
   "outputs": [
    {
     "data": {
      "text/html": [
       "<div>\n",
       "<style scoped>\n",
       "    .dataframe tbody tr th:only-of-type {\n",
       "        vertical-align: middle;\n",
       "    }\n",
       "\n",
       "    .dataframe tbody tr th {\n",
       "        vertical-align: top;\n",
       "    }\n",
       "\n",
       "    .dataframe thead th {\n",
       "        text-align: right;\n",
       "    }\n",
       "</style>\n",
       "<table border=\"1\" class=\"dataframe\">\n",
       "  <thead>\n",
       "    <tr style=\"text-align: right;\">\n",
       "      <th></th>\n",
       "      <th>crawl_date</th>\n",
       "      <th>domain</th>\n",
       "      <th>url</th>\n",
       "      <th>mime_type_web_server</th>\n",
       "      <th>mime_type_tika</th>\n",
       "      <th>language</th>\n",
       "      <th>content</th>\n",
       "    </tr>\n",
       "  </thead>\n",
       "  <tbody>\n",
       "    <tr>\n",
       "      <th>544125</th>\n",
       "      <td>20210402</td>\n",
       "      <td>pinterest.com</td>\n",
       "      <td>https://www.pinterest.com/quinzy2618/still-alice/</td>\n",
       "      <td>text/html</td>\n",
       "      <td>text/html</td>\n",
       "      <td>en</td>\n",
       "      <td>240 Still Alice ideas | still alice, kristen s...</td>\n",
       "    </tr>\n",
       "    <tr>\n",
       "      <th>601162</th>\n",
       "      <td>20210515</td>\n",
       "      <td>discover.brocku.ca</td>\n",
       "      <td>https://discover.brocku.ca/event-registration/...</td>\n",
       "      <td>text/html</td>\n",
       "      <td>text/html</td>\n",
       "      <td>en</td>\n",
       "      <td>Register for events – Discover Brock Universit...</td>\n",
       "    </tr>\n",
       "    <tr>\n",
       "      <th>665685</th>\n",
       "      <td>20210626</td>\n",
       "      <td>exhibits.library.brocku.ca</td>\n",
       "      <td>https://exhibits.library.brocku.ca/s/COVID-Nia...</td>\n",
       "      <td>text/html</td>\n",
       "      <td>NaN</td>\n",
       "      <td>NaN</td>\n",
       "      <td>NaN</td>\n",
       "    </tr>\n",
       "    <tr>\n",
       "      <th>598486</th>\n",
       "      <td>20210514</td>\n",
       "      <td>gobadgers.ca</td>\n",
       "      <td>https://gobadgers.ca/sports/mens-basketball/ar...</td>\n",
       "      <td>text/html</td>\n",
       "      <td>text/html</td>\n",
       "      <td>en</td>\n",
       "      <td>Men's Basketball - Story Archives - Brock Univ...</td>\n",
       "    </tr>\n",
       "    <tr>\n",
       "      <th>353689</th>\n",
       "      <td>20201121</td>\n",
       "      <td>gncc.ca</td>\n",
       "      <td>https://gncc.ca/community-event/musicnoon-reci...</td>\n",
       "      <td>text/html</td>\n",
       "      <td>text/html</td>\n",
       "      <td>en</td>\n",
       "      <td>Music@Noon Recital Series - Greater Niagara Ch...</td>\n",
       "    </tr>\n",
       "    <tr>\n",
       "      <th>261830</th>\n",
       "      <td>20200925</td>\n",
       "      <td>platform.twitter.com</td>\n",
       "      <td>https://platform.twitter.com/widgets/widget_if...</td>\n",
       "      <td>text/html</td>\n",
       "      <td>NaN</td>\n",
       "      <td>NaN</td>\n",
       "      <td>NaN</td>\n",
       "    </tr>\n",
       "    <tr>\n",
       "      <th>612487</th>\n",
       "      <td>20210522</td>\n",
       "      <td>discover.brocku.ca</td>\n",
       "      <td>https://discover.brocku.ca/event-registration/...</td>\n",
       "      <td>text/html</td>\n",
       "      <td>text/html</td>\n",
       "      <td>en</td>\n",
       "      <td>Register for events – Discover Brock Universit...</td>\n",
       "    </tr>\n",
       "    <tr>\n",
       "      <th>305057</th>\n",
       "      <td>20201024</td>\n",
       "      <td>tripadvisor.ca</td>\n",
       "      <td>https://www.tripadvisor.ca/Restaurants-g155019...</td>\n",
       "      <td>text/html</td>\n",
       "      <td>text/html</td>\n",
       "      <td>en</td>\n",
       "      <td>THE 10 BEST Restaurants in Toronto Updated Oct...</td>\n",
       "    </tr>\n",
       "    <tr>\n",
       "      <th>111237</th>\n",
       "      <td>20200626</td>\n",
       "      <td>niagaracollege.ca</td>\n",
       "      <td>https://www.niagaracollege.ca/enrolmentservices/</td>\n",
       "      <td>text/html</td>\n",
       "      <td>text/html</td>\n",
       "      <td>en</td>\n",
       "      <td>Enrolment Services | Niagara College Urgent Al...</td>\n",
       "    </tr>\n",
       "    <tr>\n",
       "      <th>514160</th>\n",
       "      <td>20210312</td>\n",
       "      <td>thehopecentre.net</td>\n",
       "      <td>https://www.thehopecentre.net/covid-19/F0GA_xO...</td>\n",
       "      <td>text/html</td>\n",
       "      <td>text/html</td>\n",
       "      <td>en</td>\n",
       "      <td>COVID 19 | The Hope Centre | Welland PLEASE DO...</td>\n",
       "    </tr>\n",
       "    <tr>\n",
       "      <th>489904</th>\n",
       "      <td>20210228</td>\n",
       "      <td>discover.brocku.ca</td>\n",
       "      <td>https://discover.brocku.ca/event-registration/...</td>\n",
       "      <td>text/html</td>\n",
       "      <td>text/html</td>\n",
       "      <td>en</td>\n",
       "      <td>Register for events – Discover Brock Universit...</td>\n",
       "    </tr>\n",
       "    <tr>\n",
       "      <th>527986</th>\n",
       "      <td>20210328</td>\n",
       "      <td>discover.brocku.ca</td>\n",
       "      <td>https://discover.brocku.ca/event-registration/...</td>\n",
       "      <td>text/html</td>\n",
       "      <td>text/html</td>\n",
       "      <td>en</td>\n",
       "      <td>Register for events – Discover Brock Universit...</td>\n",
       "    </tr>\n",
       "    <tr>\n",
       "      <th>376588</th>\n",
       "      <td>20201205</td>\n",
       "      <td>gncc.ca</td>\n",
       "      <td>https://gncc.ca/community-event/navigating-you...</td>\n",
       "      <td>text/html</td>\n",
       "      <td>text/html</td>\n",
       "      <td>en</td>\n",
       "      <td>Navigating Your Journey Workshop - Greater Nia...</td>\n",
       "    </tr>\n",
       "    <tr>\n",
       "      <th>37897</th>\n",
       "      <td>20200626</td>\n",
       "      <td>mb.moatads.com</td>\n",
       "      <td>https://mb.moatads.com/yi.js?ud=0&amp;qn=%604%7BZE...</td>\n",
       "      <td>text/html</td>\n",
       "      <td>text/plain</td>\n",
       "      <td>en</td>\n",
       "      <td>MoatNadoAllJsonpRequest_76778966({\"ab\": 106856...</td>\n",
       "    </tr>\n",
       "    <tr>\n",
       "      <th>632380</th>\n",
       "      <td>20210605</td>\n",
       "      <td>discover.brocku.ca</td>\n",
       "      <td>https://discover.brocku.ca/event-registration/...</td>\n",
       "      <td>text/html</td>\n",
       "      <td>text/html</td>\n",
       "      <td>en</td>\n",
       "      <td>Register for events – Discover Brock Universit...</td>\n",
       "    </tr>\n",
       "  </tbody>\n",
       "</table>\n",
       "</div>"
      ],
      "text/plain": [
       "        crawl_date                      domain  \\\n",
       "544125    20210402               pinterest.com   \n",
       "601162    20210515          discover.brocku.ca   \n",
       "665685    20210626  exhibits.library.brocku.ca   \n",
       "598486    20210514                gobadgers.ca   \n",
       "353689    20201121                     gncc.ca   \n",
       "261830    20200925        platform.twitter.com   \n",
       "612487    20210522          discover.brocku.ca   \n",
       "305057    20201024              tripadvisor.ca   \n",
       "111237    20200626           niagaracollege.ca   \n",
       "514160    20210312           thehopecentre.net   \n",
       "489904    20210228          discover.brocku.ca   \n",
       "527986    20210328          discover.brocku.ca   \n",
       "376588    20201205                     gncc.ca   \n",
       "37897     20200626              mb.moatads.com   \n",
       "632380    20210605          discover.brocku.ca   \n",
       "\n",
       "                                                      url  \\\n",
       "544125  https://www.pinterest.com/quinzy2618/still-alice/   \n",
       "601162  https://discover.brocku.ca/event-registration/...   \n",
       "665685  https://exhibits.library.brocku.ca/s/COVID-Nia...   \n",
       "598486  https://gobadgers.ca/sports/mens-basketball/ar...   \n",
       "353689  https://gncc.ca/community-event/musicnoon-reci...   \n",
       "261830  https://platform.twitter.com/widgets/widget_if...   \n",
       "612487  https://discover.brocku.ca/event-registration/...   \n",
       "305057  https://www.tripadvisor.ca/Restaurants-g155019...   \n",
       "111237   https://www.niagaracollege.ca/enrolmentservices/   \n",
       "514160  https://www.thehopecentre.net/covid-19/F0GA_xO...   \n",
       "489904  https://discover.brocku.ca/event-registration/...   \n",
       "527986  https://discover.brocku.ca/event-registration/...   \n",
       "376588  https://gncc.ca/community-event/navigating-you...   \n",
       "37897   https://mb.moatads.com/yi.js?ud=0&qn=%604%7BZE...   \n",
       "632380  https://discover.brocku.ca/event-registration/...   \n",
       "\n",
       "       mime_type_web_server mime_type_tika language  \\\n",
       "544125            text/html      text/html       en   \n",
       "601162            text/html      text/html       en   \n",
       "665685            text/html            NaN      NaN   \n",
       "598486            text/html      text/html       en   \n",
       "353689            text/html      text/html       en   \n",
       "261830            text/html            NaN      NaN   \n",
       "612487            text/html      text/html       en   \n",
       "305057            text/html      text/html       en   \n",
       "111237            text/html      text/html       en   \n",
       "514160            text/html      text/html       en   \n",
       "489904            text/html      text/html       en   \n",
       "527986            text/html      text/html       en   \n",
       "376588            text/html      text/html       en   \n",
       "37897             text/html     text/plain       en   \n",
       "632380            text/html      text/html       en   \n",
       "\n",
       "                                                  content  \n",
       "544125  240 Still Alice ideas | still alice, kristen s...  \n",
       "601162  Register for events – Discover Brock Universit...  \n",
       "665685                                                NaN  \n",
       "598486  Men's Basketball - Story Archives - Brock Univ...  \n",
       "353689  Music@Noon Recital Series - Greater Niagara Ch...  \n",
       "261830                                                NaN  \n",
       "612487  Register for events – Discover Brock Universit...  \n",
       "305057  THE 10 BEST Restaurants in Toronto Updated Oct...  \n",
       "111237  Enrolment Services | Niagara College Urgent Al...  \n",
       "514160  COVID 19 | The Hope Centre | Welland PLEASE DO...  \n",
       "489904  Register for events – Discover Brock Universit...  \n",
       "527986  Register for events – Discover Brock Universit...  \n",
       "376588  Navigating Your Journey Workshop - Greater Nia...  \n",
       "37897   MoatNadoAllJsonpRequest_76778966({\"ab\": 106856...  \n",
       "632380  Register for events – Discover Brock Universit...  "
      ]
     },
     "execution_count": 6,
     "metadata": {},
     "output_type": "execute_result"
    }
   ],
   "source": [
    "web_text.sample(15)"
   ]
  },
  {
   "cell_type": "code",
   "execution_count": 5,
   "metadata": {},
   "outputs": [
    {
     "data": {
      "text/plain": [
       "crawl_date              701794\n",
       "domain                  701794\n",
       "url                     701794\n",
       "mime_type_web_server    701794\n",
       "mime_type_tika          603057\n",
       "language                595893\n",
       "content                 595945\n",
       "dtype: int64"
      ]
     },
     "execution_count": 5,
     "metadata": {},
     "output_type": "execute_result"
    }
   ],
   "source": [
    "web_text.count()"
   ]
  }
 ],
 "metadata": {
  "kernelspec": {
   "display_name": "Python 3",
   "language": "python",
   "name": "python3"
  },
  "language_info": {
   "codemirror_mode": {
    "name": "ipython",
    "version": 3
   },
   "file_extension": ".py",
   "mimetype": "text/x-python",
   "name": "python",
   "nbconvert_exporter": "python",
   "pygments_lexer": "ipython3",
   "version": "3.7.4"
  }
 },
 "nbformat": 4,
 "nbformat_minor": 2
}
